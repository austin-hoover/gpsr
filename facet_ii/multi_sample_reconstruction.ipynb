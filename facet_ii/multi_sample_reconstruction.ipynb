{
 "cells": [
  {
   "cell_type": "code",
   "execution_count": 1,
   "outputs": [],
   "source": [
    "import numpy as np\n",
    "import matplotlib.pyplot as plt\n",
    "import torch\n",
    "from PIL import Image\n",
    "from skimage import color, morphology, filters\n",
    "\n",
    "\n",
    "# measurement parameters\n",
    "# quad name in bmad QM10651, PV QUAD:IN10:651:BCTRL\n",
    "# quad length 1.08e-1 m\n",
    "# quad location 16.414943 m\n",
    "\n",
    "# screen PV PROF:LI11:375\n",
    "# PR11375[alias]=OTRS:LI11:375\n",
    "# location 50.553112\n",
    "\n",
    "\n",
    "folder = \"D:/SLAC/FACET-II/emittance_scan/images/PR11375/\""
   ],
   "metadata": {
    "collapsed": false,
    "pycharm": {
     "name": "#%%\n"
    }
   }
  },
  {
   "cell_type": "markdown",
   "source": [
    "## Image processing"
   ],
   "metadata": {
    "collapsed": false,
    "pycharm": {
     "name": "#%% md\n"
    }
   }
  },
  {
   "cell_type": "code",
   "execution_count": 2,
   "outputs": [
    {
     "name": "stdout",
     "output_type": "stream",
     "text": [
      "22.278849657359288 13.021215495380213\n"
     ]
    },
    {
     "data": {
      "text/plain": "<Figure size 432x288 with 0 Axes>"
     },
     "metadata": {},
     "output_type": "display_data"
    }
   ],
   "source": [
    "raw_images = []\n",
    "for i in range(1, 11):\n",
    "    for j in range(5):\n",
    "        fname = folder + f\"PR11375_data_step{i:0>2}_{j:0>4}.tif\"\n",
    "        im = Image.open(fname)\n",
    "        raw_images += [np.array(im)[600:800, 400:600]]\n",
    "\n",
    "\n",
    "# apply filters to images\n",
    "def apply_filter(image):\n",
    "    return filters.median(image, morphology.disk(2))\n",
    "\n",
    "thresh = filters.threshold_triangle(apply_filter(raw_images[-1]))\n",
    "\n",
    "max_val = np.max(np.array(raw_images))\n",
    "\n",
    "images = []\n",
    "for im in raw_images:\n",
    "    # apply median filter\n",
    "    im = apply_filter(im)\n",
    "\n",
    "    im = np.where(im > thresh, im, 0)\n",
    "    images += [im]\n",
    "\n",
    "images = np.array(images)\n",
    "\n",
    "# create meshgrid for images\n",
    "xx = np.meshgrid(\n",
    "    np.arange(images[0].shape[0]),\n",
    "    np.arange(images[0].shape[1]),\n",
    ")\n",
    "\n",
    "plt.figure()\n",
    "\n",
    "# find centroid and rms size of images to center and crop\n",
    "cx = np.average(xx[0], weights=images.sum(axis=0))\n",
    "cy = np.average(xx[1], weights=images.sum(axis=0))\n",
    "std_x = np.sqrt(np.average((xx[0] - cx)**2, weights=images.sum(axis=0)))\n",
    "std_y = np.sqrt(np.average((xx[1] - cy)**2, weights=images.sum(axis=0)))\n",
    "print(std_x, std_y)\n",
    "\n",
    "cx = int(cx)\n",
    "cy = int(cy)\n",
    "\n",
    "# crop pixels\n",
    "std = int(max(std_y,std_x))\n",
    "margin = 3\n",
    "bounds_x = slice(*[cx - margin*std, cx + margin*std])\n",
    "bounds_y = slice(*[cy - margin*std, cy + margin*std])\n",
    "xx[0] = xx[0][bounds_x, bounds_y] - cx\n",
    "xx[1] = xx[1][bounds_x, bounds_y] - cy\n",
    "images = images[:, bounds_x, bounds_y]\n",
    "\n",
    "# pixel scaling\n",
    "xx = np.asfarray(xx) * 8.97*1e-6\n",
    "xx = xx * 10.0\n",
    "\n",
    "#for im in images:\n",
    "#    fig,ax = plt.subplots()\n",
    "#    ax.pcolor(*xx, im, vmax=max_val)\n",
    "#    ax.set_aspect(\"equal\")\n",
    "\n",
    "\n"
   ],
   "metadata": {
    "collapsed": false,
    "pycharm": {
     "name": "#%%\n"
    }
   }
  },
  {
   "cell_type": "markdown",
   "source": [
    "## reconstruction analysis"
   ],
   "metadata": {
    "collapsed": false,
    "pycharm": {
     "name": "#%% md\n"
    }
   }
  },
  {
   "cell_type": "code",
   "execution_count": 3,
   "outputs": [
    {
     "ename": "ImportError",
     "evalue": "cannot import name 'NonparametricTransform' from 'normalizing_flow' (C:\\Users\\Ryan Roussel\\Documents\\GitHub\\phase_space_reconstruction\\normalizing_flow.py)",
     "output_type": "error",
     "traceback": [
      "\u001B[1;31m---------------------------------------------------------------------------\u001B[0m",
      "\u001B[1;31mImportError\u001B[0m                               Traceback (most recent call last)",
      "Input \u001B[1;32mIn [3]\u001B[0m, in \u001B[0;36m<cell line: 16>\u001B[1;34m()\u001B[0m\n\u001B[0;32m     13\u001B[0m normal_samples \u001B[38;5;241m=\u001B[39m normal_dist\u001B[38;5;241m.\u001B[39msample([\u001B[38;5;241m10000\u001B[39m])\u001B[38;5;241m.\u001B[39mto(\u001B[38;5;241m*\u001B[39m\u001B[38;5;241m*\u001B[39mtkwargs)\n\u001B[0;32m     15\u001B[0m \u001B[38;5;66;03m# define nonparametric transform\u001B[39;00m\n\u001B[1;32m---> 16\u001B[0m \u001B[38;5;28;01mfrom\u001B[39;00m \u001B[38;5;21;01mnormalizing_flow\u001B[39;00m \u001B[38;5;28;01mimport\u001B[39;00m NonparametricTransform, image_difference_loss\n\u001B[0;32m     18\u001B[0m tnf \u001B[38;5;241m=\u001B[39m NonparametricTransform()\n\u001B[0;32m     19\u001B[0m tnf\u001B[38;5;241m.\u001B[39mto(tkwargs[\u001B[38;5;124m\"\u001B[39m\u001B[38;5;124mdevice\u001B[39m\u001B[38;5;124m\"\u001B[39m])\n",
      "\u001B[1;31mImportError\u001B[0m: cannot import name 'NonparametricTransform' from 'normalizing_flow' (C:\\Users\\Ryan Roussel\\Documents\\GitHub\\phase_space_reconstruction\\normalizing_flow.py)"
     ]
    }
   ],
   "source": [
    "import torch\n",
    "# convert image data to tensors\n",
    "tkwargs = {\"device\":\"cuda\", \"dtype\": torch.float32}\n",
    "xxt = torch.tensor(xx, **tkwargs)\n",
    "\n",
    "# scale images such that the sum is 1\n",
    "timages = torch.tensor(np.array(images, dtype=int), **tkwargs)\n",
    "timages = timages / timages.sum(dim=-1).sum(dim=-1).unsqueeze(1).unsqueeze(1)\n",
    "# define a unit multivariate normal\n",
    "from torch.distributions import MultivariateNormal\n",
    "\n",
    "normal_dist = MultivariateNormal(torch.zeros(6), torch.eye(6))\n",
    "normal_samples = normal_dist.sample([10000]).to(**tkwargs)\n",
    "\n",
    "# define nonparametric transform\n",
    "from normalizing_flow import NonparametricTransform, image_difference_loss\n",
    "\n",
    "tnf = NonparametricTransform()\n",
    "tnf.to(tkwargs[\"device\"])\n",
    "\n",
    "defaults = {\n",
    "    \"s\": torch.tensor(0.0, **tkwargs),\n",
    "    \"p0c\": torch.tensor(1.0, **tkwargs),\n",
    "    \"mc2\": torch.tensor(1.0, **tkwargs),\n",
    "}\n",
    "\n",
    "k_in = torch.linspace(-10, 20, 10, **tkwargs)\n",
    "k_in = torch.vstack([k_in.unsqueeze(0) for _ in range(5)]).T.flatten().unsqueeze(1)\n",
    "bins = xxt[0][0]\n",
    "bandwidth = torch.tensor(5e-4, **tkwargs)\n",
    "\n",
    "from track import Particle, Quadrupole, Drift, Lattice\n",
    "quad = Quadrupole(torch.tensor(0.1, **tkwargs), K1=k_in)\n",
    "drift = Drift(L=torch.tensor(1.0, **tkwargs))\n",
    "lattice = Lattice([quad, drift], torch)"
   ],
   "metadata": {
    "collapsed": false,
    "pycharm": {
     "name": "#%%\n"
    }
   }
  },
  {
   "cell_type": "code",
   "execution_count": null,
   "outputs": [],
   "source": [
    "import time\n",
    "optim = torch.optim.Adam(tnf.parameters(), lr=0.001)\n",
    "n_iter = 2000\n",
    "losses = []\n",
    "\n",
    "start = time.time()\n",
    "for i in range(n_iter):\n",
    "    optim.zero_grad(set_to_none=True)\n",
    "    guess_dist = Particle(*tnf(normal_samples).T, **defaults)\n",
    "\n",
    "    loss = image_difference_loss(\n",
    "        guess_dist, timages, lattice, bins=bins, bandwidth=bandwidth\n",
    "    )\n",
    "    losses += [loss.cpu().detach()]\n",
    "    loss.backward()\n",
    "\n",
    "    optim.step()\n",
    "finish = time.time()\n",
    "\n",
    "print(f\"total time: {finish - start}\")\n",
    "print(f\"{(finish - start) / n_iter} s per step\")\n"
   ],
   "metadata": {
    "collapsed": false,
    "pycharm": {
     "name": "#%%\n"
    }
   }
  },
  {
   "cell_type": "code",
   "execution_count": null,
   "outputs": [],
   "source": [
    "fig, ax = plt.subplots()\n",
    "ax.semilogy(losses)\n",
    "min(losses)"
   ],
   "metadata": {
    "collapsed": false,
    "pycharm": {
     "name": "#%%\n"
    }
   }
  },
  {
   "cell_type": "code",
   "execution_count": null,
   "outputs": [],
   "source": [
    "guess_dist = Particle(*tnf(normal_samples).T, **defaults)\n",
    "\n",
    "loss = image_difference_loss(\n",
    "    guess_dist, timages, lattice, bins=bins, bandwidth=bandwidth, plot_images=True,\n",
    "    n_images=50\n",
    ")\n",
    "fig = plt.gcf()\n",
    "fig.set_size_inches(10,50)\n",
    "ax = fig.axes\n",
    "ax[-2].set_xlabel(\"x (m)\")\n",
    "ax[-1].set_xlabel(\"x (m)\")\n",
    "\n",
    "ax[-2].set_ylabel(\"y (m)\")\n",
    "ax[-4].set_ylabel(\"y (m)\")\n",
    "ax[-6].set_ylabel(\"y (m)\")\n",
    "ax[-8].set_ylabel(\"y (m)\")\n",
    "ax[0].set_ylabel(\"y (m)\")\n",
    "\n",
    "fig.savefig(\"images.png\")"
   ],
   "metadata": {
    "collapsed": false,
    "pycharm": {
     "name": "#%%\n"
    }
   }
  },
  {
   "cell_type": "code",
   "execution_count": null,
   "outputs": [],
   "source": [
    "guess_dist = Particle(*tnf(normal_dist.sample([100000]).to(**tkwargs)).T.cpu().detach(), **defaults)\n",
    "plt.hist2d(guess_dist.x.numpy(), guess_dist.px.numpy(),bins=200);"
   ],
   "metadata": {
    "collapsed": false,
    "pycharm": {
     "name": "#%%\n"
    }
   }
  },
  {
   "cell_type": "code",
   "execution_count": null,
   "outputs": [],
   "source": [
    "guess_dist = Particle(*tnf(normal_dist.sample([100000]).to(**tkwargs)).T.cpu().detach(), **defaults)\n",
    "plt.hist2d(guess_dist.x.numpy(), guess_dist.y.numpy(),bins=200);"
   ],
   "metadata": {
    "collapsed": false,
    "pycharm": {
     "name": "#%%\n"
    }
   }
  },
  {
   "cell_type": "code",
   "execution_count": null,
   "outputs": [],
   "source": [
    "guess_dist = Particle(*tnf(normal_dist.sample([100000]).to(**tkwargs)).T.cpu().detach(), **defaults)\n",
    "plt.hist2d(guess_dist.y.numpy(), guess_dist.py.numpy(),bins=200);"
   ],
   "metadata": {
    "collapsed": false,
    "pycharm": {
     "name": "#%%\n"
    }
   }
  },
  {
   "cell_type": "code",
   "execution_count": null,
   "outputs": [],
   "source": [],
   "metadata": {
    "collapsed": false,
    "pycharm": {
     "name": "#%%\n"
    }
   }
  }
 ],
 "metadata": {
  "kernelspec": {
   "display_name": "Python 3",
   "language": "python",
   "name": "python3"
  },
  "language_info": {
   "codemirror_mode": {
    "name": "ipython",
    "version": 2
   },
   "file_extension": ".py",
   "mimetype": "text/x-python",
   "name": "python",
   "nbconvert_exporter": "python",
   "pygments_lexer": "ipython2",
   "version": "2.7.6"
  }
 },
 "nbformat": 4,
 "nbformat_minor": 0
}