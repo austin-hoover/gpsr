{
 "cells": [
  {
   "cell_type": "code",
   "execution_count": 1,
   "id": "0143cf5d-d8be-4095-8e73-e2e30a6879a2",
   "metadata": {
    "pycharm": {
     "name": "#%%\n"
    }
   },
   "outputs": [
    {
     "name": "stderr",
     "output_type": "stream",
     "text": [
      "/global/homes/r/rroussel/.conda/envs/phase_space_reconstruction/lib/python3.10/site-packages/tqdm/auto.py:22: TqdmWarning: IProgress not found. Please update jupyter and ipywidgets. See https://ipywidgets.readthedocs.io/en/stable/user_install.html\n",
      "  from .autonotebook import tqdm as notebook_tqdm\n"
     ]
    },
    {
     "name": "stdout",
     "output_type": "stream",
     "text": [
      "torch.Size([20, 3, 180, 180])\n",
      "torch.Size([20, 3])\n",
      "torch.Size([180])\n"
     ]
    }
   ],
   "source": [
    "import torch\n",
    "from copy import deepcopy\n",
    "from torch.utils.data import DataLoader, Dataset, random_split\n",
    "from torchensemble import VotingRegressor, SnapshotEnsembleRegressor\n",
    "import matplotlib.pyplot as plt\n",
    "from fitting import create_ensemble, get_data, get_datasets\n",
    "\n",
    "import sys\n",
    "sys.path.append(\"../\")\n",
    "\n",
    "folder = \"\"\n",
    "save_dir = \"alpha_1000_snapshot\"\n",
    "all_k, all_images, bins, xx = get_data(folder)\n",
    "train_dset, test_dset = get_datasets(all_k, all_images, save_dir)\n",
    "\n",
    "bandwidth = torch.tensor(0.0)\n",
    "ensemble = create_ensemble(bins, bandwidth)\n",
    "\n",
    "from torchensemble.utils import io\n",
    "io.load(ensemble, save_dir)\n",
    "ensemble = ensemble\n",
    "ensemble.cuda();"
   ]
  },
  {
   "cell_type": "code",
   "execution_count": 2,
   "id": "6191f79f-3534-44c8-85ae-bf2b4e9ad46f",
   "metadata": {
    "pycharm": {
     "name": "#%%\n"
    }
   },
   "outputs": [
    {
     "data": {
      "text/plain": [
       "tensor(0.0002)"
      ]
     },
     "execution_count": 2,
     "metadata": {},
     "output_type": "execute_result"
    }
   ],
   "source": [
    "bins[1] - bins[0]"
   ]
  },
  {
   "cell_type": "code",
   "execution_count": 3,
   "id": "57dbd758-8870-4d22-a85f-af9f9d746017",
   "metadata": {
    "pycharm": {
     "name": "#%%\n"
    }
   },
   "outputs": [],
   "source": [
    "train_k = train_dset.k\n",
    "train_k = train_k.cuda()\n",
    "\n",
    "train_im = train_dset.images\n",
    "train_im = train_im.cpu()\n",
    "\n",
    "test_k = test_dset.k\n",
    "test_k = test_k.cuda()\n",
    "\n",
    "test_im = test_dset.images\n",
    "test_im = test_im.cpu()"
   ]
  },
  {
   "cell_type": "code",
   "execution_count": 4,
   "id": "0dcd81aa-aa8f-4d1f-a3b2-09c474b7df6e",
   "metadata": {
    "pycharm": {
     "name": "#%%\n"
    }
   },
   "outputs": [],
   "source": [
    "recompute_images = True\n",
    "with torch.no_grad():\n",
    "    if recompute_images:\n",
    "        dist = torch.distributions.MultivariateNormal(torch.zeros(6), torch.eye(6))\n",
    "        custom_beam = dist.sample([100000]).cuda()\n",
    "\n",
    "        model_pred = torch.cat(\n",
    "            [ensemble[i](all_k[:,:1].cuda())[0].unsqueeze(0) for i in range(len(ensemble))]\n",
    "        )\n",
    "        model_pred = torch.transpose(model_pred.squeeze(dim=2), 0,1)\n",
    "        model_pred = model_pred.cpu().detach()\n",
    "\n",
    "        #torch.save(train_pred, \"train_pred_images.pt\")\n",
    "        #torch.save(test_pred, \"test_pred_images.pt\")\n",
    "    else:\n",
    "        pass\n",
    "        #train_pred = torch.load(\"train_pred_images.pt\")\n",
    "        #test_pred = torch.load(\"test_pred_images.pt\")"
   ]
  },
  {
   "cell_type": "code",
   "execution_count": 5,
   "id": "e52200ac-643d-4d4f-96a4-bdcfb5518dab",
   "metadata": {
    "pycharm": {
     "name": "#%%\n"
    }
   },
   "outputs": [],
   "source": [
    "# generate beams from model\n",
    "pred_initial_beams = [ele.beam_generator() for ele in ensemble]\n"
   ]
  },
  {
   "cell_type": "code",
   "execution_count": null,
   "id": "f91d6cdc",
   "metadata": {
    "collapsed": false,
    "jupyter": {
     "outputs_hidden": false
    },
    "pycharm": {
     "name": "#%%\n"
    }
   },
   "outputs": [],
   "source": []
  },
  {
   "cell_type": "code",
   "execution_count": 26,
   "id": "75c9ff5b-d063-4a11-9803-a5d626d684f7",
   "metadata": {
    "pycharm": {
     "name": "#%%\n"
    }
   },
   "outputs": [
    {
     "name": "stdout",
     "output_type": "stream",
     "text": [
      "torch.Size([20, 3, 180, 180])\n",
      "tensor(0.0031, device='cuda:0', grad_fn=<StdBackward0>)\n",
      "tensor(0.0046, device='cuda:0', grad_fn=<StdBackward0>)\n"
     ]
    },
    {
     "data": {
      "image/png": "[encoded data removed]",
      "text/plain": [
       "<Figure size 576x216 with 35 Axes>"
      ]
     },
     "metadata": {
      "needs_background": "light"
     },
     "output_type": "display_data"
    }
   ],
   "source": [
    "from visualization import add_image, add_projection, add_image_projection\n",
    "import numpy as np\n",
    "import matplotlib.gridspec as gridspec\n",
    "from matplotlib.axes import SubplotBase\n",
    "\n",
    "print(all_images.shape)\n",
    "plot_bins = bins\n",
    "#plot_bins = plot_bins * 1e3\n",
    "\n",
    "linewidth=1.0\n",
    "\n",
    "idxs = np.arange(0,20,3)\n",
    "plot_bins = bins\n",
    "extent = 10\n",
    "im_vmax = all_images.max().cpu() * 0.7\n",
    "\n",
    "fig,ax = plt.subplots(3,len(idxs), sharex=\"all\",sharey=\"all\")\n",
    "fig.subplots_adjust(wspace=0.1, right=0.975, top=0.975, hspace=0.1)\n",
    "fig.set_size_inches(8,3)\n",
    "\n",
    "for j, idx in enumerate(idxs):\n",
    "\n",
    "    ax[0][j].pcolor(xx[0]*1e3,xx[1]*1e3, all_images[idx,0].cpu(),vmax=im_vmax*1.1)\n",
    "    ax[1][j].pcolor(xx[0]*1e3,xx[1]*1e3, model_pred[idx,0].cpu(),vmax=im_vmax*1.1)\n",
    "\n",
    "    ax[0][j].collections[0].set_rasterized(True)\n",
    "\n",
    "    colors = [\"C0\",\"C1\"]\n",
    "    axa = ax[2][j].twinx()\n",
    "    axb = ax[2][j].twiny()\n",
    "    \n",
    "    for h, ele in enumerate([all_images.cpu(), model_pred.cpu()]):\n",
    "        axa = add_image_projection(axa, ele[idx], plot_bins, \"x\", scale_x=1e3,c=colors[h])\n",
    "        axb = add_image_projection(axb, ele[idx], plot_bins, \"y\", scale_x=1e3, c=colors[h])\n",
    "        \n",
    "        \n",
    "       \n",
    "    for ele in [axa,axb]:\n",
    "        for line in ele.get_lines():\n",
    "            line.set(linewidth=linewidth)    \n",
    "        ele.get_lines()[0].set(zorder=0)\n",
    "        \n",
    "    axa.set_ylim(0, axa.get_ylim()[-1]*3.0)\n",
    "    axb.set_xlim(0, axb.get_xlim()[-1]*3.0)\n",
    "    axa.set_yticks([])\n",
    "    axb.set_xticks([])\n",
    "\n",
    "\n",
    "    ax[0][j].set_xlim(-extent,extent)\n",
    "    ax[0][j].set_ylim(-extent,extent)\n",
    "    ax[1][j].set_ylim(-extent,extent)\n",
    "\n",
    "# set rasterization for pcolor\n",
    "for k in range(ax.shape[-1]):\n",
    "    ax[0,k].collections[0].set_rasterized(True)\n",
    "    ax[1,k].collections[0].set_rasterized(True)\n",
    "\n",
    "for a in ax[-1,:]:\n",
    "    a.set_xlabel('x (mm)')\n",
    "    a.set_xticks([-7,0,7])\n",
    "    \n",
    "for a in ax[:,0]:\n",
    "    a.set_ylabel(\"y (mm)\")\n",
    "    a.set_yticks([-7,0,7])\n",
    "\n",
    "\n",
    "print(pred_initial_beams[0].z.std())\n",
    "print(pred_initial_beams[0].pz.std())\n",
    "\n",
    "    \n",
    "#fig.tight_layout()\n",
    "\n",
    "fig.savefig(\"supp.svg\")"
   ]
  },
  {
   "cell_type": "code",
   "execution_count": 7,
   "id": "26681859-0e42-4f1e-b0a0-26a48795ca64",
   "metadata": {},
   "outputs": [
    {
     "name": "stdout",
     "output_type": "stream",
     "text": [
      "torch.Size([20, 3, 180, 180])\n"
     ]
    },
    {
     "ename": "NameError",
     "evalue": "name 'gt_initial_beam' is not defined",
     "output_type": "error",
     "traceback": [
      "\u001b[0;31m---------------------------------------------------------------------------\u001b[0m",
      "\u001b[0;31mNameError\u001b[0m                                 Traceback (most recent call last)",
      "Input \u001b[0;32mIn [7]\u001b[0m, in \u001b[0;36m<cell line: 13>\u001b[0;34m()\u001b[0m\n\u001b[1;32m     17\u001b[0m \u001b[38;5;28;01mif\u001b[39;00m pair \u001b[38;5;241m==\u001b[39m [\u001b[38;5;124m\"\u001b[39m\u001b[38;5;124mx\u001b[39m\u001b[38;5;124m\"\u001b[39m,\u001b[38;5;124m\"\u001b[39m\u001b[38;5;124mpz\u001b[39m\u001b[38;5;124m\"\u001b[39m]:\n\u001b[1;32m     18\u001b[0m     plot_bins \u001b[38;5;241m=\u001b[39m [bins]\u001b[38;5;241m*\u001b[39m\u001b[38;5;241m2\u001b[39m\n\u001b[0;32m---> 21\u001b[0m _, gt_image \u001b[38;5;241m=\u001b[39m add_image(ax[\u001b[38;5;241m0\u001b[39m][g], \u001b[38;5;241m*\u001b[39mpair, [\u001b[43mgt_initial_beam\u001b[49m], plot_bins,\n\u001b[1;32m     22\u001b[0m                         scale_axis\u001b[38;5;241m=\u001b[39mscale,vmax\u001b[38;5;241m=\u001b[39mvmax)\n\u001b[1;32m     25\u001b[0m \u001b[38;5;28;01mif\u001b[39;00m pair[\u001b[38;5;241m-\u001b[39m\u001b[38;5;241m1\u001b[39m]\u001b[38;5;241m==\u001b[39m\u001b[38;5;124m\"\u001b[39m\u001b[38;5;124my\u001b[39m\u001b[38;5;124m\"\u001b[39m:\n\u001b[1;32m     26\u001b[0m     \u001b[38;5;28;01mfor\u001b[39;00m a \u001b[38;5;129;01min\u001b[39;00m ax[:,g]:\n",
      "\u001b[0;31mNameError\u001b[0m: name 'gt_initial_beam' is not defined"
     ]
    },
    {
     "data": {
      "image/png": "[encoded data removed]",
      "text/plain": [
       "<Figure size 576x216 with 12 Axes>"
      ]
     },
     "metadata": {
      "needs_background": "light"
     },
     "output_type": "display_data"
    }
   ],
   "source": [
    "pairs = [[\"x\",\"y\"],[\"y\",\"py\"],[\"x\",\"px\"],[\"x\",\"py\"],[\"y\",\"px\"],[\"x\",\"pz\"]]\n",
    "\n",
    "fig,ax = plt.subplots(2,len(pairs), sharex=\"col\",sharey=\"row\")\n",
    "fig.subplots_adjust(wspace=0.35, right=0.975, top=0.975, hspace=0.1)\n",
    "fig.set_size_inches(8,3)\n",
    "    \n",
    "print(all_images.shape)\n",
    "plot_bins = bins\n",
    "#plot_bins = plot_bins * 1e3\n",
    "\n",
    "vmax = None\n",
    "linewidth=1.0\n",
    "for g, pair in enumerate(pairs):\n",
    "    \n",
    "    plot_bins = [bins]*2\n",
    "    scale = 1e3\n",
    "    if pair == [\"x\",\"pz\"]:\n",
    "        plot_bins = [bins]*2\n",
    "    \n",
    "    \n",
    "    _, gt_image = add_image(ax[0][g], *pair, [gt_initial_beam], plot_bins,\n",
    "                            scale_axis=scale,vmax=vmax)\n",
    "\n",
    "\n",
    "    if pair[-1]==\"y\":\n",
    "        for a in ax[:,g]:\n",
    "            a.set_ylabel(\"$y$ (mm)\")\n",
    "    elif pair[-1]==\"py\":\n",
    "        for a in ax[:,g]:\n",
    "            a.set_ylabel(\"$p_y$ (mrad)\")\n",
    "    elif pair[-1]==\"px\":\n",
    "        for a in ax[:,g]:\n",
    "            a.set_ylabel(\"$p_x$ (mrad)\")\n",
    "            \n",
    "    ax[-1][g].set_xlabel(pair[0] + \" (mm)\")\n",
    "            \n",
    "    \n",
    "\n",
    "    # x projections\n",
    "    max_dens = 250\n",
    "    axa = ax[-1][g].twinx()\n",
    "    add_projection(axa, pair[0], [gt_initial_beam], plot_bins[0], x_scale=scale, y_scale=1)\n",
    "    axa.set_ylim(0,max_dens)\n",
    "    axa.set_yticks([])\n",
    "    \n",
    "    # y projections\n",
    "    axb = ax[-1][g].twiny()\n",
    "    add_projection(axb, pair[1], [gt_initial_beam], plot_bins[1],axis=\"y\",x_scale=scale, y_scale=1)\n",
    "    axb.set_xlim(0,max_dens)\n",
    "    axb.set_xticks([])\n",
    "    \n",
    "    for ele in [axa,axb]:\n",
    "        for line in ele.get_lines():\n",
    "            line.set(linewidth=linewidth)    \n",
    "        ele.get_lines()[0].set(zorder=0)\n",
    "\n"
   ]
  },
  {
   "cell_type": "code",
   "execution_count": null,
   "id": "2d4a588b-689e-4cb1-8004-a65e97228a87",
   "metadata": {},
   "outputs": [],
   "source": []
  }
 ],
 "metadata": {
  "kernelspec": {
   "display_name": "Python 3 (ipykernel)",
   "language": "python",
   "name": "python3"
  },
  "language_info": {
   "codemirror_mode": {
    "name": "ipython",
    "version": 3
   },
   "file_extension": ".py",
   "mimetype": "text/x-python",
   "name": "python",
   "nbconvert_exporter": "python",
   "pygments_lexer": "ipython3",
   "version": "3.10.4"
  }
 },
 "nbformat": 4,
 "nbformat_minor": 5
}
