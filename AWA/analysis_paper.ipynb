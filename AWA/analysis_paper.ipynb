{
 "cells": [
  {
   "cell_type": "code",
   "execution_count": null,
   "outputs": [],
   "source": [
    "import torch\n",
    "from copy import deepcopy\n",
    "from torch.utils.data import DataLoader, Dataset, random_split\n",
    "from torchensemble import VotingRegressor, SnapshotEnsembleRegressor\n",
    "import matplotlib.pyplot as plt\n",
    "from fitting import create_ensemble, CustomLoss, get_data, get_datasets\n",
    "\n",
    "import sys\n",
    "sys.path.append(\"../\")\n",
    "\n",
    "folder = \"\"\n",
    "save_dir = \"alpha_1e-3\"\n",
    "all_k, all_images, bins, xx = get_data(folder)\n",
    "\n",
    "\n",
    "bandwidth = torch.tensor(0.0)\n",
    "ensemble = create_ensemble(bins, bandwidth)\n",
    "\n",
    "from torchensemble.utils import io\n",
    "io.load(ensemble, save_dir)\n",
    "ensemble = ensemble\n",
    "ensemble.cuda();"
   ],
   "metadata": {
    "collapsed": false,
    "pycharm": {
     "name": "#%%\n"
    }
   }
  },
  {
   "cell_type": "code",
   "execution_count": null,
   "outputs": [],
   "source": [
    "all_k.shape"
   ],
   "metadata": {
    "collapsed": false,
    "pycharm": {
     "name": "#%%\n"
    }
   }
  },
  {
   "cell_type": "code",
   "execution_count": null,
   "outputs": [],
   "source": [
    "recompute_images = True\n",
    "with torch.no_grad():\n",
    "    if recompute_images:\n",
    "        dist = torch.distributions.MultivariateNormal(torch.zeros(6), torch.eye(6))\n",
    "        custom_beam = dist.sample([100000]).cuda()\n",
    "\n",
    "        model_pred = torch.cat(\n",
    "            [ensemble[i](all_k[:,:1].cuda())[0].unsqueeze(0) for i in range(len\n",
    "                                                                          (ensemble))]\n",
    "        )\n",
    "        model_pred = torch.transpose(model_pred.squeeze(dim=2), 0,1)\n",
    "        model_pred = model_pred.cpu().detach()\n",
    "\n",
    "        torch.save(model_pred, \"model_pred_images.pt\")\n",
    "    else:\n",
    "        model_pred = torch.load(\"model_pred_images.pt\")\n"
   ],
   "metadata": {
    "collapsed": false,
    "pycharm": {
     "name": "#%%\n"
    }
   }
  },
  {
   "cell_type": "code",
   "execution_count": null,
   "outputs": [],
   "source": [
    "# compare initial beam distributions\n",
    "from torch_track import Beam\n",
    "\n",
    "# generate beams from model\n",
    "pred_initial_beams = [ele.beam_generator() for ele in ensemble]\n"
   ],
   "metadata": {
    "collapsed": false,
    "pycharm": {
     "name": "#%%\n"
    }
   }
  },
  {
   "cell_type": "code",
   "execution_count": null,
   "outputs": [],
   "source": [
    "from visualization import add_image, add_projection, add_image_projection\n",
    "from utils import calc_rms_size\n",
    "import numpy as np\n",
    "import matplotlib.gridspec as gridspec\n",
    "from matplotlib.axes import SubplotBase\n",
    "\n",
    "\n",
    "# create gridspec\n",
    "def create_figure():\n",
    "    fig,axes = plt.subplots(3, 5)\n",
    "    fig.subplots_adjust(wspace=0.35, right=0.975, top=0.975)\n",
    "    fig.set_size_inches(8,4)\n",
    "    gs = axes[-2,-2].get_gridspec()\n",
    "    for ax in axes[-2:,-2:].flatten():\n",
    "        ax.remove()\n",
    "    axbig = fig.add_subplot(gs[-2:,-2:])\n",
    "\n",
    "    return fig, axes, axbig\n",
    "\n",
    "pred_initial_beams = [ele.beam_generator() for ele in ensemble]\n"
   ],
   "metadata": {
    "collapsed": false,
    "pycharm": {
     "name": "#%%\n"
    }
   }
  },
  {
   "cell_type": "code",
   "execution_count": null,
   "outputs": [],
   "source": [
    "# choose image indexes for comparison\n",
    "image_idxs = [5,-5]\n",
    "image_vmax = None\n",
    "image_bins = bins\n",
    "image_linewidth = 1\n",
    "\n",
    "# choose phase spaces to plot\n",
    "phase_spaces = [[\"x\",\"y\"],[\"x\",\"xp\"],[\"y\",\"yp\"],[\"x\",\"yp\"],[\"y\",\"xp\"]]\n",
    "phase_space_bins = bins / 2\n",
    "\n",
    "# quad scan\n",
    "quad_scan_scale = 1e6\n",
    "\n",
    "# generate plot skeleton\n",
    "fig, axes, axbig = create_figure()\n",
    "\n",
    "# add images to plot\n",
    "for j, idx in enumerate(image_idxs):\n",
    "\n",
    "    axes[0][j].pcolor(xx[0]*1e3,xx[1]*1e3, all_images[idx,0].cpu(),vmax=image_vmax)\n",
    "    axes[1][j].pcolor(xx[0]*1e3,xx[1]*1e3, model_pred[idx,0].cpu(),vmax=image_vmax)\n",
    "\n",
    "    axes[0][j].collections[0].set_rasterized(True)\n",
    "\n",
    "    colors = [\"C0\",\"C1\"]\n",
    "    axa = axes[2][j].twinx()\n",
    "    axb = axes[2][j].twiny()\n",
    "\n",
    "    for h, ele in enumerate([all_images.cpu(), model_pred.cpu()]):\n",
    "        axa = add_image_projection(axa, ele[idx], image_bins, \"x\", scale_x=1e3,\n",
    "                                   c=colors[h])\n",
    "        axb = add_image_projection(axb, ele[idx], image_bins, \"y\", scale_x=1e3, c=colors[h])\n",
    "\n",
    "    for ele in [axa,axb]:\n",
    "        for line in ele.get_lines():\n",
    "            line.set(linewidth=image_linewidth)\n",
    "        ele.get_lines()[0].set(zorder=0)\n",
    "\n",
    "    axa.set_ylim(0, axa.get_ylim()[-1]*3.0)\n",
    "    axb.set_xlim(0, axb.get_xlim()[-1]*3.0)\n",
    "    axa.set_yticks([])\n",
    "    axb.set_xticks([])\n",
    "\n",
    "for ax in axes[:,0]:\n",
    "    ax.set_ylabel(\"y (mm)\")\n",
    "\n",
    "for ax in axes[-1, :2]:\n",
    "    ax.set_xlabel(\"x (mm)\")\n",
    "\n",
    "for ax in axes[:,1]:\n",
    "    ax.set_yticklabels([])\n",
    "for ax in axes[:2, :2].flatten():\n",
    "    ax.set_xticklabels([])\n",
    "\n",
    "# get list of axes for plotting the phase space projections\n",
    "ph_axes = [*axes[:,2], axes[0,3], axes[0,4]]\n",
    "# add phase space projections\n",
    "for ax, pair in zip(ph_axes, phase_spaces):\n",
    "    _, pred_image = add_image(ax, *pair, pred_initial_beams, [phase_space_bins]*2,\n",
    "                              scale_axis=1e3)\n",
    "    ax.set_xlabel(pair[0])\n",
    "    ax.set_ylabel(pair[1])\n",
    "\n",
    "\n",
    "# add quad scan results\n",
    "quad_scan_ax = axbig\n",
    "means, variances = calc_rms_size(xx, all_images.cpu())\n",
    "pmeans, pvariances = calc_rms_size(xx, model_pred)\n",
    "\n",
    "\n",
    "k = all_k[:, 0].cpu()\n",
    "mean_variance = torch.mean(variances, dim=-2).cpu() * quad_scan_scale\n",
    "error_variance = torch.std(variances, dim=-2).cpu() * quad_scan_scale\n",
    "\n",
    "quad_scan_ax.errorbar(k, mean_variance[...,0], error_variance[...,0],capsize=5,ls='', label=\"true_x\")\n",
    "quad_scan_ax.errorbar(k, mean_variance[...,1], error_variance[...,1],capsize=5,ls='', label=\"true_y\")\n",
    "\n",
    "mean_pvariance = torch.mean(pvariances, dim=-2) * quad_scan_scale\n",
    "error_pvariance = torch.std(pvariances, dim=-2) * quad_scan_scale\n",
    "\n",
    "quad_scan_ax.errorbar(k, mean_pvariance[...,0], error_pvariance[...,0],capsize=5,ls='', label=\"pred_x\")\n",
    "quad_scan_ax.errorbar(k, mean_pvariance[...,1], error_pvariance[...,1],capsize=5,ls='', label=\"pred_y\")\n",
    "\n",
    "quad_scan_ax.set_xlabel(\"k (m$^{-2}$)\")\n",
    "quad_scan_ax.set_ylabel(\"$\\sigma$ (mm$^2$)\")\n",
    "quad_scan_ax.legend()\n"
   ],
   "metadata": {
    "collapsed": false,
    "pycharm": {
     "name": "#%%\n"
    }
   }
  },
  {
   "cell_type": "code",
   "execution_count": null,
   "id": "863df7af",
   "metadata": {
    "collapsed": false,
    "jupyter": {
     "outputs_hidden": false
    },
    "pycharm": {
     "name": "#%%\n"
    }
   },
   "outputs": [],
   "source": []
  }
 ],
 "metadata": {
  "kernelspec": {
   "display_name": "Python 3 (ipykernel)",
   "language": "python",
   "name": "python3"
  },
  "language_info": {
   "codemirror_mode": {
    "name": "ipython",
    "version": 3
   },
   "file_extension": ".py",
   "mimetype": "text/x-python",
   "name": "python",
   "nbconvert_exporter": "python",
   "pygments_lexer": "ipython3",
   "version": "3.10.4"
  }
 },
 "nbformat": 4,
 "nbformat_minor": 5
}