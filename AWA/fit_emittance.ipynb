{
 "cells": [
  {
   "cell_type": "code",
   "execution_count": 1,
   "metadata": {
    "collapsed": true,
    "pycharm": {
     "name": "#%%\n"
    }
   },
   "outputs": [],
   "source": [
    "import torch\n",
    "import matplotlib.pyplot as plt\n",
    "import sys\n",
    "sys.path.append(\"../../emittance/\")\n",
    "\n",
    "from normalized_scalar_model import model\n",
    "from training import train\n",
    "from pyro.infer import Predictive\n",
    "from pyro.infer.autoguide import AutoNormal\n",
    "\n",
    "k = torch.load(\"kappa.pt\")[:-1]\n",
    "beam_size = torch.load(\"variances.pt\")"
   ]
  },
  {
   "cell_type": "code",
   "execution_count": 2,
   "outputs": [
    {
     "data": {
      "text/plain": "torch.Size([20, 3, 2])"
     },
     "execution_count": 2,
     "metadata": {},
     "output_type": "execute_result"
    }
   ],
   "source": [
    "beam_size.shape"
   ],
   "metadata": {
    "collapsed": false,
    "pycharm": {
     "name": "#%%\n"
    }
   }
  },
  {
   "cell_type": "code",
   "execution_count": 3,
   "outputs": [
    {
     "data": {
      "text/plain": "[<matplotlib.lines.Line2D at 0x1e98ce60370>]"
     },
     "execution_count": 3,
     "metadata": {},
     "output_type": "execute_result"
    },
    {
     "data": {
      "text/plain": "<Figure size 432x288 with 1 Axes>",
      "image/png": "[encoded data removed]"
     },
     "metadata": {
      "needs_background": "light"
     },
     "output_type": "display_data"
    }
   ],
   "source": [
    "fig,ax = plt.subplots()\n",
    "ax.plot(k[:,:3].flatten(), beam_size[...,0].flatten(),'o')"
   ],
   "metadata": {
    "collapsed": false,
    "pycharm": {
     "name": "#%%\n"
    }
   }
  },
  {
   "cell_type": "code",
   "execution_count": 7,
   "outputs": [
    {
     "name": "stdout",
     "output_type": "stream",
     "text": [
      "[iter 0]  loss: 26995.3268\n",
      "[iter 50]  loss: 244.3705\n",
      "[iter 100]  loss: 118.2027\n",
      "[iter 150]  loss: 89.5505\n",
      "[iter 200]  loss: 88.0195\n",
      "[iter 250]  loss: 5.7651\n",
      "[iter 300]  loss: -3.4366\n",
      "[iter 350]  loss: -8.3912\n",
      "[iter 400]  loss: -4.0236\n",
      "[iter 450]  loss: -8.2745\n",
      "[iter 500]  loss: -10.9239\n",
      "[iter 550]  loss: -10.0656\n",
      "[iter 600]  loss: -12.0965\n",
      "[iter 650]  loss: -8.5109\n",
      "[iter 700]  loss: -8.9739\n",
      "[iter 750]  loss: -10.1984\n",
      "[iter 800]  loss: -11.0883\n",
      "[iter 850]  loss: -1.6136\n",
      "[iter 900]  loss: 1.1793\n",
      "[iter 950]  loss: -10.1572\n"
     ]
    }
   ],
   "source": [
    "test_k = torch.linspace(k.min(),k.max(),100).reshape(1,1,-1)\n",
    "train_k = -k[:,:3].flatten().reshape(1,1,-1)\n",
    "train_y = beam_size[...,1].flatten().reshape(1,1,-1)\n",
    "\n",
    "d = torch.tensor(2.84 + 0.54)\n",
    "l = torch.tensor(0.12)\n",
    "train_k_norm = 1.0 + d * l * train_k\n",
    "test_k_norm = 1.0 + d * l * test_k\n",
    "\n",
    "A = torch.max(train_y).sqrt()\n",
    "train_y_norm = train_y / A ** 2\n",
    "\n",
    "\n",
    "import pyro\n",
    "from pyro import poutine\n",
    "import time\n",
    "posterior_module = pyro.nn.PyroModule(\"model\")\n",
    "posterior_module.guide = AutoNormal(poutine.block(model, hide=['bm']))\n",
    "l = train(model,\n",
    "          posterior_module.guide,\n",
    "          train_k_norm.double(),\n",
    "          d.double(),\n",
    "          A.double(),\n",
    "          train_y_norm.double(),\n",
    "          lr=0.1,\n",
    "          n_steps=1000,\n",
    "          verbose=True)"
   ],
   "metadata": {
    "collapsed": false,
    "pycharm": {
     "name": "#%%\n"
    }
   }
  },
  {
   "cell_type": "code",
   "execution_count": 8,
   "outputs": [
    {
     "data": {
      "text/plain": "[<matplotlib.lines.Line2D at 0x1e98d201780>]"
     },
     "execution_count": 8,
     "metadata": {},
     "output_type": "execute_result"
    },
    {
     "data": {
      "text/plain": "<Figure size 432x288 with 1 Axes>",
      "image/png": "[encoded data removed]"
     },
     "metadata": {
      "needs_background": "light"
     },
     "output_type": "display_data"
    }
   ],
   "source": [
    "posterior_predictive = Predictive(model, num_samples=800, parallel=True, guide=posterior_module.guide)\n",
    "posterior_samples = posterior_predictive(test_k, d, A)\n",
    "\n",
    "def get_stats(samples):\n",
    "    mean = torch.mean(samples, dim=0)\n",
    "    l = torch.quantile(samples, 0.05, dim=0)\n",
    "    u = torch.quantile(samples, 0.95, dim=0)\n",
    "    return mean, l, u\n",
    "\n",
    "\n",
    "fig, ax = plt.subplots()\n",
    "m, l, u = get_stats(torch.exp(posterior_samples[\"obs\"].squeeze()))\n",
    "ax.plot(test_k.squeeze().cpu(), m.cpu())\n",
    "ax.fill_between(test_k.squeeze().cpu(), l.cpu(), u.cpu(), alpha=0.25)\n",
    "ax.plot(train_k_norm.squeeze().cpu(), train_y_norm.squeeze().cpu(), '.')"
   ],
   "metadata": {
    "collapsed": false,
    "pycharm": {
     "name": "#%%\n"
    }
   }
  },
  {
   "cell_type": "code",
   "execution_count": 9,
   "outputs": [
    {
     "name": "stdout",
     "output_type": "stream",
     "text": [
      "tensor(1.2141e-05, dtype=torch.float64)\n",
      "tensor(3.9275e-07, dtype=torch.float64)\n"
     ]
    },
    {
     "data": {
      "text/plain": "<Figure size 432x288 with 1 Axes>",
      "image/png": "[encoded data removed]"
     },
     "metadata": {
      "needs_background": "light"
     },
     "output_type": "display_data"
    }
   ],
   "source": [
    "bm_samples = posterior_samples[\"bm\"]\n",
    "gamma = 65 / 0.511\n",
    "norm_emit_samples = torch.det(bm_samples).flatten().sqrt()\n",
    "emit_samples = norm_emit_samples * A * gamma\n",
    "print(emit_samples.mean())\n",
    "print(emit_samples.std())\n",
    "plt.hist(emit_samples.numpy(), bins=100);"
   ],
   "metadata": {
    "collapsed": false,
    "pycharm": {
     "name": "#%%\n"
    }
   }
  },
  {
   "cell_type": "code",
   "execution_count": 6,
   "outputs": [],
   "source": [],
   "metadata": {
    "collapsed": false,
    "pycharm": {
     "name": "#%%\n"
    }
   }
  }
 ],
 "metadata": {
  "kernelspec": {
   "display_name": "Python 3",
   "language": "python",
   "name": "python3"
  },
  "language_info": {
   "codemirror_mode": {
    "name": "ipython",
    "version": 2
   },
   "file_extension": ".py",
   "mimetype": "text/x-python",
   "name": "python",
   "nbconvert_exporter": "python",
   "pygments_lexer": "ipython2",
   "version": "2.7.6"
  }
 },
 "nbformat": 4,
 "nbformat_minor": 0
}