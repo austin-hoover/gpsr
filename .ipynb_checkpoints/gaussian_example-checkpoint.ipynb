{
 "cells": [
  {
   "cell_type": "code",
   "execution_count": 1,
   "metadata": {
    "pycharm": {
     "name": "#%%\n"
    }
   },
   "outputs": [
    {
     "ename": "ModuleNotFoundError",
     "evalue": "No module named 'distgen'",
     "output_type": "error",
     "traceback": [
      "\u001b[1;31m---------------------------------------------------------------------------\u001b[0m",
      "\u001b[1;31mModuleNotFoundError\u001b[0m                       Traceback (most recent call last)",
      "Input \u001b[1;32mIn [1]\u001b[0m, in \u001b[0;36m<cell line: 2>\u001b[1;34m()\u001b[0m\n\u001b[0;32m      1\u001b[0m \u001b[38;5;28;01mimport\u001b[39;00m \u001b[38;5;21;01mmatplotlib\u001b[39;00m\u001b[38;5;21;01m.\u001b[39;00m\u001b[38;5;21;01mpyplot\u001b[39;00m \u001b[38;5;28;01mas\u001b[39;00m \u001b[38;5;21;01mplt\u001b[39;00m\n\u001b[1;32m----> 2\u001b[0m \u001b[38;5;28;01mfrom\u001b[39;00m \u001b[38;5;21;01mdistgen\u001b[39;00m \u001b[38;5;28;01mimport\u001b[39;00m Generator\n\u001b[0;32m      4\u001b[0m \u001b[38;5;66;03m# create beam\u001b[39;00m\n\u001b[0;32m      5\u001b[0m gen \u001b[38;5;241m=\u001b[39m Generator(\u001b[38;5;124m\"\u001b[39m\u001b[38;5;124mbeams/gaussian.yaml\u001b[39m\u001b[38;5;124m\"\u001b[39m)\n",
      "\u001b[1;31mModuleNotFoundError\u001b[0m: No module named 'distgen'"
     ]
    }
   ],
   "source": [
    "import matplotlib.pyplot as plt\n",
    "from distgen import Generator\n",
    "\n",
    "# create beam\n",
    "gen = Generator(\"beams/gaussian.yaml\")\n",
    "gen.run()\n",
    "gen"
   ]
  },
  {
   "cell_type": "code",
   "execution_count": null,
   "metadata": {
    "pycharm": {
     "name": "#%%\n"
    }
   },
   "outputs": [],
   "source": [
    "import numpy as np\n",
    "particles = gen.particles\n",
    "\n",
    "particles.plot(\"x\",\"px\")"
   ]
  },
  {
   "cell_type": "code",
   "execution_count": null,
   "metadata": {
    "pycharm": {
     "name": "#%%\n"
    }
   },
   "outputs": [],
   "source": [
    "# define tracking function\n",
    "from track import Particle\n",
    "import torch\n",
    "\n",
    "keys = [\"x\",\"xp\",\"y\",\"xp\",\"z\",\"pz\"]\n",
    "defaults = {\n",
    "        \"s\": torch.tensor(0.0),\n",
    "        \"p0c\": torch.mean(torch.tensor(particles.gamma) * particles.mass),\n",
    "        \"mc2\": torch.tensor(particles.mass),\n",
    "    }\n",
    "ground_truth_in = Particle(\n",
    "    *[torch.tensor(getattr(particles, ele)) for ele in keys], **defaults\n",
    ")\n"
   ]
  },
  {
   "cell_type": "code",
   "execution_count": null,
   "metadata": {
    "pycharm": {
     "name": "#%%\n"
    }
   },
   "outputs": [],
   "source": [
    "from normalizing_flow import get_images, image_difference_loss\n",
    "\n",
    "# get ground truth images\n",
    "sizes = []\n",
    "k_in = torch.linspace(-1,1,5) * 1e7\n",
    "bins = torch.linspace(-20,20,100)*1e-3\n",
    "bandwidth = torch.tensor(1e-3)\n",
    "images = get_images(ground_truth_in, k_in, bins, bandwidth)\n",
    "\n",
    "for image in images[:1]:\n",
    "    fig,ax = plt.subplots()\n",
    "    xx = torch.meshgrid(bins, bins)\n",
    "    ax.pcolor(xx[0], xx[1], image)\n",
    "\n",
    "# test loss\n",
    "image_difference_loss(ground_truth_in, ground_truth_in, k_in, bins, bandwidth)"
   ]
  },
  {
   "cell_type": "code",
   "execution_count": null,
   "metadata": {
    "pycharm": {
     "name": "#%%\n"
    }
   },
   "outputs": [],
   "source": [
    "# define a unit multivariate normal\n",
    "from torch.distributions import MultivariateNormal\n",
    "normal_samples = MultivariateNormal(torch.zeros(6), torch.eye(6)).sample([1000])*1e-3\n",
    "\n",
    "# define nonparametric transform\n",
    "from normalizing_flow import NonparametricTransform\n",
    "tnf = NonparametricTransform()\n",
    "\n",
    "# plot initial beam after transform\n",
    "p_in_guess = Particle(*tnf(normal_samples).T.double(), **defaults)\n",
    "plt.hist2d(p_in_guess.x, p_in_guess.px,bins=100)\n",
    "\n"
   ]
  },
  {
   "cell_type": "code",
   "execution_count": null,
   "metadata": {
    "pycharm": {
     "name": "#%%\n"
    }
   },
   "outputs": [],
   "source": [
    "# preform optimization with Adam\n",
    "optim = torch.optim.Adam(tnf.parameters(), lr=0.001)\n",
    "n_iter = 1\n",
    "losses = []\n",
    "for i in range(n_iter):\n",
    "    optim.zero_grad()\n",
    "\n",
    "    loss = image_difference_loss(\n",
    "        ground_truth_in,\n",
    "        Particle(*tnf(normal_samples).T.double(), **defaults),\n",
    "        k_in,\n",
    "        bins=bins,\n",
    "        bandwidth=bandwidth,\n",
    "        plot_images=True\n",
    "    )\n",
    "    losses.append(loss.detach())\n",
    "    loss.backward()\n",
    "\n",
    "    optim.step()\n",
    "\n",
    "    if i % 10 == 0:\n",
    "        print(i)\n",
    "\n",
    "fig, ax = plt.subplots()\n",
    "ax.plot(losses)"
   ]
  }
 ],
 "metadata": {
  "kernelspec": {
   "display_name": "Python 3 (ipykernel)",
   "language": "python",
   "name": "python3"
  },
  "language_info": {
   "codemirror_mode": {
    "name": "ipython",
    "version": 3
   },
   "file_extension": ".py",
   "mimetype": "text/x-python",
   "name": "python",
   "nbconvert_exporter": "python",
   "pygments_lexer": "ipython3",
   "version": "3.9.10"
  }
 },
 "nbformat": 4,
 "nbformat_minor": 1
}
