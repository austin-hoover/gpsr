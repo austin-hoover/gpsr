{
 "cells": [
  {
   "cell_type": "markdown",
   "metadata": {},
   "source": [
    "# simple 6D PS reconstruction"
   ]
  },
  {
   "cell_type": "code",
   "execution_count": null,
   "metadata": {
    "tags": []
   },
   "outputs": [],
   "source": [
    "import os\n",
    "import torch\n",
    "import numpy as np\n",
    "import matplotlib.pyplot as plt\n",
    "\n",
    "from phase_space_reconstruction.virtual.beamlines import quad_tdc_bend\n",
    "from phase_space_reconstruction.virtual.scans import run_3d_scan_2screens\n",
    "from phase_space_reconstruction.diagnostics import ImageDiagnostic\n",
    "from phase_space_reconstruction.visualization import plot_3d_scan_data_2screens\n",
    "from phase_space_reconstruction.utils import split_2screen_dset\n",
    "from phase_space_reconstruction.train import train_3d_scan_2screens\n",
    "\n",
    "from bmadx.distgen_utils import create_beam\n",
    "from bmadx.plot import plot_projections\n",
    "from bmadx.constants import PI\n",
    "\n",
    "from stats import plot_projections_with_contours"
   ]
  },
  {
   "cell_type": "markdown",
   "metadata": {},
   "source": [
    "## Load data"
   ]
  },
  {
   "cell_type": "code",
   "execution_count": null,
   "metadata": {},
   "outputs": [],
   "source": [
    "# load data\n",
    "data_dir = '/global/homes/j/jpga/AWA_DATA'\n",
    "save_dir =  'results'\n",
    "dset = torch.load(os.path.join(data_dir, 'dset.pt'))\n",
    "train_dset, test_dset = split_2screen_dset(dset)"
   ]
  },
  {
   "cell_type": "code",
   "execution_count": null,
   "metadata": {},
   "outputs": [],
   "source": [
    "plot_3d_scan_data_2screens(dset)\n",
    "plt.show()"
   ]
  },
  {
   "cell_type": "code",
   "execution_count": null,
   "metadata": {},
   "outputs": [],
   "source": [
    "plot_3d_scan_data_2screens(train_dset)\n",
    "plt.show()"
   ]
  },
  {
   "cell_type": "code",
   "execution_count": null,
   "metadata": {},
   "outputs": [],
   "source": [
    "plot_3d_scan_data_2screens(test_dset)\n",
    "plt.show()"
   ]
  },
  {
   "cell_type": "markdown",
   "metadata": {},
   "source": [
    "## Define diagnostics lattice parameters"
   ]
  },
  {
   "cell_type": "code",
   "execution_count": null,
   "metadata": {},
   "outputs": [],
   "source": [
    "# diagnostic beamline:\n",
    "p0c = 62.0e6\n",
    "lattice0 = quad_tdc_bend(p0c=p0c, dipole_on=False)\n",
    "lattice1 = quad_tdc_bend(p0c=p0c, dipole_on=True)\n",
    "\n",
    "# Scan over quad strength, tdc on/off and dipole on/off\n",
    "scan_ids = [0, 2, 4] \n",
    "\n",
    "# create 2 diagnostic screens: \n",
    "def create_screen(size, pixels):\n",
    "    bins = torch.linspace(-size/2, size/2, pixels)\n",
    "    bandwidth = (bins[1]-bins[0]) / 2\n",
    "    return ImageDiagnostic(bins, bins, bandwidth)\n",
    "\n",
    "screen0 = create_screen(30.22*1e-3, 700)\n",
    "screen1 = create_screen(26.96*1e-3, 700)"
   ]
  },
  {
   "cell_type": "markdown",
   "metadata": {},
   "source": [
    "### 10,000 particles"
   ]
  },
  {
   "cell_type": "code",
   "execution_count": null,
   "metadata": {},
   "outputs": [],
   "source": [
    "%%time\n",
    "\n",
    "# training\n",
    "pred_beam = train_3d_scan_2screens(\n",
    "    train_dset, \n",
    "    lattice0,\n",
    "    lattice1, \n",
    "    p0c, \n",
    "    screen0,\n",
    "    screen1,\n",
    "    ids = scan_ids,\n",
    "    n_epochs = 1_000, \n",
    "    n_particles = 10_000, \n",
    "    device = 'cuda'\n",
    "    )\n",
    "pred_beam = pred_beam.numpy_particles()\n",
    "torch.cuda.empty_cache()"
   ]
  },
  {
   "cell_type": "code",
   "execution_count": null,
   "metadata": {},
   "outputs": [],
   "source": [
    "# reconstructed beam projections:\n",
    "fig, ax = plot_projections(pred_beam,\n",
    "                           custom_lims = lims,\n",
    "                           bins = 50\n",
    "                           )\n",
    "plt.show()"
   ]
  },
  {
   "cell_type": "code",
   "execution_count": null,
   "metadata": {},
   "outputs": [],
   "source": []
  }
 ],
 "metadata": {
  "kernelspec": {
   "display_name": "NERSC Python",
   "language": "python",
   "name": "python3"
  },
  "language_info": {
   "codemirror_mode": {
    "name": "ipython",
    "version": 3
   },
   "file_extension": ".py",
   "mimetype": "text/x-python",
   "name": "python",
   "nbconvert_exporter": "python",
   "pygments_lexer": "ipython3",
   "version": "3.11.6"
  }
 },
 "nbformat": 4,
 "nbformat_minor": 4
}
