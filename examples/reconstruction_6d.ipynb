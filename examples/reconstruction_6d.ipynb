{
 "cells": [
  {
   "cell_type": "markdown",
   "metadata": {},
   "source": [
    "# PS reconstruction, Gaussian beam"
   ]
  },
  {
   "cell_type": "code",
   "execution_count": null,
   "metadata": {
    "tags": []
   },
   "outputs": [],
   "source": [
    "import torch\n",
    "import numpy as np\n",
    "from copy import deepcopy\n",
    "\n",
    "import lightning as L\n",
    "from cheetah.particles import ParticleBeam\n",
    "from cheetah.utils.bmadx import bmad_to_cheetah_coords\n",
    "from cheetah.accelerator import Quadrupole, Drift\n",
    "\n",
    "from phase_space_reconstruction.diagnostics import ImageDiagnostic\n",
    "from phase_space_reconstruction.datasets import SixDReconstructionDataset\n",
    "from phase_space_reconstruction.modeling import GPSR6DLattice, GPSR\n",
    "from phase_space_reconstruction.train import LitGPSR\n",
    "from phase_space_reconstruction.beams import NNParticleBeamGenerator\n"
   ]
  },
  {
   "cell_type": "markdown",
   "metadata": {},
   "source": [
    "## Create synthetic ground truth beam"
   ]
  },
  {
   "cell_type": "code",
   "execution_count": null,
   "metadata": {
    "tags": []
   },
   "outputs": [],
   "source": [
    "# create synthetic ground truth beam from base and transform yaml files\n",
    "p0c = 43.36e6 # reference momentum in eV/c\n",
    "\n",
    "particle_data = torch.load(\"data/gaussian_beam.pt\").data[:10000]\n",
    "bmad_gt_beam = torch.load(\"data/gaussian_beam.pt\")\n",
    "bmad_gt_beam.data = bmad_gt_beam.data[:10000]\n",
    "\n",
    "particle_data = bmad_to_cheetah_coords(\n",
    "    particle_data,\n",
    "    torch.tensor(p0c),\n",
    "    torch.tensor(0.511e6)\n",
    ")\n",
    "gt_beam = ParticleBeam(*particle_data)\n"
   ]
  },
  {
   "cell_type": "markdown",
   "metadata": {},
   "source": [
    "## Define diagnostics lattice parameters"
   ]
  },
  {
   "cell_type": "code",
   "execution_count": null,
   "outputs": [],
   "source": [
    "lims = np.array([[-15e-3, 15e-3],\n",
    "                 [-15e-3, 15e-3],\n",
    "                 [-15e-3, 15e-3],\n",
    "                 [-15e-3, 15e-3],\n",
    "                 [-5e-3, 5e-3],\n",
    "                 [-5e-2, 5e-2]]) *0.2\n",
    "gt_beam.plot_distribution(\n",
    "    custom_lims = lims,\n",
    ")"
   ],
   "metadata": {
    "collapsed": false
   }
  },
  {
   "cell_type": "code",
   "execution_count": null,
   "outputs": [],
   "source": [
    "# create diagnostic screens:\n",
    "bins = torch.linspace(-5, 5, 200) * 1e-3\n",
    "bandwidth = (bins[1]-bins[0]) / 2\n",
    "screen = ImageDiagnostic(\n",
    "    bins, bins, bandwidth\n",
    ")"
   ],
   "metadata": {
    "collapsed": false
   }
  },
  {
   "cell_type": "markdown",
   "source": [
    "Cheetah based version"
   ],
   "metadata": {
    "collapsed": false,
    "ExecuteTime": {
     "end_time": "2024-11-06T20:24:02.454660600Z",
     "start_time": "2024-11-06T20:24:01.257622500Z"
    }
   },
   "outputs": [
    {
     "name": "stdout",
     "output_type": "stream",
     "text": [
      "torch.Size([2, 2, 5, 3])\n"
     ]
    }
   ],
   "execution_count": 5
  },
  {
   "cell_type": "code",
   "execution_count": null,
   "outputs": [],
   "source": [
    "# define upstream beamline\n",
    "k1 =            -24.868402\n",
    "k2 =             26.179029\n",
    "k3 =            -26.782126\n",
    "\n",
    "quad_length = 0.11\n",
    "lq12 = 1.209548\n",
    "lq23 = 0.19685\n",
    "lq34 = 0.18415\n",
    "ld1 = lq12 - quad_length\n",
    "ld2 = lq23 - quad_length\n",
    "ld3 = lq34 - quad_length\n",
    "q1 = Quadrupole(\n",
    "    length=quad_length,\n",
    "    k1=k1,\n",
    "    num_steps=5,\n",
    "    tracking_method=\"bmadx\"\n",
    ")\n",
    "d1 = Drift(ld1)\n",
    "q2 = Quadrupole(\n",
    "    length=quad_length,\n",
    "    k1=k2,\n",
    "    num_steps=5,\n",
    "    tracking_method=\"bmadx\"\n",
    ")\n",
    "d2 = Drift(ld2)\n",
    "q3 = Quadrupole(\n",
    "    length=quad_length,\n",
    "    k1=k3,\n",
    "    num_steps=5,\n",
    "    tracking_method=\"bmadx\"\n",
    ")\n",
    "d3 = Drift(ld3)\n",
    "upstream_components = [q1, d1, q2, d2, q3, d3]\n",
    "\n",
    "l_quad=0.11\n",
    "l_tdc=0.01\n",
    "f_tdc=1.3e9\n",
    "phi_tdc=0.0\n",
    "l_bend=0.3018\n",
    "theta_on=- 20.0 * 3.14 / 180.0\n",
    "l1=0.790702\n",
    "l2=0.631698\n",
    "l3=0.889\n",
    "\n",
    "gpsr_lattice = GPSR6DLattice(\n",
    "    l_quad,\n",
    "    l_tdc,\n",
    "    f_tdc,\n",
    "    phi_tdc,\n",
    "    l_bend,\n",
    "    theta_on,\n",
    "    l1,\n",
    "    l2,\n",
    "    l3,\n",
    "    deepcopy(screen),\n",
    "    deepcopy(screen),\n",
    "    upstream_components\n",
    ")\n",
    "\n"
   ],
   "metadata": {
    "collapsed": false
   }
  },
  {
   "cell_type": "code",
   "execution_count": null,
   "outputs": [],
   "source": [
    "# Scan over quad strength, tdc on/off and dipole on/off\n",
    "n_ks = 5\n",
    "PI = 3.14\n",
    "ks = torch.linspace(-3, 3, n_ks) # quad ks\n",
    "vs = torch.tensor([0, 3e6]) # TDC off/on\n",
    "gs = torch.tensor([-2.22e-16, -20.0*PI/180.0/0.365]) # dipole off/on\n",
    "\n",
    "scan_ids = [6, 8, 10]\n",
    "n_ks = 5\n",
    "\n",
    "train_params = torch.meshgrid(gs, vs, ks, indexing='ij')\n",
    "train_params = torch.stack(train_params, dim=-1)\n",
    "\n",
    "# create training data\n",
    "gpsr_lattice.set_lattice_parameters(train_params)\n",
    "final_beam = gpsr_lattice.lattice(gt_beam)\n",
    "obs = gpsr_lattice.track_and_observe(gt_beam)\n",
    "\n",
    "obs_dataset = SixDReconstructionDataset(train_params, obs, (bins, bins))"
   ],
   "metadata": {
    "collapsed": false
   }
  },
  {
   "cell_type": "code",
   "execution_count": null,
   "outputs": [],
   "source": [
    "fig, ax = obs_dataset.plot_data(publication_size=True)"
   ],
   "metadata": {
    "collapsed": false
   }
  },
  {
   "cell_type": "markdown",
   "source": [
    "## Training using pytorch lightning"
   ],
   "metadata": {
    "collapsed": false,
    "ExecuteTime": {
     "end_time": "2024-11-06T20:24:06.278607900Z",
     "start_time": "2024-11-06T20:24:05.111274600Z"
    }
   },
   "outputs": [],
   "execution_count": 8
  },
  {
   "cell_type": "code",
   "execution_count": null,
   "outputs": [],
   "source": [
    "gpsr_model = GPSR(NNParticleBeamGenerator(10000, p0c), gpsr_lattice)\n",
    "train_loader = torch.utils.data.DataLoader(obs_dataset, batch_size=20)\n",
    "\n",
    "litgpsr = LitGPSR(gpsr_model)\n",
    "logger = L.pytorch.loggers.TensorBoardLogger('.', )\n",
    "trainer = L.Trainer(limit_train_batches=100,max_epochs=500, logger=logger)\n",
    "trainer.fit(model=litgpsr, train_dataloaders=train_loader)"
   ],
   "metadata": {
    "collapsed": false
   }
  },
  {
   "cell_type": "code",
   "execution_count": null,
   "outputs": [],
   "source": [
    "reconstructed_beam = litgpsr.gpsr_model.beam_generator()"
   ],
   "metadata": {
    "collapsed": false
   }
  },
  {
   "cell_type": "code",
   "execution_count": null,
   "outputs": [],
   "source": [
    "reconstructed_beam.plot_distribution(\n",
    "    custom_lims = lims,\n",
    ")"
   ],
   "metadata": {
    "collapsed": false
   }
  }
 ],
 "metadata": {
  "kernelspec": {
   "display_name": "Python 3 (ipykernel)",
   "language": "python",
   "name": "python3"
  },
  "language_info": {
   "codemirror_mode": {
    "name": "ipython",
    "version": 3
   },
   "file_extension": ".py",
   "mimetype": "text/x-python",
   "name": "python",
   "nbconvert_exporter": "python",
   "pygments_lexer": "ipython3",
   "version": "3.10.12"
  }
 },
 "nbformat": 4,
 "nbformat_minor": 4
}
