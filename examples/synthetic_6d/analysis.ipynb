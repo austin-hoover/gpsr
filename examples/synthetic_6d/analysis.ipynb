{
 "cells": [
  {
   "cell_type": "code",
   "execution_count": null,
   "id": "17d2bac0-1ffa-4ba5-976b-4622e80e6948",
   "metadata": {},
   "outputs": [],
   "source": [
    "import os\n",
    "import torch\n",
    "import numpy as np\n",
    "import matplotlib.pyplot as plt\n",
    "from bmadx.plot import plot_projections"
   ]
  },
  {
   "cell_type": "code",
   "execution_count": null,
   "id": "0fafbcc9-4d61-4f2b-a52a-499b23b77248",
   "metadata": {},
   "outputs": [],
   "source": [
    "data_dir = 'data'"
   ]
  },
  {
   "cell_type": "code",
   "execution_count": null,
   "id": "e159968d-cf81-4fdf-a84e-7ade85806caf",
   "metadata": {},
   "outputs": [],
   "source": [
    "train_dset_3d_scan = torch.load(os.path.join(data_dir, '3D_scan_train.dset')) \n",
    "beam_3d_scan_10_000 = torch.load(os.path.join(data_dir, '3D_scan_10_000.pt'))\n",
    "beam_3d_scan_100_000 = torch.load(os.path.join(data_dir, '3D_scan_100_000.pt'))\n",
    "beam_3d_scan_1_000_000 = torch.load(os.path.join(data_dir, '3D_scan_1_000_000.pt'))\n",
    "\n",
    "\n",
    "train_dset_t_scan = torch.load(os.path.join(data_dir, 't_scan_train.dset.pt')) \n",
    "beam_t_scan_100_000 = torch.load(os.path.join(data_dir, 't_scan_100_000.pt'))"
   ]
  }
 ],
 "metadata": {
  "kernelspec": {
   "display_name": "PSReconstruction",
   "language": "python",
   "name": "ps-reconstruction"
  },
  "language_info": {
   "codemirror_mode": {
    "name": "ipython",
    "version": 3
   },
   "file_extension": ".py",
   "mimetype": "text/x-python",
   "name": "python",
   "nbconvert_exporter": "python",
   "pygments_lexer": "ipython3",
   "version": "3.10.12"
  }
 },
 "nbformat": 4,
 "nbformat_minor": 5
}
