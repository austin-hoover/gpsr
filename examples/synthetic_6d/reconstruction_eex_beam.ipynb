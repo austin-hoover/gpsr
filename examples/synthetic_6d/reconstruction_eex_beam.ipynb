{
 "cells": [
  {
   "cell_type": "markdown",
   "metadata": {},
   "source": [
    "# PS reconstruction slice emittance example"
   ]
  },
  {
   "cell_type": "code",
   "execution_count": 1,
   "metadata": {
    "ExecuteTime": {
     "end_time": "2023-09-29T18:00:32.282437700Z",
     "start_time": "2023-09-29T18:00:22.781431200Z"
    },
    "tags": []
   },
   "outputs": [],
   "source": [
    "import os\n",
    "import torch\n",
    "import numpy as np\n",
    "import matplotlib.pyplot as plt\n",
    "\n",
    "from phase_space_reconstruction.virtual.beamlines import quadlet_tdc_bend\n",
    "from phase_space_reconstruction.virtual.scans import run_awa_3d_scan, run_t_scan\n",
    "from phase_space_reconstruction.diagnostics import ImageDiagnostic\n",
    "from phase_space_reconstruction.visualization import plot_3d_scan_data\n",
    "from phase_space_reconstruction.train import train_3d_scan, train_3d_scan_parallel_gpus\n",
    "\n",
    "from bmadx.distgen_utils import create_beam\n",
    "from bmadx.plot import plot_projections\n",
    "from bmadx.constants import PI"
   ]
  },
  {
   "cell_type": "markdown",
   "metadata": {},
   "source": [
    "## Create synthetic ground truth beam"
   ]
  },
  {
   "cell_type": "code",
   "execution_count": 2,
   "metadata": {
    "ExecuteTime": {
     "end_time": "2023-09-29T18:00:36.603249100Z",
     "start_time": "2023-09-29T18:00:33.904945400Z"
    },
    "tags": []
   },
   "outputs": [],
   "source": [
    "gt_beam = torch.load(\"data/eex_beam.pt\")\n",
    "p0c = gt_beam.p0c"
   ]
  },
  {
   "cell_type": "markdown",
   "metadata": {},
   "source": [
    "## Define diagnostics lattice parameters"
   ]
  },
  {
   "cell_type": "code",
   "execution_count": 3,
   "metadata": {
    "ExecuteTime": {
     "end_time": "2023-09-29T18:00:36.619277300Z",
     "start_time": "2023-09-29T18:00:36.605430600Z"
    }
   },
   "outputs": [],
   "source": [
    "# triplet params obtained from triplet-opt.ipynb\n",
    "#k1 =    13.733624\n",
    "#k2 =  -23.473085\n",
    "#k3 =   24.013177\n",
    "k1 =             -0.162111\n",
    "k2 =            -23.858656\n",
    "k3 =              24.32658\n",
    "#k1 =    7.117084\n",
    "#k2 =  -21.630823\n",
    "#k3 =   26.233582"
   ]
  },
  {
   "cell_type": "code",
   "execution_count": 13,
   "metadata": {
    "ExecuteTime": {
     "end_time": "2023-09-29T18:00:36.755247100Z",
     "start_time": "2023-09-29T18:00:36.622250300Z"
    }
   },
   "outputs": [
    {
     "name": "stdout",
     "output_type": "stream",
     "text": [
      "torch.Size([3, 5, 2, 2])\n",
      "torch.Size([3, 5, 2, 2, 1])\n"
     ]
    }
   ],
   "source": [
    "# diagnostic beamline:\n",
    "lattice = quadlet_tdc_bend(p0c=p0c, dipole_on=False)\n",
    "#lattice.elements[0].K1.data = torch.tensor(k1)\n",
    "#lattice.elements[2].K1.data = torch.tensor(k2)\n",
    "#lattice.elements[4].K1.data = torch.tensor(k3)\n",
    "\n",
    "# Scan over quad strength, tdc on/off and dipole on/off\n",
    "scan_ids = [6, 8, 10] \n",
    "n_ks = 5\n",
    "ks = torch.linspace(-10, 10, n_ks) # quad ks\n",
    "vs = torch.tensor([0, 1.0e6])#5e6]) # TDC off/on\n",
    "gs = torch.tensor([-2.22e-16, -20.0*PI/180.0/0.365]) # dipole off/on\n",
    "train_params = torch.stack(torch.meshgrid(ks, vs, gs, indexing='ij'))\n",
    "print(train_params.shape)\n",
    "print(train_params.unsqueeze(-1).shape)\n",
    "\n",
    "# create diagnostic screen: \n",
    "bins = torch.linspace(-7, 7, 200) * 1e-3\n",
    "bandwidth = (bins[1]-bins[0]) / 2\n",
    "screen = ImageDiagnostic(bins, bins, bandwidth)"
   ]
  },
  {
   "cell_type": "markdown",
   "metadata": {},
   "source": [
    "## Complete 3D scan training data"
   ]
  },
  {
   "cell_type": "code",
   "execution_count": null,
   "metadata": {
    "ExecuteTime": {
     "end_time": "2023-09-29T18:00:37.865246700Z",
     "start_time": "2023-09-29T18:00:36.643249900Z"
    }
   },
   "outputs": [],
   "source": [
    "# generate and save train and test datasets\n",
    "train_dset_3d_scan = run_awa_3d_scan(\n",
    "    gt_beam, \n",
    "    lattice,\n",
    "    screen, \n",
    "    ks, vs, gs,\n",
    "    ids = scan_ids,\n",
    "#    save_as = '3d_scan_train.dset'\n",
    ")\n",
    "\n",
    "print(train_dset_3d_scan.params.shape)\n",
    "print(train_dset_3d_scan.images.shape)"
   ]
  },
  {
   "cell_type": "code",
   "execution_count": null,
   "metadata": {
    "ExecuteTime": {
     "end_time": "2023-09-29T18:00:40.702576100Z",
     "start_time": "2023-09-29T18:00:37.865246700Z"
    }
   },
   "outputs": [],
   "source": [
    "fig, ax = plot_3d_scan_data(train_dset_3d_scan, bins)\n",
    "plt.show()"
   ]
  },
  {
   "cell_type": "code",
   "execution_count": null,
   "metadata": {
    "tags": []
   },
   "outputs": [],
   "source": [
    "fig.savefig(\"eex_data.png\",dpi=300)"
   ]
  },
  {
   "cell_type": "markdown",
   "metadata": {},
   "source": [
    "### 10,000 particles, multi-GPU"
   ]
  },
  {
   "cell_type": "code",
   "execution_count": null,
   "metadata": {
    "ExecuteTime": {
     "end_time": "2023-09-29T18:15:09.356449Z",
     "start_time": "2023-09-29T18:00:40.742272900Z"
    }
   },
   "outputs": [],
   "source": [
    "%%time\n",
    "import torch\n",
    "\n",
    "pred_beam_3d_scan_10_000 = train_3d_scan(\n",
    "    train_dset_3d_scan,\n",
    "    lattice,\n",
    "    p0c,\n",
    "    screen,\n",
    "    ids = scan_ids,\n",
    "    n_epochs = 5_000, \n",
    "    n_particles = 100_000, \n",
    "    device = 'cuda:0',\n",
    "    lambda_=1e14,\n",
    "    save_dir = save_dir,\n",
    "    distribution_dump_frequency=200,\n",
    "    distribution_dump_n_particles=1_000_000,\n",
    "    use_decay=False\n",
    ")"
   ]
  },
  {
   "cell_type": "code",
   "execution_count": null,
   "metadata": {
    "ExecuteTime": {
     "end_time": "2023-09-29T18:15:12.373968Z",
     "start_time": "2023-09-29T18:15:12.284061300Z"
    }
   },
   "outputs": [],
   "source": [
    "torch.cuda.empty_cache()"
   ]
  },
  {
   "cell_type": "code",
   "execution_count": null,
   "metadata": {
    "tags": []
   },
   "outputs": [],
   "source": [
    "import torch\n",
    "from stats import plot_prab_figure\n",
    "import os\n",
    "recn_dist = torch.load(os.path.join(save_dir, 'dist_3200.pt'))\n",
    "\n",
    "slims = np.array([[-4, 4],\n",
    "                 [-3, 3],\n",
    "                 [-1.5, 1.5],\n",
    "                 [-2, 2],\n",
    "                 [-5, 5],\n",
    "                 [-2, 2]])\n",
    "\n",
    "fig = plot_prab_figure(\n",
    "    recn_dist,\n",
    "    gt_beam,\n",
    "    n_bins=200,\n",
    "    contour_percentiles = [90],\n",
    "    custom_lims=slims,\n",
    "    contour_smoothing=0.0,\n",
    ")"
   ]
  },
  {
   "cell_type": "code",
   "execution_count": null,
   "metadata": {
    "tags": []
   },
   "outputs": [],
   "source": [
    "fig.savefig(\"eex_reconstruction.png\", dpi=300)"
   ]
  },
  {
   "cell_type": "code",
   "execution_count": null,
   "metadata": {},
   "outputs": [],
   "source": [
    "from stats import plot_projections_with_contours,show_cov_stats,get_cov,plot_cov_sigmas\n",
    "frac = 0.9\n",
    "cov_gt_frac = get_cov(gt_beam.numpy_particles(), beam_fraction=frac)\n",
    "cov_reconstruction_frac = get_cov(recn_dist.numpy_particles(), beam_fraction=frac)"
   ]
  },
  {
   "cell_type": "code",
   "execution_count": null,
   "metadata": {},
   "outputs": [],
   "source": [
    "#frac_error = (cov_gt_frac - cov_reconstruction_frac)/cov_gt_frac\n",
    "frac_error = cov_reconstruction_frac*1e6\n",
    "\n",
    "mask = np.tri(frac_error.shape[0],k=-1)\n",
    "frac_error = np.flipud(np.ma.array(frac_error, mask=mask))\n",
    "\n",
    "manipulated_cov_gt = np.flipud(cov_gt_frac).T\n",
    "\n",
    "def plot_cov_sigmas(cov_sigmas, fig=None):\n",
    "    coords = ('x', '$p_x$', 'y', '$p_y$', 'z', '$p_z$')\n",
    "    \n",
    "    if fig is None:\n",
    "        fig, ax = plt.subplots()\n",
    "    else:\n",
    "        center = 0.375\n",
    "        cax_width = 0.025\n",
    "        buffer = 0.05\n",
    "        ax_width = 1-center-cax_width - buffer\n",
    "        ax = fig.add_axes([center, center, ax_width, ax_width],zorder=0)\n",
    "        cax = fig.add_axes([center + ax_width + buffer, center, cax_width, ax_width],zorder=0)\n",
    "        \n",
    "    c = ax.pcolormesh(cov_sigmas, cmap='seismic', vmin=-1, vmax=1, alpha=0.5)\n",
    "    for (j,i), label in np.ndenumerate(cov_sigmas):\n",
    "        if not cov_sigmas.mask[i,j]:\n",
    "            ax.text(i + 0.5, j + 0.5, f'{label:.3f}\\n{manipulated_cov_gt[i,j]*1e6:.3f}', ha='center', va='center')\n",
    "    fig.colorbar(c,cax=cax,label=\"Covariance fractional error\")\n",
    "    ax.set_xticks(np.arange(len(coords))+0.5, labels=coords)\n",
    "    ax.set_yticks(np.arange(len(coords))+0.5, labels=coords[::-1])\n",
    "    \n",
    "    ax.xaxis.tick_top()\n",
    "    ax.yaxis.tick_right()\n",
    "    \n",
    "    ax.spines['bottom'].set_visible(False)\n",
    "    ax.spines['left'].set_visible(False)\n",
    "    #fig.tight_layout()\n",
    "    \n",
    "    ax.set_title(\"Covariance prediction errors\")\n",
    "\n",
    "    return fig, ax\n",
    "\n",
    "fig, ax = plot_cov_sigmas(frac_error,fig)\n",
    "a = fig.get_axes()[:-10]\n",
    "for ele in a:\n",
    "    ele.zorder=10\n",
    "\n",
    "fig.set_size_inches(7,7)\n",
    "fig"
   ]
  },
  {
   "cell_type": "code",
   "execution_count": null,
   "metadata": {},
   "outputs": [],
   "source": []
  }
 ],
 "metadata": {
  "kernelspec": {
   "display_name": "Python 3 (ipykernel)",
   "language": "python",
   "name": "python3"
  },
  "language_info": {
   "codemirror_mode": {
    "name": "ipython",
    "version": 3
   },
   "file_extension": ".py",
   "mimetype": "text/x-python",
   "name": "python",
   "nbconvert_exporter": "python",
   "pygments_lexer": "ipython3",
   "version": "3.10.12"
  }
 },
 "nbformat": 4,
 "nbformat_minor": 4
}
