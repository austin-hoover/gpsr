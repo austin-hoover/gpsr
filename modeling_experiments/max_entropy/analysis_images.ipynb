{
 "cells": [
  {
   "cell_type": "code",
   "execution_count": null,
   "outputs": [],
   "source": [
    "import torch\n",
    "from copy import deepcopy\n",
    "from torch.utils.data import DataLoader, Dataset, random_split\n",
    "from torchensemble import VotingRegressor, SnapshotEnsembleRegressor\n",
    "import matplotlib.pyplot as plt\n",
    "from fitting import create_ensemble, CustomLoss, get_data, get_datasets\n",
    "\n",
    "import sys\n",
    "sys.path.append(\"../\")\n",
    "\n",
    "folder = \"\"\n",
    "all_k, all_images, bins, xx = get_data(folder)\n",
    "train_dset, test_dset = get_datasets(all_k, all_images)\n",
    "\n",
    "bandwidth = torch.tensor(0.0)\n",
    "ensemble = create_ensemble(bins, bandwidth)\n",
    "\n",
    "from torchensemble.utils import io\n",
    "io.load(ensemble, \"alpha_1\")\n",
    "ensemble = ensemble\n",
    "ensemble.cuda();"
   ],
   "metadata": {
    "collapsed": false,
    "pycharm": {
     "name": "#%%\n"
    }
   }
  },
  {
   "cell_type": "code",
   "execution_count": null,
   "outputs": [],
   "source": [
    "all_k.shape"
   ],
   "metadata": {
    "collapsed": false,
    "pycharm": {
     "name": "#%%\n"
    }
   }
  },
  {
   "cell_type": "code",
   "execution_count": null,
   "outputs": [],
   "source": [
    "train_k = train_dset.k\n",
    "train_k = train_k.cuda()\n",
    "\n",
    "train_im = train_dset.images\n",
    "train_im = train_im.cpu()\n",
    "\n",
    "test_k = test_dset.k\n",
    "test_k = test_k.cuda()\n",
    "\n",
    "test_im = test_dset.images\n",
    "test_im = test_im.cpu()"
   ],
   "metadata": {
    "collapsed": false,
    "pycharm": {
     "name": "#%%\n"
    }
   }
  },
  {
   "cell_type": "code",
   "execution_count": null,
   "outputs": [],
   "source": [
    "recompute_images = True\n",
    "with torch.no_grad():\n",
    "    if recompute_images:\n",
    "        dist = torch.distributions.MultivariateNormal(torch.zeros(6), torch.eye(6))\n",
    "        custom_beam = dist.sample([100000]).cuda()\n",
    "\n",
    "        train_pred = torch.cat([ensemble[i](train_k[:,:1].cuda())[0].unsqueeze(0) for i in range(len(ensemble))])\n",
    "        train_pred = torch.transpose(train_pred.squeeze(), 0,1)\n",
    "        train_pred = train_pred.cpu().detach()\n",
    "\n",
    "        test_pred = torch.cat([ensemble[i](test_k[:,:1].cuda())[0].unsqueeze(0) for i in range(len(ensemble))])\n",
    "        test_pred = torch.transpose(test_pred.squeeze(), 0,1)\n",
    "        test_pred = test_pred.cpu().detach()\n",
    "\n",
    "        torch.save(train_pred, \"train_pred_images.pt\")\n",
    "        torch.save(test_pred, \"test_pred_images.pt\")\n",
    "    else:\n",
    "        train_pred = torch.load(\"train_pred_images.pt\")\n",
    "        test_pred = torch.load(\"test_pred_images.pt\")"
   ],
   "metadata": {
    "collapsed": false,
    "pycharm": {
     "name": "#%%\n"
    }
   }
  },
  {
   "cell_type": "code",
   "execution_count": null,
   "outputs": [],
   "source": [
    "print(test_pred.shape)\n",
    "print(test_im.shape)\n"
   ],
   "metadata": {
    "collapsed": false,
    "pycharm": {
     "name": "#%%\n"
    }
   }
  },
  {
   "cell_type": "code",
   "execution_count": null,
   "outputs": [],
   "source": [
    "from visualization import compare_images\n",
    "fig = compare_images(xx, train_pred[::4,0], train_im[::4,0])\n",
    "fig.set_size_inches(8,16)"
   ],
   "metadata": {
    "collapsed": false,
    "pycharm": {
     "name": "#%%\n"
    }
   }
  },
  {
   "cell_type": "code",
   "execution_count": null,
   "outputs": [],
   "source": [
    "import matplotlib.pyplot as plt\n",
    "\n",
    "def apply_filter(X):\n",
    "    return X#ndimage.median_filter(X, size=3)\n",
    "\n",
    "fig,ax = plt.subplots(3,1)\n",
    "fig.set_size_inches(8,16)\n",
    "vmax = test_im[0][0].max()\n",
    "mean = torch.mean(test_pred, dim=1)[0]\n",
    "std = torch.std(test_pred, dim=1)[0]\n",
    "ax[0].imshow(mean, vmax = vmax)\n",
    "ax[1].imshow(std, vmax = vmax)\n",
    "ax[2].imshow(test_im[0][0], vmax = vmax)"
   ],
   "metadata": {
    "collapsed": false,
    "pycharm": {
     "name": "#%%\n"
    }
   }
  },
  {
   "cell_type": "code",
   "execution_count": null,
   "outputs": [],
   "source": [
    "# compare projections\n",
    "from visualization import compare_image_projections\n",
    "\n",
    "fig = compare_image_projections(xx[0].T[0], test_im, test_pred)\n",
    "fig.set_size_inches(16,16)"
   ],
   "metadata": {
    "collapsed": false,
    "pycharm": {
     "name": "#%%\n"
    }
   }
  },
  {
   "cell_type": "code",
   "execution_count": null,
   "outputs": [],
   "source": [
    "# compare projections\n",
    "from visualization import compare_image_projections\n",
    "\n",
    "fig = compare_image_projections(xx[0].T[0], train_im, train_pred)\n",
    "fig.set_size_inches(16,16)"
   ],
   "metadata": {
    "collapsed": false,
    "pycharm": {
     "name": "#%%\n"
    }
   }
  },
  {
   "cell_type": "code",
   "execution_count": null,
   "outputs": [],
   "source": [
    "# plot reconstructed beam dist\n",
    "from visualization import add_projection\n",
    "beams = [ele.beam_generator() for ele in ensemble]\n",
    "\n",
    "fig,ax = plt.subplots()\n",
    "#add_projection(ax, \"x\", beams, xx[0].T[0])\n",
    "#add_projection(ax, \"y\", beams, xx[0].T[0])\n",
    "#add_projection(ax, \"px\", beams, xx[0].T[0])\n",
    "#add_projection(ax, \"py\", beams, xx[0].T[0])\n",
    "add_projection(ax, \"z\", beams, xx[0].T[0]*2)\n",
    "add_projection(ax, \"pz\", beams, xx[0].T[0]*2)"
   ],
   "metadata": {
    "collapsed": false,
    "pycharm": {
     "name": "#%%\n"
    }
   }
  }
 ],
 "metadata": {
  "kernelspec": {
   "display_name": "Python 3 (ipykernel)",
   "language": "python",
   "name": "python3"
  },
  "language_info": {
   "codemirror_mode": {
    "name": "ipython",
    "version": 3
   },
   "file_extension": ".py",
   "mimetype": "text/x-python",
   "name": "python",
   "nbconvert_exporter": "python",
   "pygments_lexer": "ipython3",
   "version": "3.10.4"
  }
 },
 "nbformat": 4,
 "nbformat_minor": 5
}