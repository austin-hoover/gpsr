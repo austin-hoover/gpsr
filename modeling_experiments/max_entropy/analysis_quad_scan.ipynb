{
 "cells": [
  {
   "cell_type": "markdown",
   "id": "5e79bc52-3061-4d20-a653-93f1791011b0",
   "metadata": {
    "pycharm": {
     "name": "#%% md\n"
    }
   },
   "source": [
    "## Compare reconstruction to quad scan"
   ]
  },
  {
   "cell_type": "code",
   "execution_count": 1,
   "id": "0143cf5d-d8be-4095-8e73-e2e30a6879a2",
   "metadata": {
    "pycharm": {
     "name": "#%%\n"
    }
   },
   "outputs": [
    {
     "name": "stdout",
     "output_type": "stream",
     "text": [
      "torch.Size([20, 1, 200, 200])\n",
      "torch.Size([20, 1])\n"
     ]
    }
   ],
   "source": [
    "import torch\n",
    "from copy import deepcopy\n",
    "from torch.utils.data import DataLoader, Dataset, random_split\n",
    "from torchensemble import VotingRegressor, SnapshotEnsembleRegressor\n",
    "import matplotlib.pyplot as plt\n",
    "from fitting import create_ensemble, CustomLoss, get_data, get_datasets\n",
    "from utils import calc_rms_size\n",
    "\n",
    "import sys\n",
    "sys.path.append(\"../\")\n",
    "\n",
    "folder = \"../../test_case_4/\"\n",
    "all_k, all_images, bins, xx = get_data(folder)\n",
    "train_dset, test_dset = get_datasets(all_k, all_images)\n",
    "gt_initial_beam = torch.load(folder + \"ground_truth_dist.pt\")\n",
    "\n",
    "# transpose the images to orient right\n",
    "#all_images = torch.transpose(all_images, -2, -1)\n",
    "\n",
    "from torch_track import Beam\n",
    "defaults = {\n",
    "    \"s\": torch.tensor(0.0).float(),\n",
    "    \"p0c\": torch.tensor(10.0e6).float(),\n",
    "    \"mc2\": torch.tensor(0.511e6).float(),\n",
    "}\n",
    "\n",
    "gt_initial_beam = Beam(gt_initial_beam, **defaults)\n",
    "\n",
    "\n",
    "bandwidth = torch.tensor(0.0)\n",
    "ensemble = create_ensemble(bins, bandwidth)\n",
    "\n",
    "from torchensemble.utils import io\n",
    "io.load(ensemble, \"alpha_1e-3\")\n",
    "ensemble = ensemble\n",
    "ensemble.cuda();"
   ]
  },
  {
   "cell_type": "code",
   "execution_count": 3,
   "id": "57dbd758-8870-4d22-a85f-af9f9d746017",
   "metadata": {
    "pycharm": {
     "name": "#%%\n"
    }
   },
   "outputs": [],
   "source": [
    "train_k = train_dset.k\n",
    "train_k = train_k.cuda()\n",
    "\n",
    "train_im = train_dset.images\n",
    "train_im = train_im.cpu()\n",
    "\n",
    "test_k = test_dset.k\n",
    "test_k = test_k.cuda()\n",
    "\n",
    "test_im = test_dset.images\n",
    "test_im = test_im.cpu()"
   ]
  },
  {
   "cell_type": "code",
   "execution_count": 4,
   "id": "0dcd81aa-aa8f-4d1f-a3b2-09c474b7df6e",
   "metadata": {
    "pycharm": {
     "name": "#%%\n"
    }
   },
   "outputs": [],
   "source": [
    "recompute_images = True\n",
    "with torch.no_grad():\n",
    "    if recompute_images:\n",
    "        dist = torch.distributions.MultivariateNormal(torch.zeros(6), torch.eye(6))\n",
    "        custom_beam = None#dist.sample([100000]).cuda()\n",
    "    \n",
    "        model_pred = torch.cat(\n",
    "            [ensemble[i](all_k[:,:1])[0].unsqueeze(0) for i in range(len(ensemble))]\n",
    "        )\n",
    "        model_pred = torch.transpose(model_pred.squeeze(dim=2), 0,1)\n",
    "        model_pred = model_pred.cpu().detach()\n",
    "        #model_pred = torch.transpose(model_pred, -2, -1)\n",
    "        \n",
    "        torch.save(model_pred, \"all_pred_images.pt\")\n",
    "    else:\n",
    "        model_pred = torch.load(\"all_pred_images.pt\")\n"
   ]
  },
  {
   "cell_type": "code",
   "execution_count": 5,
   "id": "7b50dc63-4f7b-4b43-ae90-688fd2a33ba5",
   "metadata": {
    "pycharm": {
     "name": "#%%\n"
    }
   },
   "outputs": [
    {
     "name": "stdout",
     "output_type": "stream",
     "text": [
      "torch.Size([20, 1, 200, 200])\n"
     ]
    },
    {
     "data": {
      "text/plain": "torch.Size([20, 5, 200, 200])"
     },
     "execution_count": 5,
     "metadata": {},
     "output_type": "execute_result"
    }
   ],
   "source": [
    "print(all_images.shape)\n",
    "model_pred.shape"
   ]
  },
  {
   "cell_type": "code",
   "execution_count": 6,
   "outputs": [
    {
     "name": "stdout",
     "output_type": "stream",
     "text": [
      "torch.Size([20, 5, 200, 200])\n",
      "torch.Size([20, 1, 200, 200])\n"
     ]
    },
    {
     "name": "stderr",
     "output_type": "stream",
     "text": [
      "C:\\ProgramData\\Miniconda3\\envs\\phase_space_reconstruction\\lib\\site-packages\\numpy\\core\\_methods.py:44: RuntimeWarning: invalid value encountered in reduce\n",
      "  return umr_minimum(a, axis, None, out, keepdims, initial, where)\n",
      "C:\\ProgramData\\Miniconda3\\envs\\phase_space_reconstruction\\lib\\site-packages\\numpy\\core\\_methods.py:40: RuntimeWarning: invalid value encountered in reduce\n",
      "  return umr_maximum(a, axis, None, out, keepdims, initial, where)\n"
     ]
    },
    {
     "data": {
      "text/plain": "<matplotlib.legend.Legend at 0x1c501db2860>"
     },
     "execution_count": 6,
     "metadata": {},
     "output_type": "execute_result"
    },
    {
     "data": {
      "text/plain": "<Figure size 432x288 with 1 Axes>",
      "image/png": "[encoded data removed]"
     },
     "metadata": {
      "needs_background": "light"
     },
     "output_type": "display_data"
    }
   ],
   "source": [
    "# plot quad scan\n",
    "means, variances = calc_rms_size(xx, all_images.cpu())\n",
    "\n",
    "\n",
    "fig,ax = plt.subplots()\n",
    "k = all_k[:, 0].cpu()\n",
    "mean_variance = torch.mean(variances, dim=-2).cpu()\n",
    "error_variance = torch.std(variances, dim=-2).cpu()\n",
    "\n",
    "ax.errorbar(k, mean_variance[...,0], error_variance[...,0],capsize=5,ls='', label=\"true_x\")\n",
    "ax.errorbar(k, mean_variance[...,1], error_variance[...,1],capsize=5,ls='', label=\"true_y\")\n",
    "ax.plot(k, mean_variance[...,0],'.')\n",
    "ax.plot(k, mean_variance[...,1],'.')\n",
    "\n",
    "print(model_pred.shape)\n",
    "print(all_images.shape)\n",
    "pmeans, pvariances = calc_rms_size(xx, model_pred)\n",
    "\n",
    "mean_pvariance = torch.mean(pvariances, dim=-2)\n",
    "error_pvariance = torch.std(pvariances, dim=-2)\n",
    "\n",
    "#ax.plot(k, pvariances[...,0],'o')\n",
    "#ax.plot(k, pvariances[...,1],'o')\n",
    "\n",
    "ax.errorbar(k, mean_pvariance[...,0], error_pvariance[...,0],capsize=5,ls='', label=\"pred_x\")\n",
    "ax.errorbar(k, mean_pvariance[...,1], error_pvariance[...,1],capsize=5,ls='', label=\"pred_y\")\n",
    "\n",
    "for ele in range(1,20,2):\n",
    "    ax.axvline(all_k[ele,0].cpu())\n",
    "    \n",
    "ax.legend()\n"
   ],
   "metadata": {
    "collapsed": false,
    "pycharm": {
     "name": "#%%\n"
    }
   }
  },
  {
   "cell_type": "code",
   "execution_count": 7,
   "id": "4a1867ce-e4a0-4ab2-ba8c-8a30103003dd",
   "metadata": {
    "pycharm": {
     "name": "#%%\n"
    }
   },
   "outputs": [
    {
     "name": "stdout",
     "output_type": "stream",
     "text": [
      "tensor([5.5541e-06], grad_fn=<SqrtBackward0>)\n",
      "[('s11', Parameter containing:\n",
      "tensor([1.8338e-05], requires_grad=True)), ('s12', Parameter containing:\n",
      "tensor([-2.8023e-05], requires_grad=True)), ('s22', Parameter containing:\n",
      "tensor([4.4505e-05], requires_grad=True))]\n"
     ]
    }
   ],
   "source": [
    "# emittance for x\n",
    "from quad_scan_emittance_fit import EmittanceQuadScan\n",
    "from torch.nn.functional import mse_loss\n",
    "\n",
    "# note we initially train on a subset of the data to prevent sinking into a local\n",
    "# extrema\n",
    "idx = slice(10,21,1)\n",
    "\n",
    "model = EmittanceQuadScan(torch.tensor(1.0), torch.tensor(0.1))\n",
    "optimizer = torch.optim.Adam(model.parameters(),\n",
    "                                 lr=0.1)\n",
    "\n",
    "for i in range(1000):\n",
    "    # Zero gradients from previous iteration\n",
    "    optimizer.zero_grad()\n",
    "    # Output from model\n",
    "    output = model(k.cpu()[idx])\n",
    "    # Calc loss and backprop gradients\n",
    "    loss = mse_loss(output, mean_variance[...,0].cpu()[idx])\n",
    "    loss.backward()\n",
    "    #print(loss)\n",
    "    optimizer.step()\n",
    "\n",
    "# train on all the data\n",
    "for i in range(1000):\n",
    "    # Zero gradients from previous iteration\n",
    "    optimizer.zero_grad()\n",
    "    # Output from model\n",
    "    output = model(k.cpu())\n",
    "    # Calc loss and backprop gradients\n",
    "    loss = mse_loss(output, mean_variance[...,0].cpu())\n",
    "    loss.backward()\n",
    "    #print(loss)\n",
    "    optimizer.step()\n",
    "\n",
    "print(model.emittance)\n",
    "print(list(model.named_parameters()))\n",
    "\n",
    "# predict beam variance\n",
    "gauss_x_var = model(k)"
   ]
  },
  {
   "cell_type": "code",
   "execution_count": 8,
   "outputs": [
    {
     "name": "stdout",
     "output_type": "stream",
     "text": [
      "tensor([1.5859e-05], grad_fn=<SqrtBackward0>)\n",
      "[('s11', Parameter containing:\n",
      "tensor([1.3903e-05], requires_grad=True)), ('s12', Parameter containing:\n",
      "tensor([1.3726e-06], requires_grad=True)), ('s22', Parameter containing:\n",
      "tensor([1.8226e-05], requires_grad=True))]\n"
     ]
    }
   ],
   "source": [
    "# emittance for y\n",
    "# note we initially train on a subset of the data to prevent sinking into a local\n",
    "# extrema\n",
    "idx = slice(0,10,1)\n",
    "\n",
    "model = EmittanceQuadScan(torch.tensor(1.0), torch.tensor(0.1))\n",
    "optimizer = torch.optim.Adam(model.parameters(),\n",
    "                                 lr=0.1)\n",
    "\n",
    "for i in range(1000):\n",
    "    # Zero gradients from previous iteration\n",
    "    optimizer.zero_grad()\n",
    "    # Output from model\n",
    "    output = model(k.cpu()[idx])\n",
    "    # Calc loss and backprop gradients\n",
    "    loss = mse_loss(output, mean_variance[...,1].cpu()[idx])\n",
    "    loss.backward()\n",
    "    #print(loss)\n",
    "    optimizer.step()\n",
    "\n",
    "# train on all the data\n",
    "for i in range(1000):\n",
    "    # Zero gradients from previous iteration\n",
    "    optimizer.zero_grad()\n",
    "    # Output from model\n",
    "    output = model(k.cpu())\n",
    "    # Calc loss and backprop gradients\n",
    "    loss = mse_loss(output, mean_variance[...,1].cpu())\n",
    "    loss.backward()\n",
    "    #print(loss)\n",
    "    optimizer.step()\n",
    "\n",
    "print(model.emittance)\n",
    "print(list(model.named_parameters()))\n",
    "\n",
    "# predict beam variance\n",
    "gauss_y_var = model(k)"
   ],
   "metadata": {
    "collapsed": false,
    "pycharm": {
     "name": "#%%\n"
    }
   }
  },
  {
   "cell_type": "code",
   "execution_count": 9,
   "outputs": [
    {
     "data": {
      "text/plain": "<Figure size 288x288 with 1 Axes>",
      "image/png": "[encoded data removed]"
     },
     "metadata": {
      "needs_background": "light"
     },
     "output_type": "display_data"
    }
   ],
   "source": [
    "fig,ax = plt.subplots()\n",
    "fig.set_size_inches(4,4)\n",
    "scale_factor = 1e6\n",
    "plot_mean_variance = mean_variance*scale_factor\n",
    "plot_mean_pvariance = mean_pvariance * scale_factor\n",
    "plot_error_pvariance = error_pvariance * scale_factor\n",
    "plot_error_variance = error_variance * scale_factor\n",
    "plot_gauss_x_var = gauss_x_var*scale_factor\n",
    "plot_gauss_y_var = gauss_y_var*scale_factor\n",
    "\n",
    "ax.plot(k, plot_mean_variance[...,0],'.C2',label=\"$\\sigma_{x, true}^2$\")\n",
    "ax.plot(k, plot_mean_variance[...,1],'.C3',label=\"$\\sigma_{y, true}^2$\")\n",
    "\n",
    "\n",
    "ax.errorbar(k,\n",
    "            plot_mean_pvariance[...,0],\n",
    "            plot_error_pvariance[...,0],\n",
    "            capsize=5,ls='', label=\"$\\sigma_{x, NN}^2$\")\n",
    "ax.errorbar(k,\n",
    "            plot_mean_pvariance[...,1],\n",
    "            plot_error_pvariance[...,1],\n",
    "            capsize=5,ls='', label=\"$\\sigma_{y, NN}^2$\"\n",
    "            )\n",
    "\n",
    "# print gaussian approx pred\n",
    "ax.plot(k, plot_gauss_x_var.detach(),\"--C0\", label=\"$\\sigma_{x, MSE}^2$\")\n",
    "ax.plot(k, plot_gauss_y_var.detach(),\"--C1\", label=\"$\\sigma_{y, MSE}^2$\")\n",
    "\n",
    "ax.set_ylabel(\"$\\sigma^2$ (mm$^2$)\")\n",
    "ax.set_xlabel(\"k (m$^{-2}$)\")\n",
    "ax.legend(ncol=3)\n",
    "fig.tight_layout()\n"
   ],
   "metadata": {
    "collapsed": false,
    "pycharm": {
     "name": "#%%\n"
    }
   }
  },
  {
   "cell_type": "code",
   "execution_count": 10,
   "outputs": [
    {
     "data": {
      "text/plain": "tensor(-22.8947)"
     },
     "execution_count": 10,
     "metadata": {},
     "output_type": "execute_result"
    }
   ],
   "source": [
    "k[1]"
   ],
   "metadata": {
    "collapsed": false,
    "pycharm": {
     "name": "#%%\n"
    }
   }
  },
  {
   "cell_type": "code",
   "execution_count": 10,
   "outputs": [],
   "source": [],
   "metadata": {
    "collapsed": false,
    "pycharm": {
     "name": "#%%\n"
    }
   }
  }
 ],
 "metadata": {
  "kernelspec": {
   "display_name": "Python 3 (ipykernel)",
   "language": "python",
   "name": "python3"
  },
  "language_info": {
   "codemirror_mode": {
    "name": "ipython",
    "version": 3
   },
   "file_extension": ".py",
   "mimetype": "text/x-python",
   "name": "python",
   "nbconvert_exporter": "python",
   "pygments_lexer": "ipython3",
   "version": "3.10.4"
  }
 },
 "nbformat": 4,
 "nbformat_minor": 5
}