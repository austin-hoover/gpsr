{
 "cells": [
  {
   "cell_type": "markdown",
   "id": "5e79bc52-3061-4d20-a653-93f1791011b0",
   "metadata": {
    "pycharm": {
     "name": "#%% md\n"
    }
   },
   "source": [
    "## Compare reconstruction to quad scan"
   ]
  },
  {
   "cell_type": "code",
   "execution_count": 7,
   "id": "0143cf5d-d8be-4095-8e73-e2e30a6879a2",
   "metadata": {
    "pycharm": {
     "name": "#%%\n"
    }
   },
   "outputs": [
    {
     "name": "stdout",
     "output_type": "stream",
     "text": [
      "torch.Size([20, 1, 150, 150])\n",
      "torch.Size([20, 1])\n"
     ]
    }
   ],
   "source": [
    "import torch\n",
    "from copy import deepcopy\n",
    "from torch.utils.data import DataLoader, Dataset, random_split\n",
    "from torchensemble import VotingRegressor, SnapshotEnsembleRegressor\n",
    "import matplotlib.pyplot as plt\n",
    "from fitting import create_ensemble, CustomLoss, get_data, get_datasets\n",
    "\n",
    "import sys\n",
    "sys.path.append(\"../\")\n",
    "\n",
    "folder = \"../../test_case_4/\"\n",
    "all_k, all_images, bins, xx = get_data(folder)\n",
    "train_dset, test_dset = get_datasets(all_k, all_images)\n",
    "gt_initial_beam = torch.load(folder + \"ground_truth_dist.pt\")\n",
    "\n",
    "# transpose the images to orient right\n",
    "all_images = torch.transpose(all_images, -2, -1)\n",
    "\n",
    "from torch_track import Beam\n",
    "defaults = {\n",
    "    \"s\": torch.tensor(0.0).float(),\n",
    "    \"p0c\": torch.tensor(10.0e6).float(),\n",
    "    \"mc2\": torch.tensor(0.511e6).float(),\n",
    "}\n",
    "\n",
    "gt_initial_beam = Beam(gt_initial_beam, **defaults)\n",
    "\n",
    "\n",
    "bandwidth = torch.tensor(0.0)\n",
    "ensemble = create_ensemble(bins, bandwidth)\n",
    "\n",
    "from torchensemble.utils import io\n",
    "io.load(ensemble, \"alpha_1e-2\")\n",
    "ensemble = ensemble\n",
    "ensemble.cuda();"
   ]
  },
  {
   "cell_type": "code",
   "execution_count": 8,
   "id": "6191f79f-3534-44c8-85ae-bf2b4e9ad46f",
   "metadata": {
    "pycharm": {
     "name": "#%%\n"
    }
   },
   "outputs": [],
   "source": [
    "def calc_rms_size(xx, images):\n",
    "    # note image sums are normalized to 1\n",
    "    xx_ = xx[0].unsqueeze(0).unsqueeze(0).repeat(*images.shape[:2], 1, 1).to(images)\n",
    "    yy_ = xx[1].unsqueeze(0).unsqueeze(0).repeat(*images.shape[:2], 1, 1).to(images)\n",
    "    proj_x = images.sum(dim=-1)\n",
    "    proj_y = images.sum(dim=-2)\n",
    "    \n",
    "    x = xx_[...,:,0]\n",
    "    y = yy_[...,0,:]\n",
    "    \n",
    "    mean_x = torch.sum(x * proj_x, dim=-1).unsqueeze(-1)\n",
    "    mean_y = torch.sum(y * proj_y, dim=-1).unsqueeze(-1)\n",
    "    \n",
    "    var_x = torch.sum((x - mean_x)**2 * proj_x, dim=-1).unsqueeze(-1)\n",
    "    var_y = torch.sum((y - mean_y)**2 * proj_y, dim=-1).unsqueeze(-1)\n",
    "    \n",
    "    # calculate cross covariance\n",
    "    #var_xy = torch.sum((xx_ - mean_x)*(yy_ - mean_y)*images, dim=-1).unsqueeze(-1)\n",
    "\n",
    "    return torch.cat([mean_x, mean_y], dim=-1), torch.cat([var_x, var_y], dim=-1)\n",
    "    \n",
    "means, variances = calc_rms_size(xx, all_images)\n",
    "\n",
    "import matplotlib.pyplot as plt\n",
    "from matplotlib.patches import Ellipse\n"
   ]
  },
  {
   "cell_type": "code",
   "execution_count": 9,
   "id": "57dbd758-8870-4d22-a85f-af9f9d746017",
   "metadata": {
    "pycharm": {
     "name": "#%%\n"
    }
   },
   "outputs": [],
   "source": [
    "train_k = train_dset.k\n",
    "train_k = train_k.cuda()\n",
    "\n",
    "train_im = train_dset.images\n",
    "train_im = train_im.cpu()\n",
    "\n",
    "test_k = test_dset.k\n",
    "test_k = test_k.cuda()\n",
    "\n",
    "test_im = test_dset.images\n",
    "test_im = test_im.cpu()"
   ]
  },
  {
   "cell_type": "code",
   "execution_count": 10,
   "id": "0dcd81aa-aa8f-4d1f-a3b2-09c474b7df6e",
   "metadata": {
    "pycharm": {
     "name": "#%%\n"
    }
   },
   "outputs": [],
   "source": [
    "recompute_images = True\n",
    "with torch.no_grad():\n",
    "    if recompute_images:\n",
    "        dist = torch.distributions.MultivariateNormal(torch.zeros(6), torch.eye(6))\n",
    "        custom_beam = None#dist.sample([100000]).cuda()\n",
    "    \n",
    "        model_pred = torch.cat(\n",
    "            [ensemble[i](all_k[:,:1])[0].unsqueeze(0) for i in range(len(ensemble))]\n",
    "        )\n",
    "        model_pred = torch.transpose(model_pred.squeeze(dim=2), 0,1)\n",
    "        model_pred = model_pred.cpu().detach()\n",
    "        model_pred = torch.transpose(model_pred, -2, -1)\n",
    "        \n",
    "        torch.save(model_pred, \"all_pred_images.pt\")\n",
    "    else:\n",
    "        model_pred = torch.load(\"all_pred_images.pt\")\n"
   ]
  },
  {
   "cell_type": "code",
   "execution_count": 11,
   "id": "7b50dc63-4f7b-4b43-ae90-688fd2a33ba5",
   "metadata": {
    "pycharm": {
     "name": "#%%\n"
    }
   },
   "outputs": [
    {
     "name": "stdout",
     "output_type": "stream",
     "text": [
      "torch.Size([20, 1, 150, 150])\n"
     ]
    },
    {
     "data": {
      "text/plain": "torch.Size([20, 5, 150, 150])"
     },
     "execution_count": 11,
     "metadata": {},
     "output_type": "execute_result"
    }
   ],
   "source": [
    "print(all_images.shape)\n",
    "model_pred.shape"
   ]
  },
  {
   "cell_type": "code",
   "execution_count": 12,
   "id": "659c253b-a7a0-4ad5-923b-df99c9b1c0bf",
   "metadata": {
    "pycharm": {
     "name": "#%%\n"
    }
   },
   "outputs": [
    {
     "name": "stdout",
     "output_type": "stream",
     "text": [
      "torch.Size([20, 5, 150, 150])\n",
      "torch.Size([20, 1, 150, 150])\n"
     ]
    },
    {
     "name": "stderr",
     "output_type": "stream",
     "text": [
      "C:\\ProgramData\\Miniconda3\\envs\\phase_space_reconstruction\\lib\\site-packages\\numpy\\core\\_methods.py:44: RuntimeWarning: invalid value encountered in reduce\n",
      "  return umr_minimum(a, axis, None, out, keepdims, initial, where)\n",
      "C:\\ProgramData\\Miniconda3\\envs\\phase_space_reconstruction\\lib\\site-packages\\numpy\\core\\_methods.py:40: RuntimeWarning: invalid value encountered in reduce\n",
      "  return umr_maximum(a, axis, None, out, keepdims, initial, where)\n"
     ]
    },
    {
     "data": {
      "text/plain": "<matplotlib.legend.Legend at 0x2654d5e6290>"
     },
     "execution_count": 12,
     "metadata": {},
     "output_type": "execute_result"
    },
    {
     "data": {
      "text/plain": "<Figure size 432x288 with 1 Axes>",
      "image/png": "[encoded data removed]"
     },
     "metadata": {
      "needs_background": "light"
     },
     "output_type": "display_data"
    }
   ],
   "source": [
    "# plot quad scan\n",
    "means, variances = calc_rms_size(xx, all_images.cpu())\n",
    "\n",
    "\n",
    "fig,ax = plt.subplots()\n",
    "k = all_k[:, 0].cpu()\n",
    "mean_variance = torch.mean(variances, dim=-2).cpu()\n",
    "error_variance = torch.std(variances, dim=-2).cpu()\n",
    "\n",
    "ax.errorbar(k, mean_variance[...,0], error_variance[...,0],capsize=5,ls='', label=\"true_x\")\n",
    "ax.errorbar(k, mean_variance[...,1], error_variance[...,1],capsize=5,ls='', label=\"true_y\")\n",
    "ax.plot(k, mean_variance[...,0],'.')\n",
    "ax.plot(k, mean_variance[...,1],'.')\n",
    "\n",
    "print(model_pred.shape)\n",
    "print(all_images.shape)\n",
    "pmeans, pvariances = calc_rms_size(xx, model_pred)\n",
    "\n",
    "mean_pvariance = torch.mean(pvariances, dim=-2)\n",
    "error_pvariance = torch.std(pvariances, dim=-2)\n",
    "\n",
    "#ax.plot(k, pvariances[...,0],'o')\n",
    "#ax.plot(k, pvariances[...,1],'o')\n",
    "\n",
    "ax.errorbar(k, mean_pvariance[...,0], error_pvariance[...,0],capsize=5,ls='', label=\"pred_x\")\n",
    "ax.errorbar(k, mean_pvariance[...,1], error_pvariance[...,1],capsize=5,ls='', label=\"pred_y\")\n",
    "\n",
    "for ele in range(1,20,2):\n",
    "    ax.axvline(all_k[ele,0].cpu())\n",
    "    \n",
    "ax.legend()"
   ]
  },
  {
   "cell_type": "code",
   "execution_count": 15,
   "id": "16356a7c-fed5-4636-ba02-bd997a8972bc",
   "metadata": {
    "pycharm": {
     "name": "#%%\n"
    }
   },
   "outputs": [
    {
     "name": "stdout",
     "output_type": "stream",
     "text": [
      "tensor([1.1467e-05], grad_fn=<SqrtBackward0>)\n",
      "[('s11', Parameter containing:\n",
      "tensor([1.4057e-05], requires_grad=True)), ('s12', Parameter containing:\n",
      "tensor([-1.1287e-05], requires_grad=True)), ('s22', Parameter containing:\n",
      "tensor([1.8417e-05], requires_grad=True))]\n"
     ]
    }
   ],
   "source": [
    "# do quad scan fit for x\n",
    "from quad_scan_emittance_fit import EmittanceQuadScan\n",
    "from torch.nn.functional import mse_loss\n",
    "\n",
    "\n",
    "model = EmittanceQuadScan(k.cpu(), torch.tensor(1.0), torch.tensor(0.1))\n",
    "optimizer = torch.optim.Adam(model.parameters(),\n",
    "                                 lr=0.1)  # Includes GaussianLikelihood parameters\n",
    "\n",
    "for i in range(1000):\n",
    "    # Zero gradients from previous iteration\n",
    "    optimizer.zero_grad()\n",
    "    # Output from model\n",
    "    output = model()\n",
    "    # Calc loss and backprop gradients\n",
    "    loss = mse_loss(output, mean_variance[...,0].cpu())\n",
    "    loss.backward()\n",
    "    #print(loss)\n",
    "    optimizer.step()\n",
    "\n",
    "\n",
    "print(model.emittance)\n",
    "print(list(model.named_parameters()))"
   ]
  },
  {
   "cell_type": "code",
   "execution_count": 16,
   "id": "4a1867ce-e4a0-4ab2-ba8c-8a30103003dd",
   "metadata": {
    "pycharm": {
     "name": "#%%\n"
    }
   },
   "outputs": [
    {
     "name": "stdout",
     "output_type": "stream",
     "text": [
      "tensor([2.2475e-06], grad_fn=<SqrtBackward0>)\n",
      "[('s11', Parameter containing:\n",
      "tensor([2.1755e-05], requires_grad=True)), ('s12', Parameter containing:\n",
      "tensor([-3.1128e-05], requires_grad=True)), ('s22', Parameter containing:\n",
      "tensor([4.4773e-05], requires_grad=True))]\n"
     ]
    }
   ],
   "source": [
    "# emittance for y\n",
    "model = EmittanceQuadScan(k.cpu(), torch.tensor(1.0), torch.tensor(0.1))\n",
    "optimizer = torch.optim.Adam(model.parameters(),\n",
    "                                 lr=0.1)  # Includes GaussianLikelihood parameters\n",
    "\n",
    "for i in range(1000):\n",
    "    # Zero gradients from previous iteration\n",
    "    optimizer.zero_grad()\n",
    "    # Output from model\n",
    "    output = model()\n",
    "    # Calc loss and backprop gradients\n",
    "    loss = mse_loss(output, mean_variance[...,1].cpu())\n",
    "    loss.backward()\n",
    "    #print(loss)\n",
    "    optimizer.step()\n",
    "\n",
    "\n",
    "print(model.emittance)\n",
    "print(list(model.named_parameters()))"
   ]
  },
  {
   "cell_type": "code",
   "execution_count": null,
   "outputs": [],
   "source": [],
   "metadata": {
    "collapsed": false,
    "pycharm": {
     "name": "#%%\n"
    }
   }
  }
 ],
 "metadata": {
  "kernelspec": {
   "display_name": "Python 3 (ipykernel)",
   "language": "python",
   "name": "python3"
  },
  "language_info": {
   "codemirror_mode": {
    "name": "ipython",
    "version": 3
   },
   "file_extension": ".py",
   "mimetype": "text/x-python",
   "name": "python",
   "nbconvert_exporter": "python",
   "pygments_lexer": "ipython3",
   "version": "3.10.4"
  }
 },
 "nbformat": 4,
 "nbformat_minor": 5
}