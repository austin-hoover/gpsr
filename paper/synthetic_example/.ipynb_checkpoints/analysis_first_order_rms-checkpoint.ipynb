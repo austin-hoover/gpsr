{
 "cells": [
  {
   "cell_type": "code",
   "execution_count": 1,
   "metadata": {},
   "outputs": [
    {
     "name": "stderr",
     "output_type": "stream",
     "text": [
      "/global/homes/r/rroussel/.conda/envs/phase_space_reconstruction/lib/python3.10/site-packages/tqdm/auto.py:22: TqdmWarning: IProgress not found. Please update jupyter and ipywidgets. See https://ipywidgets.readthedocs.io/en/stable/user_install.html\n",
      "  from .autonotebook import tqdm as notebook_tqdm\n",
      "/global/homes/r/rroussel/.conda/envs/phase_space_reconstruction/lib/python3.10/site-packages/torch/functional.py:568: UserWarning: torch.meshgrid: in an upcoming release, it will be required to pass the indexing argument. (Triggered internally at  /opt/conda/conda-bld/pytorch_1646755897462/work/aten/src/ATen/native/TensorShape.cpp:2228.)\n",
      "  return _VF.meshgrid(tensors, **kwargs)  # type: ignore[attr-defined]\n"
     ]
    }
   ],
   "source": [
    "import matplotlib.pyplot as plt\n",
    "\n",
    "from fitting import create_ensemble, load_data, create_datasets\n",
    "import torch\n",
    "\n",
    "\n",
    "labels = [\"x (mm)\", r\"$p_x$ (mrad)\",\"y (mm)\",r\"$p_y$ (mrad)\",\"z (mm)\",r\"$p_z$ (mrad)\"]\n",
    "\n",
    "tkwargs = {\"dtype\": torch.float}\n",
    "save_dir = \"double_small_emittance_case_cov_term_no_energy_spread/\"\n",
    "quad_strengths, image_data, bins, xx,_ = load_data()\n",
    "train_dset = torch.load(save_dir + \"/train.dset\")\n",
    "test_dset = torch.load(save_dir + \"/test.dset\")\n",
    "\n",
    "bin_width = bins[1] - bins[0]\n",
    "bandwidth = bin_width / 2\n",
    "\n",
    "\n",
    "ensemble = create_ensemble(bins, bandwidth)\n",
    "\n",
    "from torchensemble.utils import io\n",
    "io.load(ensemble, save_dir)\n",
    "\n",
    "n_particles = 100000\n",
    "for ele in ensemble:\n",
    "    ele.beam.set_base_beam(\n",
    "        ele.beam.base_dist,\n",
    "        n_particles,\n",
    "        p0c=torch.tensor(10.0e6)\n",
    "    )\n",
    "\n",
    "ensemble.cuda();"
   ]
  },
  {
   "cell_type": "code",
   "execution_count": 2,
   "metadata": {
    "collapsed": false,
    "jupyter": {
     "outputs_hidden": false
    }
   },
   "outputs": [],
   "source": [
    "from phase_space_reconstruction.utils import calculate_ellipse\n",
    "# calculate rms stats from each image\n",
    "covs = []\n",
    "for ele in image_data.transpose(-1,-2):\n",
    "    centroid, cov = calculate_ellipse(ele, bins, bins)\n",
    "    covs += [cov]\n",
    "\n",
    "covs = torch.stack(covs)\n",
    "\n",
    "# plot reconstruction covs\n",
    "with torch.no_grad():\n",
    "    predictions = []\n",
    "    for i in range(20):\n",
    "        p, _, _ = ensemble[i](quad_strengths[:,0,:].cuda())\n",
    "        predictions += [p]\n",
    "\n",
    "predictions = torch.stack(predictions).cpu().transpose(0,1)\n",
    "rcovs = []\n",
    "for ele in predictions.transpose(-1,-2):\n",
    "    centroid, cov = calculate_ellipse(ele, bins, bins)\n",
    "    rcovs += [cov]\n",
    "\n",
    "rcovs = torch.stack(rcovs)\n",
    "rcovs_mean = rcovs.mean(dim=1)\n",
    "rcovs_std = rcovs.std(dim=1)\n"
   ]
  },
  {
   "cell_type": "code",
   "execution_count": 3,
   "metadata": {
    "collapsed": false,
    "jupyter": {
     "outputs_hidden": false
    }
   },
   "outputs": [
    {
     "data": {
      "text/plain": [
       "<ErrorbarContainer object of 3 artists>"
      ]
     },
     "execution_count": 3,
     "metadata": {},
     "output_type": "execute_result"
    },
    {
     "data": {
      "image/png": "[encoded data removed]",
      "text/plain": [
       "<Figure size 432x288 with 1 Axes>"
      ]
     },
     "metadata": {
      "needs_background": "light"
     },
     "output_type": "display_data"
    }
   ],
   "source": [
    "plt.plot(quad_strengths.detach().cpu().flatten(), covs[...,0,0].detach().cpu().flatten(),\".\")\n",
    "plt.plot(quad_strengths.detach().cpu().flatten(), covs[...,1,0].detach().cpu().flatten(),\".\")\n",
    "plt.plot(quad_strengths.detach().cpu().flatten(), covs[...,1,1].detach().cpu().flatten(),\".\")\n",
    "\n",
    "plt.errorbar(quad_strengths[:,0,:].detach().cpu().flatten(), rcovs_mean[...,0,0]\n",
    "             .flatten(), rcovs_std[...,0,0].flatten())\n",
    "plt.errorbar(quad_strengths[:,0,:].detach().cpu().flatten(), rcovs_mean[...,1,0]\n",
    "             .flatten(), rcovs_std[...,1,0].flatten())\n",
    "plt.errorbar(quad_strengths[:,0,:].detach().cpu().flatten(), rcovs_mean[...,1,1]\n",
    "             .flatten(), rcovs_std[...,1,1].flatten())\n",
    "#plt.plot(quad_strengths[:,0,:].detach().cpu().flatten(), rcovs[...,1,0].flatten(),\"+\")\n",
    "#plt.plot(quad_strengths[:,0,:].detach().cpu().flatten(), rcovs[...,1,1].flatten(),\"+\")\n"
   ]
  },
  {
   "cell_type": "code",
   "execution_count": 9,
   "metadata": {
    "collapsed": false,
    "jupyter": {
     "outputs_hidden": false
    }
   },
   "outputs": [
    {
     "name": "stdout",
     "output_type": "stream",
     "text": [
      "tensor(338.7480, grad_fn=<MeanBackward0>)\n",
      "tensor(1.7612, grad_fn=<MeanBackward0>)\n",
      "tensor(1.5705, grad_fn=<MeanBackward0>)\n",
      "tensor(1.4570, grad_fn=<MeanBackward0>)\n",
      "tensor(1.4356, grad_fn=<MeanBackward0>)\n",
      "tensor(1.5899, grad_fn=<MeanBackward0>)\n",
      "tensor(1.5070, grad_fn=<MeanBackward0>)\n",
      "tensor(1.4566, grad_fn=<MeanBackward0>)\n",
      "tensor(1.4304, grad_fn=<MeanBackward0>)\n",
      "tensor(1.4259, grad_fn=<MeanBackward0>)\n",
      "tensor(1.5871, grad_fn=<MeanBackward0>)\n",
      "tensor(1.4527, grad_fn=<MeanBackward0>)\n",
      "tensor(1.5196, grad_fn=<MeanBackward0>)\n",
      "tensor(1.4309, grad_fn=<MeanBackward0>)\n",
      "tensor(1.4492, grad_fn=<MeanBackward0>)\n",
      "tensor(1.4406, grad_fn=<MeanBackward0>)\n",
      "tensor(1.4493, grad_fn=<MeanBackward0>)\n",
      "tensor(1.4842, grad_fn=<MeanBackward0>)\n",
      "tensor(1.4301, grad_fn=<MeanBackward0>)\n",
      "tensor(1.4837, grad_fn=<MeanBackward0>)\n",
      "[('lambda_1', Parameter containing:\n",
      "tensor(0.3540, requires_grad=True)), ('lambda_2', Parameter containing:\n",
      "tensor(0.5016, requires_grad=True)), ('c', Parameter containing:\n",
      "tensor(-3.0667, requires_grad=True))]\n",
      "tensor(4.7390e-05, grad_fn=<DivBackward0>)\n",
      "tensor(340.4413, grad_fn=<MeanBackward0>)\n",
      "tensor(2.0941, grad_fn=<MeanBackward0>)\n",
      "tensor(2.1119, grad_fn=<MeanBackward0>)\n",
      "tensor(2.0841, grad_fn=<MeanBackward0>)\n",
      "tensor(2.0981, grad_fn=<MeanBackward0>)\n",
      "tensor(2.0596, grad_fn=<MeanBackward0>)\n",
      "tensor(2.0958, grad_fn=<MeanBackward0>)\n",
      "tensor(2.2508, grad_fn=<MeanBackward0>)\n",
      "tensor(2.1404, grad_fn=<MeanBackward0>)\n",
      "tensor(2.0831, grad_fn=<MeanBackward0>)\n",
      "tensor(2.1537, grad_fn=<MeanBackward0>)\n",
      "tensor(2.1188, grad_fn=<MeanBackward0>)\n",
      "tensor(2.1798, grad_fn=<MeanBackward0>)\n",
      "tensor(2.1099, grad_fn=<MeanBackward0>)\n",
      "tensor(2.1333, grad_fn=<MeanBackward0>)\n",
      "tensor(2.0710, grad_fn=<MeanBackward0>)\n",
      "tensor(2.0957, grad_fn=<MeanBackward0>)\n",
      "tensor(2.1907, grad_fn=<MeanBackward0>)\n",
      "tensor(2.1593, grad_fn=<MeanBackward0>)\n",
      "tensor(2.0960, grad_fn=<MeanBackward0>)\n",
      "[('lambda_1', Parameter containing:\n",
      "tensor(0.4189, requires_grad=True)), ('lambda_2', Parameter containing:\n",
      "tensor(0.2852, requires_grad=True)), ('c', Parameter containing:\n",
      "tensor(-0.7985, requires_grad=True))]\n",
      "tensor(0.0003, grad_fn=<DivBackward0>)\n"
     ]
    },
    {
     "data": {
      "image/png": "[encoded data removed]",
      "text/plain": [
       "<Figure size 432x288 with 1 Axes>"
      ]
     },
     "metadata": {
      "needs_background": "light"
     },
     "output_type": "display_data"
    },
    {
     "data": {
      "image/png": "[encoded data removed]",
      "text/plain": [
       "<Figure size 432x288 with 1 Axes>"
      ]
     },
     "metadata": {
      "needs_background": "light"
     },
     "output_type": "display_data"
    }
   ],
   "source": [
    "from phase_space_reconstruction.modeling import NormalizedQuadScan\n",
    "from torch.nn.functional import mse_loss\n",
    "\n",
    "\n",
    "# fit phase spaces\n",
    "train_s11 = covs.squeeze()[::2,0,0].detach().cpu()\n",
    "train_s22 = covs.squeeze()[::2,1,1].detach().cpu()\n",
    "train_k = quad_strengths[::2].flatten().cpu()\n",
    "\n",
    "rms_data = torch.stack((train_k, train_s11, train_s22))\n",
    "torch.save(rms_data, \"rms_data.pt\")\n",
    "\n",
    "for ele in [train_s11, train_s22]:\n",
    "    quad_length = torch.tensor(0.1)\n",
    "    drift = torch.tensor(1.0)\n",
    "    A = train_s11.max().sqrt()\n",
    "\n",
    "    model = NormalizedQuadScan(A, drift, quad_length)\n",
    "\n",
    "    optimizer = torch.optim.Adam(\n",
    "            model.parameters(), lr=0.01\n",
    "    )\n",
    "\n",
    "    if 1:\n",
    "        for i in range(20000):\n",
    "            # Zero gradients from previous iteration\n",
    "            optimizer.zero_grad()\n",
    "            # Output from model\n",
    "            output = model(train_k)\n",
    "            # Calc loss and backprop gradients\n",
    "            loss = torch.abs(output*1e6 - ele*1e6).mean()\n",
    "            loss.backward()\n",
    "            if not i % 5000:\n",
    "                print(loss)\n",
    "            optimizer.step()\n",
    "\n",
    "        #print(list(model.named_parameters()))\n",
    "\n",
    "    with torch.no_grad():\n",
    "        #model.beam_matrix = torch.tensor(((s11, s12), (s12, s22)))\n",
    "        print(list(model.named_parameters()))\n",
    "\n",
    "        pred_y = model(train_k)\n",
    "        plt.figure()\n",
    "        plt.plot(train_k, ele*1e6, \"o\")\n",
    "        plt.plot(train_k, pred_y.detach()*1e6)\n",
    "    print(model.emittance()*10.0/0.511)\n"
   ]
  },
  {
   "cell_type": "code",
   "execution_count": 5,
   "metadata": {
    "collapsed": false,
    "jupyter": {
     "outputs_hidden": false
    }
   },
   "outputs": [
    {
     "data": {
      "text/plain": [
       "torch.Size([80])"
      ]
     },
     "execution_count": 5,
     "metadata": {},
     "output_type": "execute_result"
    }
   ],
   "source": [
    "covs.flatten().shape"
   ]
  }
 ],
 "metadata": {
  "kernelspec": {
   "display_name": "Python 3 (ipykernel)",
   "language": "python",
   "name": "python3"
  },
  "language_info": {
   "codemirror_mode": {
    "name": "ipython",
    "version": 3
   },
   "file_extension": ".py",
   "mimetype": "text/x-python",
   "name": "python",
   "nbconvert_exporter": "python",
   "pygments_lexer": "ipython3",
   "version": "3.10.4"
  }
 },
 "nbformat": 4,
 "nbformat_minor": 4
}
