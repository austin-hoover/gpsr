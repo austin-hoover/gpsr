{
 "cells": [
  {
   "cell_type": "code",
   "execution_count": 2,
   "metadata": {
    "collapsed": true
   },
   "outputs": [
    {
     "name": "stdout",
     "output_type": "stream",
     "text": [
      "0\n",
      "1\n",
      "2\n",
      "3\n",
      "4\n",
      "5\n",
      "6\n",
      "7\n",
      "8\n",
      "9\n"
     ]
    },
    {
     "data": {
      "text/plain": "torch.Size([10, 6, 6])"
     },
     "execution_count": 2,
     "metadata": {},
     "output_type": "execute_result"
    }
   ],
   "source": [
    "import matplotlib.pyplot as plt\n",
    "\n",
    "from fitting import create_ensemble, load_data, create_datasets\n",
    "import torch\n",
    "\n",
    "tkwargs = {\"dtype\": torch.float}\n",
    "save_dir = \"alpha_1000\"\n",
    "quad_strengths, image_data, bins, xx = load_data()\n",
    "train_dset = torch.load(save_dir + \"/train.dset\")\n",
    "test_dset = torch.load(save_dir + \"/test.dset\")\n",
    "\n",
    "bin_width = bins[1] - bins[0]\n",
    "bandwidth = bin_width / 2\n",
    "ensemble = create_ensemble(bins, bandwidth)\n",
    "\n",
    "from torchensemble.utils import io\n",
    "io.load(ensemble, save_dir)\n",
    "\n",
    "ensemble.cuda();\n",
    "covs = []\n",
    "for i in range(10):\n",
    "    initial_beam = ensemble[i].beam()\n",
    "    covs+= [torch.cov(initial_beam.data.T)]\n",
    "\n",
    "covs = torch.stack(covs)\n",
    "covs.shape\n",
    "\n"
   ]
  },
  {
   "cell_type": "code",
   "execution_count": 14,
   "outputs": [
    {
     "name": "stdout",
     "output_type": "stream",
     "text": [
      "enx 5.693962975783506e-06 +/- 2.01665372401294e-07\n",
      "eny 8.181016710295808e-06 +/- 3.5934760944655864e-07\n"
     ]
    }
   ],
   "source": [
    "xemittances = torch.det(covs[:,:2,:2]).sqrt()\n",
    "yemittances = torch.det(covs[:,2:4,2:4]).sqrt()\n",
    "print(f\"enx {xemittances.mean()} +/- {xemittances.std()}\")\n",
    "print(f\"eny {yemittances.mean()} +/- {yemittances.std()}\")\n",
    "\n",
    "\n",
    "\n"
   ],
   "metadata": {
    "collapsed": false
   }
  },
  {
   "cell_type": "code",
   "execution_count": 15,
   "outputs": [
    {
     "data": {
      "text/plain": "tensor([5.1649e-06, 5.5585e-06, 5.6826e-06, 5.7658e-06, 5.8001e-06, 5.8100e-06,\n        5.7693e-06, 5.7769e-06, 5.7970e-06, 5.8144e-06], device='cuda:0',\n       grad_fn=<SqrtBackward0>)"
     },
     "execution_count": 15,
     "metadata": {},
     "output_type": "execute_result"
    }
   ],
   "source": [
    "xemittances"
   ],
   "metadata": {
    "collapsed": false
   }
  },
  {
   "cell_type": "code",
   "execution_count": 16,
   "outputs": [
    {
     "data": {
      "text/plain": "tensor([7.2719e-06, 7.8942e-06, 8.1700e-06, 8.2755e-06, 8.2912e-06, 8.2801e-06,\n        8.3265e-06, 8.3774e-06, 8.4102e-06, 8.5130e-06], device='cuda:0',\n       grad_fn=<SqrtBackward0>)"
     },
     "execution_count": 16,
     "metadata": {},
     "output_type": "execute_result"
    }
   ],
   "source": [
    "yemittances"
   ],
   "metadata": {
    "collapsed": false
   }
  },
  {
   "cell_type": "code",
   "execution_count": 20,
   "outputs": [
    {
     "data": {
      "text/plain": "[<matplotlib.lines.Line2D at 0x1ecdaa542b0>]"
     },
     "execution_count": 20,
     "metadata": {},
     "output_type": "execute_result"
    },
    {
     "data": {
      "text/plain": "<Figure size 432x288 with 1 Axes>",
      "image/png": "[encoded data removed]"
     },
     "metadata": {
      "needs_background": "light"
     },
     "output_type": "display_data"
    }
   ],
   "source": [
    "plt.plot(yemittances.cpu().detach())\n",
    "plt.plot(xemittances.cpu().detach())"
   ],
   "metadata": {
    "collapsed": false
   }
  },
  {
   "cell_type": "code",
   "execution_count": null,
   "outputs": [],
   "source": [],
   "metadata": {
    "collapsed": false
   }
  }
 ],
 "metadata": {
  "kernelspec": {
   "display_name": "Python 3",
   "language": "python",
   "name": "python3"
  },
  "language_info": {
   "codemirror_mode": {
    "name": "ipython",
    "version": 2
   },
   "file_extension": ".py",
   "mimetype": "text/x-python",
   "name": "python",
   "nbconvert_exporter": "python",
   "pygments_lexer": "ipython2",
   "version": "2.7.6"
  }
 },
 "nbformat": 4,
 "nbformat_minor": 0
}
