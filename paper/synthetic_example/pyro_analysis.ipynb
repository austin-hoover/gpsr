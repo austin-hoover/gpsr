{
 "cells": [
  {
   "cell_type": "markdown",
   "id": "112a5483-b6dd-42c1-b914-d151b6a79dae",
   "metadata": {},
   "source": [
    "## Synthetic pyro analysis"
   ]
  },
  {
   "cell_type": "code",
   "execution_count": 1,
   "id": "eeda68fc-bcca-4ba3-a768-63232974d240",
   "metadata": {},
   "outputs": [
    {
     "name": "stderr",
     "output_type": "stream",
     "text": [
      "/global/homes/r/rroussel/.conda/envs/phase_space_reconstruction/lib/python3.10/site-packages/tqdm/auto.py:22: TqdmWarning: IProgress not found. Please update jupyter and ipywidgets. See https://ipywidgets.readthedocs.io/en/stable/user_install.html\n",
      "  from .autonotebook import tqdm as notebook_tqdm\n"
     ]
    },
    {
     "data": {
      "text/plain": [
       "torch.Size([3, 10])"
      ]
     },
     "execution_count": 1,
     "metadata": {},
     "output_type": "execute_result"
    }
   ],
   "source": [
    "import torch\n",
    "from phase_space_reconstruction.modeling import NormalizedQuadScan\n",
    "\n",
    "rms_data = torch.load(\"rms_data.pt\")\n",
    "rms_data.shape"
   ]
  },
  {
   "cell_type": "code",
   "execution_count": 2,
   "id": "f50b6291-d9ae-470e-b400-8a309f543ecd",
   "metadata": {},
   "outputs": [],
   "source": [
    "train_k = rms_data[0]\n",
    "train_s11 = rms_data[1]\n",
    "train_s22 = rms_data[2]\n",
    "quad_length = torch.tensor(0.1)\n",
    "drift = torch.tensor(1.0)\n",
    "A = rms_data[1].max().sqrt()\n",
    "\n",
    "train_y = train_s11\n"
   ]
  },
  {
   "cell_type": "code",
   "execution_count": 3,
   "id": "88503da8-b044-41cd-b9a5-5208105102fd",
   "metadata": {},
   "outputs": [
    {
     "name": "stdout",
     "output_type": "stream",
     "text": [
      "{}\n"
     ]
    }
   ],
   "source": [
    "# do bayesian linear regression using pyro\n",
    "import pyro\n",
    "from pyro import poutine\n",
    "\n",
    "from pyro.nn import PyroModule, PyroParam, PyroSample\n",
    "import pyro.distributions as dist\n",
    "\n",
    "from pyro.infer import Predictive\n",
    "from pyro.infer.autoguide import AutoNormal\n",
    "\n",
    "class PyroNormalizedQuadScan(NormalizedQuadScan, PyroModule):\n",
    "    def __init__(self, A, drift, quad_length):\n",
    "        super().__init__(A, drift, quad_length)\n",
    "        self.sigma = PyroSample(dist.Uniform(0., 0.001))\n",
    "        \n",
    "    def forward(self, k, y=None):\n",
    "        sigma = self.sigma\n",
    "        mean = super().forward(k)*1e6\n",
    "        \n",
    "        # NOTE: Laplace likelihood cooresponds to mean absolute error\n",
    "        with pyro.plate(\"data\", k.shape[0]):\n",
    "            obs = pyro.sample(\"obs\", dist.Laplace(mean, sigma), obs=y)\n",
    "        return mean\n",
    "\n",
    "\n",
    "\n",
    "model = PyroNormalizedQuadScan(A, drift, quad_length)\n",
    "model.lambda_1 = PyroSample(dist.Normal(1.0,100.0))\n",
    "model.lambda_2 = PyroSample(dist.Normal(1.0,100.0))\n",
    "model.c = PyroSample(dist.Normal(0.0,100.0))\n",
    "\n",
    "posterior_module = pyro.nn.PyroModule(\"model\")\n",
    "posterior_module.guide = AutoNormal(poutine.block(model, hide=['bm']))\n",
    "\n",
    "\n",
    "print(dict(model.named_parameters()))"
   ]
  },
  {
   "cell_type": "code",
   "execution_count": 4,
   "id": "84c65032-b157-407f-96de-109cd08081d3",
   "metadata": {},
   "outputs": [
    {
     "name": "stdout",
     "output_type": "stream",
     "text": [
      "[iter 0]  loss: 892797.6701\n",
      "[iter 500]  loss: 35031.8810\n",
      "[iter 1000]  loss: 15725.8219\n",
      "[iter 1500]  loss: 16030.7833\n",
      "[iter 2000]  loss: 15775.4624\n",
      "[iter 2500]  loss: 15873.5770\n",
      "[iter 3000]  loss: 14706.6687\n",
      "[iter 3500]  loss: 15246.4020\n"
     ]
    },
    {
     "data": {
      "text/plain": [
       "[<matplotlib.lines.Line2D at 0x1514e2f695a0>]"
      ]
     },
     "execution_count": 4,
     "metadata": {},
     "output_type": "execute_result"
    },
    {
     "data": {
      "image/png": "[encoded data removed]",
      "text/plain": [
       "<Figure size 432x288 with 1 Axes>"
      ]
     },
     "metadata": {
      "needs_background": "light"
     },
     "output_type": "display_data"
    }
   ],
   "source": [
    "from pyro.infer import SVI, Trace_ELBO\n",
    "import matplotlib.pyplot as plt\n",
    "\n",
    "def train(model, guide, *args, lr=0.001, n_steps=201, verbose=False):\n",
    "    pyro.clear_param_store()\n",
    "    initial_lr = lr\n",
    "    gamma = 0.1  # final learning rate will be gamma * initial_lr\n",
    "    lrd = gamma ** (1 / n_steps)\n",
    "    optim = pyro.optim.ClippedAdam({'lr': initial_lr, 'lrd': lrd})\n",
    "    svi = SVI(model, guide, optim, loss=Trace_ELBO(num_particles=1))\n",
    "\n",
    "    losses = []\n",
    "    for step in range(n_steps):\n",
    "        loss = svi.step(*args)\n",
    "        losses.append(loss)\n",
    "        if step % 500 == 0 and verbose:\n",
    "            print('[iter {}]  loss: {:.4f}'.format(step, loss))\n",
    "\n",
    "    return losses\n",
    "\n",
    "losses= train(\n",
    "    model,posterior_module.guide, train_k, train_y*1e6,\n",
    "    lr=0.01,n_steps=4000, verbose=True\n",
    ")\n",
    "plt.plot(losses)\n"
   ]
  },
  {
   "cell_type": "code",
   "execution_count": 5,
   "id": "fc9fefc0-f772-4284-a3b5-85dc06123fdf",
   "metadata": {},
   "outputs": [
    {
     "name": "stdout",
     "output_type": "stream",
     "text": [
      "tensor([3.1356, 3.1985, 3.2967, 3.4005, 3.4721])\n",
      "tensor(3.2993)\n",
      "tensor(0.1026)\n"
     ]
    },
    {
     "data": {
      "image/png": "[encoded data removed]",
      "text/plain": [
       "<Figure size 432x288 with 1 Axes>"
      ]
     },
     "metadata": {
      "needs_background": "light"
     },
     "output_type": "display_data"
    }
   ],
   "source": [
    "posterior_predictive = Predictive(model, num_samples=10000, parallel=True,\n",
    "                               guide=posterior_module.guide)\n",
    "test_k = torch.linspace(train_k.min(),train_k.max(),100)\n",
    "\n",
    "posterior_samples = posterior_predictive(test_k)\n",
    "\n",
    "def get_stats(samples):\n",
    "    mean = torch.mean(samples, dim=0)\n",
    "    l = torch.quantile(samples, 0.05, dim=0)\n",
    "    u = torch.quantile(samples, 0.95, dim=0)\n",
    "    return mean, l, u\n",
    "\n",
    "fig, ax = plt.subplots()\n",
    "m, l, u = get_stats(posterior_samples[\"obs\"].squeeze())\n",
    "ax.plot(test_k.squeeze().cpu(), m.cpu())\n",
    "ax.fill_between(test_k.squeeze().cpu(), l.cpu(), u.cpu(), alpha=0.25)\n",
    "\n",
    "ax.plot(train_k.squeeze().cpu(), train_y.squeeze().cpu()*1e6, '.')\n",
    "\n",
    "c = posterior_samples[\"c\"]\n",
    "l1 = posterior_samples[\"lambda_1\"]\n",
    "l2 = posterior_samples[\"lambda_2\"]\n",
    "\n",
    "norm_c = torch.tanh(c)\n",
    "norm_emit = (l1**2 * l2**2 * (1 - norm_c**2)).sqrt()\n",
    "emit = norm_emit * A ** 2\n",
    "emit = emit\n",
    "\n",
    "qs = torch.quantile(emit, torch.tensor([0.05,0.5-0.34,0.5,0.5+0.34,0.95]))\n",
    "print(qs*1e6)\n",
    "print(emit.mean()*1e6)\n",
    "print(emit.std()*1e6)"
   ]
  },
  {
   "cell_type": "code",
   "execution_count": 6,
   "id": "ca64c93e-9745-429a-aff3-506c2256b270",
   "metadata": {},
   "outputs": [
    {
     "data": {
      "text/plain": [
       "(array([4.000e+01, 2.770e+02, 1.170e+03, 2.584e+03, 2.977e+03, 1.964e+03,\n",
       "        7.430e+02, 2.120e+02, 3.100e+01, 2.000e+00]),\n",
       " array([2.9553594e-06, 3.0348942e-06, 3.1144291e-06, 3.1939642e-06,\n",
       "        3.2734990e-06, 3.3530339e-06, 3.4325687e-06, 3.5121036e-06,\n",
       "        3.5916387e-06, 3.6711735e-06, 3.7507084e-06], dtype=float32),\n",
       " <BarContainer object of 10 artists>)"
      ]
     },
     "execution_count": 6,
     "metadata": {},
     "output_type": "execute_result"
    },
    {
     "data": {
      "image/png": "[encoded data removed]",
      "text/plain": [
       "<Figure size 432x288 with 1 Axes>"
      ]
     },
     "metadata": {
      "needs_background": "light"
     },
     "output_type": "display_data"
    }
   ],
   "source": [
    "plt.hist(emit.numpy())"
   ]
  },
  {
   "cell_type": "code",
   "execution_count": 7,
   "id": "e9ced140-8f0e-4f6a-ad91-5c0b1a282a0f",
   "metadata": {},
   "outputs": [
    {
     "data": {
      "text/plain": [
       "0.29154759474226505"
      ]
     },
     "execution_count": 7,
     "metadata": {},
     "output_type": "execute_result"
    }
   ],
   "source": [
    "import numpy as np\n",
    "np.sqrt(0.27**2 + 0.11**2)"
   ]
  },
  {
   "cell_type": "code",
   "execution_count": 8,
   "id": "87600fc0-0ee4-44c9-9ad8-220c2773d67e",
   "metadata": {},
   "outputs": [
    {
     "data": {
      "text/plain": [
       "30.437999999999995"
      ]
     },
     "execution_count": 8,
     "metadata": {},
     "output_type": "execute_result"
    }
   ],
   "source": [
    "2.28*13.35"
   ]
  },
  {
   "cell_type": "code",
   "execution_count": 9,
   "id": "5f619e0b-e123-4f38-8a00-4c86ff489f99",
   "metadata": {},
   "outputs": [],
   "source": [
    "gamma = 63 / 0.511"
   ]
  },
  {
   "cell_type": "code",
   "execution_count": 10,
   "id": "ffed76d1-ebb2-4866-9876-44e568503593",
   "metadata": {},
   "outputs": [
    {
     "data": {
      "text/plain": [
       "0.033904444444444445"
      ]
     },
     "execution_count": 10,
     "metadata": {},
     "output_type": "execute_result"
    }
   ],
   "source": [
    "4.18 / gamma"
   ]
  },
  {
   "cell_type": "code",
   "execution_count": null,
   "id": "51251f06-3ad1-4d2f-91db-ac8156f19aff",
   "metadata": {},
   "outputs": [],
   "source": []
  }
 ],
 "metadata": {
  "kernelspec": {
   "display_name": "Python 3 (ipykernel)",
   "language": "python",
   "name": "python3"
  },
  "language_info": {
   "codemirror_mode": {
    "name": "ipython",
    "version": 3
   },
   "file_extension": ".py",
   "mimetype": "text/x-python",
   "name": "python",
   "nbconvert_exporter": "python",
   "pygments_lexer": "ipython3",
   "version": "3.10.4"
  }
 },
 "nbformat": 4,
 "nbformat_minor": 5
}
