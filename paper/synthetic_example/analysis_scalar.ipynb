{
 "cells": [
  {
   "cell_type": "code",
   "execution_count": 1,
   "metadata": {},
   "outputs": [
    {
     "name": "stderr",
     "output_type": "stream",
     "text": [
      "/global/homes/r/rroussel/.conda/envs/phase_space_reconstruction/lib/python3.10/site-packages/tqdm/auto.py:22: TqdmWarning: IProgress not found. Please update jupyter and ipywidgets. See https://ipywidgets.readthedocs.io/en/stable/user_install.html\n",
      "  from .autonotebook import tqdm as notebook_tqdm\n",
      "/global/homes/r/rroussel/.conda/envs/phase_space_reconstruction/lib/python3.10/site-packages/torch/functional.py:568: UserWarning: torch.meshgrid: in an upcoming release, it will be required to pass the indexing argument. (Triggered internally at  /opt/conda/conda-bld/pytorch_1646755897462/work/aten/src/ATen/native/TensorShape.cpp:2228.)\n",
      "  return _VF.meshgrid(tensors, **kwargs)  # type: ignore[attr-defined]\n"
     ]
    },
    {
     "data": {
      "text/plain": [
       "torch.Size([20, 6, 6])"
      ]
     },
     "execution_count": 1,
     "metadata": {},
     "output_type": "execute_result"
    }
   ],
   "source": [
    "import matplotlib.pyplot as plt\n",
    "\n",
    "from fitting import create_ensemble, load_data, create_datasets\n",
    "from phase_space_reconstruction.utils import get_core_fraction\n",
    "import torch\n",
    "\n",
    "tkwargs = {\"dtype\": torch.double}\n",
    "save_dir = \"double_small_emittance_case_cov_term_no_energy_spread\"\n",
    "quad_strengths, image_data, bins, xx, _ = load_data()\n",
    "train_dset = torch.load(save_dir + \"/train.dset\")\n",
    "test_dset = torch.load(save_dir + \"/test.dset\")\n",
    "\n",
    "bin_width = bins[1] - bins[0]\n",
    "bandwidth = bin_width / 2\n",
    "ensemble = create_ensemble(bins, bandwidth)\n",
    "\n",
    "from torchensemble.utils import io\n",
    "io.load(ensemble, save_dir)\n",
    "\n",
    "n_particles = 1000000\n",
    "for ele in ensemble:\n",
    "    ele.beam.set_base_beam(\n",
    "        ele.beam.base_dist,\n",
    "        n_particles,\n",
    "        p0c=torch.tensor(10.0e6)\n",
    "    )\n",
    "\n",
    "ensemble.cuda();\n",
    "\n",
    "gt_data = torch.load(\"synthetic_beam/ground_truth_dist.pt\")\n",
    "frac = 1.0\n",
    "s = slice(0,4)\n",
    "gt_core = get_core_fraction(gt_data,frac,s)\n",
    "\n",
    "\n",
    "covs = []\n",
    "for i in range(20):\n",
    "    initial_beam = ensemble[i].beam().data\n",
    "    re_core = get_core_fraction(initial_beam,frac,s)\n",
    "\n",
    "    covs += [torch.cov(re_core.T)]\n",
    "\n",
    "covs = torch.stack(covs)\n",
    "covs.shape\n",
    "\n"
   ]
  },
  {
   "cell_type": "code",
   "execution_count": 2,
   "metadata": {
    "collapsed": false,
    "jupyter": {
     "outputs_hidden": false
    }
   },
   "outputs": [
    {
     "name": "stdout",
     "output_type": "stream",
     "text": [
      "enx 2.0068204402923584 +/- 0.007539887446910143\n",
      "eny 10.742262840270996 +/- 0.05347831919789314\n",
      "en4d 17.39444351196289 +/- 0.0811784565448761\n",
      "tensor(2.0000, dtype=torch.float64)\n",
      "tensor(11.4469, dtype=torch.float64)\n",
      "tensor(18.5125, dtype=torch.float64)\n"
     ]
    }
   ],
   "source": [
    "xemittances = torch.det(covs[10:,:2,:2]).sqrt()*1e6\n",
    "yemittances = torch.det(covs[10:,2:4,2:4]).sqrt()*1e6\n",
    "hd_emittances = torch.det(covs[10:,:4,:4]).pow(0.5)*1e12\n",
    "print(f\"enx {xemittances.mean()} +/- {xemittances.std()}\")\n",
    "print(f\"eny {yemittances.mean()} +/- {yemittances.std()}\")\n",
    "print(f\"en4d {hd_emittances.mean()} +/- {hd_emittances.std()}\")\n",
    "\n",
    "gt_data = torch.load(\"synthetic_beam/ground_truth_dist.pt\")\n",
    "gt_core = get_core_fraction(gt_data,frac,s)\n",
    "\n",
    "gt_cov = torch.cov(gt_core.T)\n",
    "print(torch.det(gt_cov[:2,:2]).sqrt()*1e6)\n",
    "print(torch.det(gt_cov[2:4,2:4]).sqrt()*1e6)\n",
    "print(torch.det(gt_cov[:4,:4]).pow(0.5)*1e12)\n",
    "\n"
   ]
  },
  {
   "cell_type": "code",
   "execution_count": 3,
   "metadata": {
    "collapsed": false,
    "jupyter": {
     "outputs_hidden": false
    }
   },
   "outputs": [
    {
     "data": {
      "text/plain": [
       "tensor([2.0130, 2.0030, 1.9924, 2.0013, 2.0023, 2.0105, 2.0033, 2.0115, 2.0148,\n",
       "        2.0161], device='cuda:0', grad_fn=<MulBackward0>)"
      ]
     },
     "execution_count": 3,
     "metadata": {},
     "output_type": "execute_result"
    }
   ],
   "source": [
    "xemittances"
   ]
  },
  {
   "cell_type": "code",
   "execution_count": 4,
   "metadata": {
    "collapsed": false,
    "jupyter": {
     "outputs_hidden": false
    }
   },
   "outputs": [
    {
     "data": {
      "text/plain": [
       "tensor([10.6539, 10.8021, 10.7781, 10.7869, 10.7449, 10.6534, 10.7882, 10.7126,\n",
       "        10.7482, 10.7543], device='cuda:0', grad_fn=<MulBackward0>)"
      ]
     },
     "execution_count": 4,
     "metadata": {},
     "output_type": "execute_result"
    }
   ],
   "source": [
    "yemittances"
   ]
  },
  {
   "cell_type": "code",
   "execution_count": 5,
   "metadata": {
    "collapsed": false,
    "jupyter": {
     "outputs_hidden": false
    }
   },
   "outputs": [
    {
     "data": {
      "text/plain": [
       "[<matplotlib.lines.Line2D at 0x148060284550>]"
      ]
     },
     "execution_count": 5,
     "metadata": {},
     "output_type": "execute_result"
    },
    {
     "data": {
      "image/png": "[encoded data removed]",
      "text/plain": [
       "<Figure size 432x288 with 1 Axes>"
      ]
     },
     "metadata": {
      "needs_background": "light"
     },
     "output_type": "display_data"
    }
   ],
   "source": [
    "plt.plot(yemittances.cpu().detach())\n",
    "plt.plot(xemittances.cpu().detach())"
   ]
  },
  {
   "cell_type": "code",
   "execution_count": 6,
   "metadata": {
    "collapsed": false,
    "jupyter": {
     "outputs_hidden": false
    }
   },
   "outputs": [
    {
     "name": "stdout",
     "output_type": "stream",
     "text": [
      "tensor(2.0000e-06, dtype=torch.float64)\n",
      "tensor(2.0161e-06, device='cuda:0', grad_fn=<SqrtBackward0>)\n",
      "tensor(1.1447e-05, dtype=torch.float64)\n",
      "tensor(1.0754e-05, device='cuda:0', grad_fn=<SqrtBackward0>)\n"
     ]
    }
   ],
   "source": [
    "reconstruction_data = initial_beam.data\n",
    "\n",
    "\n",
    "\n",
    "\n",
    "gt_cov = torch.cov(gt_core.T)\n",
    "re_cov = torch.cov(re_core.T)\n",
    "\n",
    "print(torch.det(gt_cov[:2,:2]).sqrt())\n",
    "print(torch.det(re_cov[:2,:2]).sqrt())\n",
    "\n",
    "print(torch.det(gt_cov[2:4,2:4]).sqrt())\n",
    "print(torch.det(re_cov[2:4,2:4]).sqrt())"
   ]
  },
  {
   "cell_type": "code",
   "execution_count": 7,
   "metadata": {
    "collapsed": false,
    "jupyter": {
     "outputs_hidden": false
    }
   },
   "outputs": [
    {
     "data": {
      "text/plain": [
       "[<matplotlib.lines.Line2D at 0x148060268c40>]"
      ]
     },
     "execution_count": 7,
     "metadata": {},
     "output_type": "execute_result"
    },
    {
     "data": {
      "image/png": "[encoded data removed]",
      "text/plain": [
       "<Figure size 432x288 with 1 Axes>"
      ]
     },
     "metadata": {
      "needs_background": "light"
     },
     "output_type": "display_data"
    },
    {
     "data": {
      "image/png": "[encoded data removed]",
      "text/plain": [
       "<Figure size 432x288 with 1 Axes>"
      ]
     },
     "metadata": {
      "needs_background": "light"
     },
     "output_type": "display_data"
    }
   ],
   "source": [
    "plt.plot(*gt_core.T[:2,::100].cpu().detach(), '.')\n",
    "plt.plot(*re_core.T[:2,::100].cpu().detach(), '.')\n",
    "\n",
    "plt.figure()\n",
    "plt.plot(*gt_core.T[2:4,::100].cpu().detach(), '.')\n",
    "plt.plot(*re_core.T[2:4,::100].cpu().detach(), '.')"
   ]
  },
  {
   "cell_type": "code",
   "execution_count": null,
   "metadata": {
    "collapsed": false,
    "jupyter": {
     "outputs_hidden": false
    }
   },
   "outputs": [],
   "source": []
  }
 ],
 "metadata": {
  "kernelspec": {
   "display_name": "Python 3 (ipykernel)",
   "language": "python",
   "name": "python3"
  },
  "language_info": {
   "codemirror_mode": {
    "name": "ipython",
    "version": 3
   },
   "file_extension": ".py",
   "mimetype": "text/x-python",
   "name": "python",
   "nbconvert_exporter": "python",
   "pygments_lexer": "ipython3",
   "version": "3.10.4"
  }
 },
 "nbformat": 4,
 "nbformat_minor": 4
}
