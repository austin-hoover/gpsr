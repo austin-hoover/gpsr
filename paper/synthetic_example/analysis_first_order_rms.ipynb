{
 "cells": [
  {
   "cell_type": "code",
   "execution_count": 1,
   "metadata": {},
   "outputs": [
    {
     "name": "stderr",
     "output_type": "stream",
     "text": [
      "/global/homes/r/rroussel/.conda/envs/phase_space_reconstruction/lib/python3.10/site-packages/tqdm/auto.py:22: TqdmWarning: IProgress not found. Please update jupyter and ipywidgets. See https://ipywidgets.readthedocs.io/en/stable/user_install.html\n",
      "  from .autonotebook import tqdm as notebook_tqdm\n",
      "/global/homes/r/rroussel/.conda/envs/phase_space_reconstruction/lib/python3.10/site-packages/torch/functional.py:568: UserWarning: torch.meshgrid: in an upcoming release, it will be required to pass the indexing argument. (Triggered internally at  /opt/conda/conda-bld/pytorch_1646755897462/work/aten/src/ATen/native/TensorShape.cpp:2228.)\n",
      "  return _VF.meshgrid(tensors, **kwargs)  # type: ignore[attr-defined]\n"
     ]
    }
   ],
   "source": [
    "import matplotlib.pyplot as plt\n",
    "\n",
    "from fitting import create_ensemble, load_data, create_datasets\n",
    "import torch\n",
    "\n",
    "\n",
    "labels = [\"x (mm)\", r\"$p_x$ (mrad)\",\"y (mm)\",r\"$p_y$ (mrad)\",\"z (mm)\",r\"$p_z$ (mrad)\"]\n",
    "\n",
    "tkwargs = {\"dtype\": torch.float}\n",
    "save_dir = \"double_small_emittance_case_cov_term_no_energy_spread/\"\n",
    "quad_strengths, image_data, bins, xx,_ = load_data()\n",
    "train_dset = torch.load(save_dir + \"/train.dset\")\n",
    "test_dset = torch.load(save_dir + \"/test.dset\")\n",
    "\n",
    "bin_width = bins[1] - bins[0]\n",
    "bandwidth = bin_width / 2\n",
    "\n",
    "\n",
    "ensemble = create_ensemble(bins, bandwidth)\n",
    "\n",
    "from torchensemble.utils import io\n",
    "io.load(ensemble, save_dir)\n",
    "\n",
    "n_particles = 100000\n",
    "for ele in ensemble:\n",
    "    ele.beam.set_base_beam(\n",
    "        ele.beam.base_dist,\n",
    "        n_particles,\n",
    "        p0c=torch.tensor(10.0e6)\n",
    "    )\n",
    "\n",
    "ensemble.cuda();"
   ]
  },
  {
   "cell_type": "code",
   "execution_count": 2,
   "metadata": {
    "collapsed": false,
    "jupyter": {
     "outputs_hidden": false
    }
   },
   "outputs": [],
   "source": [
    "from phase_space_reconstruction.utils import calculate_ellipse\n",
    "# calculate rms stats from each image\n",
    "covs = []\n",
    "for ele in image_data.transpose(-1,-2):\n",
    "    centroid, cov = calculate_ellipse(ele, bins, bins)\n",
    "    covs += [cov]\n",
    "\n",
    "covs = torch.stack(covs)\n",
    "\n",
    "# plot reconstruction covs\n",
    "with torch.no_grad():\n",
    "    predictions = []\n",
    "    for i in range(20):\n",
    "        p, _, _ = ensemble[i](quad_strengths[:,0,:].cuda())\n",
    "        predictions += [p]\n",
    "\n",
    "predictions = torch.stack(predictions).cpu().transpose(0,1)\n",
    "rcovs = []\n",
    "for ele in predictions.transpose(-1,-2):\n",
    "    centroid, cov = calculate_ellipse(ele, bins, bins)\n",
    "    rcovs += [cov]\n",
    "\n",
    "rcovs = torch.stack(rcovs)\n",
    "rcovs_mean = rcovs.mean(dim=1)\n",
    "rcovs_std = rcovs.std(dim=1)\n"
   ]
  },
  {
   "cell_type": "code",
   "execution_count": 3,
   "metadata": {
    "collapsed": false,
    "jupyter": {
     "outputs_hidden": false
    }
   },
   "outputs": [
    {
     "data": {
      "text/plain": [
       "<ErrorbarContainer object of 3 artists>"
      ]
     },
     "execution_count": 3,
     "metadata": {},
     "output_type": "execute_result"
    },
    {
     "data": {
      "image/png": "[encoded data removed]",
      "text/plain": [
       "<Figure size 432x288 with 1 Axes>"
      ]
     },
     "metadata": {
      "needs_background": "light"
     },
     "output_type": "display_data"
    }
   ],
   "source": [
    "plt.plot(quad_strengths.detach().cpu().flatten(), covs[...,0,0].detach().cpu().flatten(),\".\")\n",
    "plt.plot(quad_strengths.detach().cpu().flatten(), covs[...,1,0].detach().cpu().flatten(),\".\")\n",
    "plt.plot(quad_strengths.detach().cpu().flatten(), covs[...,1,1].detach().cpu().flatten(),\".\")\n",
    "\n",
    "plt.errorbar(quad_strengths[:,0,:].detach().cpu().flatten(), rcovs_mean[...,0,0]\n",
    "             .flatten(), rcovs_std[...,0,0].flatten())\n",
    "plt.errorbar(quad_strengths[:,0,:].detach().cpu().flatten(), rcovs_mean[...,1,0]\n",
    "             .flatten(), rcovs_std[...,1,0].flatten())\n",
    "plt.errorbar(quad_strengths[:,0,:].detach().cpu().flatten(), rcovs_mean[...,1,1]\n",
    "             .flatten(), rcovs_std[...,1,1].flatten())\n",
    "#plt.plot(quad_strengths[:,0,:].detach().cpu().flatten(), rcovs[...,1,0].flatten(),\"+\")\n",
    "#plt.plot(quad_strengths[:,0,:].detach().cpu().flatten(), rcovs[...,1,1].flatten(),\"+\")\n"
   ]
  },
  {
   "cell_type": "code",
   "execution_count": 4,
   "metadata": {
    "collapsed": false,
    "jupyter": {
     "outputs_hidden": false
    }
   },
   "outputs": [
    {
     "name": "stdout",
     "output_type": "stream",
     "text": [
      "tensor(357.4030, grad_fn=<MeanBackward0>)\n",
      "tensor(1.4906, grad_fn=<MeanBackward0>)\n",
      "tensor(1.2084, grad_fn=<MeanBackward0>)\n",
      "tensor(1.1581, grad_fn=<MeanBackward0>)\n",
      "tensor(1.1618, grad_fn=<MeanBackward0>)\n",
      "tensor(1.1696, grad_fn=<MeanBackward0>)\n",
      "tensor(1.1633, grad_fn=<MeanBackward0>)\n",
      "tensor(1.1555, grad_fn=<MeanBackward0>)\n",
      "tensor(1.1596, grad_fn=<MeanBackward0>)\n",
      "tensor(1.1679, grad_fn=<MeanBackward0>)\n",
      "tensor(1.1648, grad_fn=<MeanBackward0>)\n",
      "tensor(1.1586, grad_fn=<MeanBackward0>)\n",
      "tensor(1.1577, grad_fn=<MeanBackward0>)\n",
      "tensor(1.1964, grad_fn=<MeanBackward0>)\n",
      "tensor(1.2173, grad_fn=<MeanBackward0>)\n",
      "tensor(1.1480, grad_fn=<MeanBackward0>)\n",
      "tensor(1.1851, grad_fn=<MeanBackward0>)\n",
      "tensor(1.1477, grad_fn=<MeanBackward0>)\n",
      "tensor(1.2035, grad_fn=<MeanBackward0>)\n",
      "tensor(1.1507, grad_fn=<MeanBackward0>)\n",
      "tensor(2.1248e-06, grad_fn=<MulBackward0>)\n",
      "tensor(356.1988, grad_fn=<MeanBackward0>)\n",
      "tensor(2.5528, grad_fn=<MeanBackward0>)\n",
      "tensor(2.5521, grad_fn=<MeanBackward0>)\n",
      "tensor(2.5637, grad_fn=<MeanBackward0>)\n",
      "tensor(2.5757, grad_fn=<MeanBackward0>)\n",
      "tensor(2.5702, grad_fn=<MeanBackward0>)\n",
      "tensor(2.5587, grad_fn=<MeanBackward0>)\n",
      "tensor(2.6005, grad_fn=<MeanBackward0>)\n",
      "tensor(2.6028, grad_fn=<MeanBackward0>)\n",
      "tensor(2.5704, grad_fn=<MeanBackward0>)\n",
      "tensor(2.5820, grad_fn=<MeanBackward0>)\n",
      "tensor(2.6072, grad_fn=<MeanBackward0>)\n",
      "tensor(2.5769, grad_fn=<MeanBackward0>)\n",
      "tensor(2.5942, grad_fn=<MeanBackward0>)\n",
      "tensor(2.6538, grad_fn=<MeanBackward0>)\n",
      "tensor(2.5909, grad_fn=<MeanBackward0>)\n",
      "tensor(2.5628, grad_fn=<MeanBackward0>)\n",
      "tensor(2.6456, grad_fn=<MeanBackward0>)\n",
      "tensor(2.5864, grad_fn=<MeanBackward0>)\n",
      "tensor(2.5574, grad_fn=<MeanBackward0>)\n",
      "tensor(1.3044e-05, grad_fn=<MulBackward0>)\n"
     ]
    },
    {
     "data": {
      "image/png": "[encoded data removed]",
      "text/plain": [
       "<Figure size 432x288 with 1 Axes>"
      ]
     },
     "metadata": {
      "needs_background": "light"
     },
     "output_type": "display_data"
    },
    {
     "data": {
      "image/png": "[encoded data removed]",
      "text/plain": [
       "<Figure size 432x288 with 1 Axes>"
      ]
     },
     "metadata": {
      "needs_background": "light"
     },
     "output_type": "display_data"
    }
   ],
   "source": [
    "from phase_space_reconstruction.modeling import NormalizedQuadScan\n",
    "from torch.nn.functional import mse_loss\n",
    "\n",
    "\n",
    "# fit phase spaces\n",
    "train_s11 = covs.squeeze()[:,0,0].detach().cpu()\n",
    "train_s22 = covs.squeeze()[:,1,1].detach().cpu()\n",
    "\n",
    "for ele in [train_s11, train_s22]:\n",
    "    train_k = quad_strengths.flatten().cpu()\n",
    "    quad_length = torch.tensor(0.1)\n",
    "    drift = torch.tensor(1.0)\n",
    "    A = train_s11.max().sqrt()\n",
    "\n",
    "    model = NormalizedQuadScan(A, drift, quad_length)\n",
    "\n",
    "    optimizer = torch.optim.Adam(\n",
    "            model.parameters(), lr=0.01\n",
    "    )\n",
    "\n",
    "    if 1:\n",
    "        for i in range(20000):\n",
    "            # Zero gradients from previous iteration\n",
    "            optimizer.zero_grad()\n",
    "            # Output from model\n",
    "            output = model(train_k)\n",
    "            # Calc loss and backprop gradients\n",
    "            loss = torch.abs(output*1e6 - ele*1e6).mean()\n",
    "            loss.backward()\n",
    "            if not i % 1000:\n",
    "                print(loss)\n",
    "            optimizer.step()\n",
    "\n",
    "        #print(list(model.named_parameters()))\n",
    "\n",
    "    with torch.no_grad():\n",
    "        #model.beam_matrix = torch.tensor(((s11, s12), (s12, s22)))\n",
    "        #print(list(model.named_parameters()))\n",
    "\n",
    "        pred_y = model(train_k)\n",
    "        plt.figure()\n",
    "        plt.plot(train_k, ele*1e6, \"o\")\n",
    "        plt.plot(train_k, pred_y.detach()*1e6)\n",
    "    print(model.emittance())\n"
   ]
  },
  {
   "cell_type": "code",
   "execution_count": 5,
   "metadata": {
    "collapsed": false,
    "jupyter": {
     "outputs_hidden": false
    }
   },
   "outputs": [
    {
     "data": {
      "text/plain": [
       "torch.Size([80])"
      ]
     },
     "execution_count": 5,
     "metadata": {},
     "output_type": "execute_result"
    }
   ],
   "source": [
    "covs.flatten().shape"
   ]
  },
  {
   "cell_type": "code",
   "execution_count": null,
   "metadata": {
    "collapsed": false,
    "jupyter": {
     "outputs_hidden": false
    }
   },
   "outputs": [],
   "source": []
  }
 ],
 "metadata": {
  "kernelspec": {
   "display_name": "Python 3 (ipykernel)",
   "language": "python",
   "name": "python3"
  },
  "language_info": {
   "codemirror_mode": {
    "name": "ipython",
    "version": 3
   },
   "file_extension": ".py",
   "mimetype": "text/x-python",
   "name": "python",
   "nbconvert_exporter": "python",
   "pygments_lexer": "ipython3",
   "version": "3.10.4"
  }
 },
 "nbformat": 4,
 "nbformat_minor": 4
}
