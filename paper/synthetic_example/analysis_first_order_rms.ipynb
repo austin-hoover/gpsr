{
 "cells": [
  {
   "cell_type": "code",
   "execution_count": 1,
   "metadata": {},
   "outputs": [
    {
     "name": "stderr",
     "output_type": "stream",
     "text": [
      "C:\\ProgramData\\Miniconda3\\envs\\phase_space_reconstruction\\lib\\site-packages\\torch\\functional.py:568: UserWarning: torch.meshgrid: in an upcoming release, it will be required to pass the indexing argument. (Triggered internally at  C:\\cb\\pytorch_1000000000000\\work\\aten\\src\\ATen\\native\\TensorShape.cpp:2228.)\n",
      "  return _VF.meshgrid(tensors, **kwargs)  # type: ignore[attr-defined]\n"
     ]
    }
   ],
   "source": [
    "import matplotlib.pyplot as plt\n",
    "\n",
    "from fitting import create_ensemble, load_data, create_datasets\n",
    "import torch\n",
    "\n",
    "\n",
    "labels = [\"x (mm)\", r\"$p_x$ (mrad)\",\"y (mm)\",r\"$p_y$ (mrad)\",\"z (mm)\",r\"$p_z$ (mrad)\"]\n",
    "\n",
    "tkwargs = {\"dtype\": torch.float}\n",
    "save_dir = \"double_small_emittance_case_cov_term_no_energy_spread/\"\n",
    "quad_strengths, image_data, bins, xx,_ = load_data()\n",
    "train_dset = torch.load(save_dir + \"/train.dset\")\n",
    "test_dset = torch.load(save_dir + \"/test.dset\")\n",
    "\n",
    "bin_width = bins[1] - bins[0]\n",
    "bandwidth = bin_width / 2\n",
    "\n",
    "\n",
    "ensemble = create_ensemble(bins, bandwidth)\n",
    "\n",
    "from torchensemble.utils import io\n",
    "io.load(ensemble, save_dir)\n",
    "\n",
    "n_particles = 100000\n",
    "ensemble[0].beam.set_base_beam(\n",
    "    ensemble[0].beam.base_dist,\n",
    "    n_particles,\n",
    "    p0c=torch.tensor(10.0e6)\n",
    ")\n",
    "\n",
    "ensemble.cuda();"
   ]
  },
  {
   "cell_type": "code",
   "execution_count": 2,
   "metadata": {
    "collapsed": false,
    "jupyter": {
     "outputs_hidden": false
    }
   },
   "outputs": [],
   "source": [
    "from phase_space_reconstruction.utils import calculate_ellipse\n",
    "# calculate rms stats from each image\n",
    "covs = []\n",
    "for ele in image_data.transpose(-1,-2):\n",
    "    centroid, cov = calculate_ellipse(ele, bins, bins)\n",
    "    covs += [cov]\n",
    "\n",
    "covs = torch.stack(covs)\n",
    "\n",
    "# plot reconstruction covs\n",
    "with torch.no_grad():\n",
    "    predictions = []\n",
    "    for i in range(20):\n",
    "        p, _, _ = ensemble[i](quad_strengths[:,0,:].cuda())\n",
    "        predictions += [p]\n",
    "\n",
    "predictions = torch.stack(predictions).cpu().transpose(0,1)\n",
    "rcovs = []\n",
    "for ele in predictions.transpose(-1,-2):\n",
    "    centroid, cov = calculate_ellipse(ele, bins, bins)\n",
    "    rcovs += [cov]\n",
    "\n",
    "rcovs = torch.stack(rcovs)\n",
    "rcovs_mean = rcovs.mean(dim=1)\n",
    "rcovs_std = rcovs.std(dim=1)\n"
   ]
  },
  {
   "cell_type": "code",
   "execution_count": 3,
   "outputs": [
    {
     "data": {
      "text/plain": "<ErrorbarContainer object of 3 artists>"
     },
     "execution_count": 3,
     "metadata": {},
     "output_type": "execute_result"
    },
    {
     "data": {
      "text/plain": "<Figure size 432x288 with 1 Axes>",
      "image/png": "[encoded data removed]"
     },
     "metadata": {
      "needs_background": "light"
     },
     "output_type": "display_data"
    }
   ],
   "source": [
    "plt.plot(quad_strengths.detach().cpu().flatten(), covs[...,0,0].detach().cpu().flatten(),\".\")\n",
    "plt.plot(quad_strengths.detach().cpu().flatten(), covs[...,1,0].detach().cpu().flatten(),\".\")\n",
    "plt.plot(quad_strengths.detach().cpu().flatten(), covs[...,1,1].detach().cpu().flatten(),\".\")\n",
    "\n",
    "plt.errorbar(quad_strengths[:,0,:].detach().cpu().flatten(), rcovs_mean[...,0,0]\n",
    "             .flatten(), rcovs_std[...,0,0].flatten())\n",
    "plt.errorbar(quad_strengths[:,0,:].detach().cpu().flatten(), rcovs_mean[...,1,0]\n",
    "             .flatten(), rcovs_std[...,1,0].flatten())\n",
    "plt.errorbar(quad_strengths[:,0,:].detach().cpu().flatten(), rcovs_mean[...,1,1]\n",
    "             .flatten(), rcovs_std[...,1,1].flatten())\n",
    "#plt.plot(quad_strengths[:,0,:].detach().cpu().flatten(), rcovs[...,1,0].flatten(),\"+\")\n",
    "#plt.plot(quad_strengths[:,0,:].detach().cpu().flatten(), rcovs[...,1,1].flatten(),\"+\")\n"
   ],
   "metadata": {
    "collapsed": false
   }
  },
  {
   "cell_type": "code",
   "execution_count": 4,
   "outputs": [
    {
     "ename": "IndexError",
     "evalue": "index 1 is out of bounds for dimension 1 with size 1",
     "output_type": "error",
     "traceback": [
      "\u001B[1;31m---------------------------------------------------------------------------\u001B[0m",
      "\u001B[1;31mIndexError\u001B[0m                                Traceback (most recent call last)",
      "Input \u001B[1;32mIn [4]\u001B[0m, in \u001B[0;36m<cell line: 7>\u001B[1;34m()\u001B[0m\n\u001B[0;32m      5\u001B[0m \u001B[38;5;66;03m# fit phase spaces\u001B[39;00m\n\u001B[0;32m      6\u001B[0m train_s11 \u001B[38;5;241m=\u001B[39m covs[:,\u001B[38;5;241m0\u001B[39m,\u001B[38;5;241m0\u001B[39m]\u001B[38;5;241m.\u001B[39mdetach()\u001B[38;5;241m.\u001B[39mcpu()\n\u001B[1;32m----> 7\u001B[0m train_s22 \u001B[38;5;241m=\u001B[39m \u001B[43mcovs\u001B[49m\u001B[43m[\u001B[49m\u001B[43m:\u001B[49m\u001B[43m,\u001B[49m\u001B[38;5;241;43m1\u001B[39;49m\u001B[43m,\u001B[49m\u001B[38;5;241;43m1\u001B[39;49m\u001B[43m]\u001B[49m\u001B[38;5;241m.\u001B[39mdetach()\u001B[38;5;241m.\u001B[39mcpu()\n\u001B[0;32m      9\u001B[0m \u001B[38;5;28;01mfor\u001B[39;00m ele \u001B[38;5;129;01min\u001B[39;00m [train_s11, train_s22]:\n\u001B[0;32m     10\u001B[0m     train_k \u001B[38;5;241m=\u001B[39m quad_strengths\u001B[38;5;241m.\u001B[39mflatten()\u001B[38;5;241m.\u001B[39mcpu()\n",
      "\u001B[1;31mIndexError\u001B[0m: index 1 is out of bounds for dimension 1 with size 1"
     ]
    }
   ],
   "source": [
    "from phase_space_reconstruction.modeling import NormalizedQuadScan\n",
    "from torch.nn.functional import mse_loss\n",
    "\n",
    "\n",
    "# fit phase spaces\n",
    "train_s11 = covs[:,0,0].detach().cpu()\n",
    "train_s22 = covs[:,1,1].detach().cpu()\n",
    "\n",
    "for ele in [train_s11, train_s22]:\n",
    "    train_k = quad_strengths.flatten().cpu()\n",
    "    quad_length = torch.tensor(0.1)\n",
    "    drift = torch.tensor(1.0)\n",
    "    A = train_s11.max().sqrt()\n",
    "\n",
    "    model = NormalizedQuadScan(A, drift, quad_length)\n",
    "\n",
    "    optimizer = torch.optim.Adam(\n",
    "            model.parameters(), lr=0.01\n",
    "    )\n",
    "\n",
    "    if 1:\n",
    "        for i in range(10000):\n",
    "            # Zero gradients from previous iteration\n",
    "            optimizer.zero_grad()\n",
    "            # Output from model\n",
    "            output = model(train_k)\n",
    "            # Calc loss and backprop gradients\n",
    "            loss = mse_loss(output*1e6, ele*1e6)\n",
    "            loss.backward()\n",
    "            if not i % 10000:\n",
    "                print(loss)\n",
    "            optimizer.step()\n",
    "\n",
    "        #print(list(model.named_parameters()))\n",
    "\n",
    "    with torch.no_grad():\n",
    "        #model.beam_matrix = torch.tensor(((s11, s12), (s12, s22)))\n",
    "        #print(list(model.named_parameters()))\n",
    "\n",
    "        pred_y = model(train_k)\n",
    "        plt.figure()\n",
    "        plt.plot(train_k, ele*1e6, \"o\")\n",
    "        plt.plot(train_k, pred_y.detach()*1e6)\n",
    "    print(model.emittance())\n"
   ],
   "metadata": {
    "collapsed": false
   }
  }
 ],
 "metadata": {
  "kernelspec": {
   "display_name": "Python 3 (ipykernel)",
   "language": "python",
   "name": "python3"
  },
  "language_info": {
   "codemirror_mode": {
    "name": "ipython",
    "version": 3
   },
   "file_extension": ".py",
   "mimetype": "text/x-python",
   "name": "python",
   "nbconvert_exporter": "python",
   "pygments_lexer": "ipython3",
   "version": "3.10.4"
  }
 },
 "nbformat": 4,
 "nbformat_minor": 4
}
