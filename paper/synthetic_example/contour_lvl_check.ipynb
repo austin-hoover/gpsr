{
 "cells": [
  {
   "cell_type": "code",
   "execution_count": 3,
   "id": "03750414-7fc1-4d68-b670-5fa76dc51d54",
   "metadata": {},
   "outputs": [
    {
     "name": "stdout",
     "output_type": "stream",
     "text": [
      "torch.Size([100, 100])\n"
     ]
    }
   ],
   "source": [
    "import numpy as np\n",
    "import torch\n",
    "from torch.distributions import MultivariateNormal, Normal\n",
    "import matplotlib.pyplot as plt\n",
    "\n",
    "def get_contour_levels(image, quantiles):\n",
    "    # get cdf of densities\n",
    "    vmax = image.max()\n",
    "    test_levels = np.linspace(0, vmax, 1000)\n",
    "    \n",
    "    # for each level calculate the fractional sum\n",
    "    total = image.sum()\n",
    "\n",
    "    sums = []\n",
    "    for lvl in test_levels:\n",
    "        sums += [np.where(image >= lvl, image, 0.0).sum() / total]\n",
    "    sums = np.array(sums)\n",
    "    \n",
    "    # calculate levels\n",
    "    levels = []\n",
    "    for ele in quantiles[::-1]:\n",
    "        diff = sums - ele\n",
    "        levels += [test_levels[np.where(np.diff(np.sign(diff)))]]\n",
    "\n",
    "    return np.array(levels).flatten()\n",
    "\n",
    "\n",
    "# test image\n",
    "n = 100\n",
    "x = torch.linspace(-5,5,n)\n",
    "xx = torch.stack(torch.meshgrid(x,x))\n",
    "pts = xx.flatten(start_dim=1).T\n",
    "\n",
    "dist = MultivariateNormal(torch.zeros(2), torch.eye(2))\n",
    "p = dist.log_prob(pts).exp().reshape(n,n)\n",
    "\n",
    "\n",
    "print(p.shape)\n",
    "q = [0.1]\n",
    "clevels = get_contour_levels(p, q)"
   ]
  },
  {
   "cell_type": "code",
   "execution_count": 5,
   "id": "dd508728-99ae-417d-bf5a-85974e69ea84",
   "metadata": {},
   "outputs": [
    {
     "name": "stdout",
     "output_type": "stream",
     "text": [
      "tensor(0.1045)\n",
      "tensor(0.8955)\n"
     ]
    },
    {
     "data": {
      "text/plain": [
       "<matplotlib.lines.Line2D at 0x14eb17ef09d0>"
      ]
     },
     "execution_count": 5,
     "metadata": {},
     "output_type": "execute_result"
    },
    {
     "data": {
      "image/png": "[encoded data removed]",
      "text/plain": [
       "<Figure size 432x288 with 1 Axes>"
      ]
     },
     "metadata": {
      "needs_background": "light"
     },
     "output_type": "display_data"
    },
    {
     "data": {
      "image/png": "[encoded data removed]",
      "text/plain": [
       "<Figure size 432x288 with 1 Axes>"
      ]
     },
     "metadata": {
      "needs_background": "light"
     },
     "output_type": "display_data"
    }
   ],
   "source": [
    "fig,ax = plt.subplots()\n",
    "fig2,ax2 = plt.subplots()\n",
    "\n",
    "ph = torch.where(p >= clevels[0], p, torch.zeros(1))\n",
    "pl = torch.where(p < clevels[0], p, torch.zeros(1))\n",
    "ax.pcolor(*xx, ph)\n",
    "ax2.pcolor(*xx, pl)\n",
    "print(ph.sum() / p.sum())\n",
    "print(pl.sum() / p.sum())\n",
    "#ax.(*xx, p, levels=clevels)\n",
    "#ax.axhline(1.0)\n",
    "ax.axvline(1.0)"
   ]
  },
  {
   "cell_type": "code",
   "execution_count": null,
   "id": "f2932ce7-71b2-4811-8c5e-40ff56d4aca5",
   "metadata": {},
   "outputs": [],
   "source": []
  }
 ],
 "metadata": {
  "kernelspec": {
   "display_name": "Python 3 (ipykernel)",
   "language": "python",
   "name": "python3"
  },
  "language_info": {
   "codemirror_mode": {
    "name": "ipython",
    "version": 3
   },
   "file_extension": ".py",
   "mimetype": "text/x-python",
   "name": "python",
   "nbconvert_exporter": "python",
   "pygments_lexer": "ipython3",
   "version": "3.10.4"
  }
 },
 "nbformat": 4,
 "nbformat_minor": 5
}
