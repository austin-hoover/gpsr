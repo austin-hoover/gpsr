{
 "cells": [
  {
   "cell_type": "code",
   "execution_count": 1,
   "metadata": {
    "tags": []
   },
   "outputs": [
    {
     "name": "stderr",
     "output_type": "stream",
     "text": [
      "/global/homes/r/rroussel/.conda/envs/phase_space_reconstruction/lib/python3.10/site-packages/tqdm/auto.py:22: TqdmWarning: IProgress not found. Please update jupyter and ipywidgets. See https://ipywidgets.readthedocs.io/en/stable/user_install.html\n",
      "  from .autonotebook import tqdm as notebook_tqdm\n"
     ]
    }
   ],
   "source": [
    "import torch\n",
    "import matplotlib.pyplot as plt\n",
    "from fitting import create_ensemble, load_data, create_datasets\n",
    "\n",
    "\n",
    "labels = [\"x (mm)\", r\"$p_x$ (mrad)\",\"y (mm)\",r\"$p_y$ (mrad)\",\n",
    "          \"z (mm)\",r\"$\\delta\\ (10^{-3})$\"]\n",
    "\n",
    "tkwargs = {\"dtype\": torch.float}\n",
    "save_dir = \"double_small_emittance_case_cov_term_no_energy_spread/\"\n",
    "quad_strengths, image_data, bins, xx, gt_beam = load_data()\n",
    "train_dset = torch.load(save_dir + \"/train.dset\")\n",
    "test_dset = torch.load(save_dir + \"/test.dset\")\n",
    "\n",
    "traces = torch.load(save_dir + \"/loss_log.pt\")\n",
    "losses = torch.stack([ele[0] for ele in traces])\n",
    "cov_trace = torch.stack([ele[1] for ele in traces])\n",
    "\n"
   ]
  },
  {
   "cell_type": "code",
   "execution_count": 2,
   "metadata": {
    "collapsed": false,
    "jupyter": {
     "outputs_hidden": false
    }
   },
   "outputs": [],
   "source": [
    "# get predicted covariances\n",
    "\n",
    "\n",
    "# iteration number\n",
    "t = torch.arange(len(cov_trace))\n",
    "\n",
    "# get gt cov\n",
    "gt_cov = torch.cov(gt_beam.T)\n",
    "gt_rms = torch.diag(gt_cov).sqrt()\n",
    "\n",
    "trace_rms = torch.diagonal(cov_trace, dim1=-1, dim2=-2).sqrt()*1e3\n",
    "\n",
    "# calculate learning rate\n",
    "initial_lr = 0.01\n",
    "n_models = 20\n",
    "total_iterations = len(t)\n",
    "train_period = int(total_iterations / n_models)\n",
    "\n",
    "lr = 0.5*initial_lr * (torch.cos(3.14*torch.remainder(t-1,train_period) / train_period) + 1.0)\n",
    "lr = torch.clip(lr, 0.0001)"
   ]
  },
  {
   "cell_type": "code",
   "execution_count": 6,
   "metadata": {
    "collapsed": false,
    "jupyter": {
     "outputs_hidden": false
    }
   },
   "outputs": [
    {
     "data": {
      "image/png": "[encoded data removed]",
      "text/plain": [
       "<Figure size 244.8x216 with 3 Axes>"
      ]
     },
     "metadata": {
      "needs_background": "light"
     },
     "output_type": "display_data"
    }
   ],
   "source": [
    "# plot emit_x\n",
    "import numpy as np\n",
    "\n",
    "fig,(ax_lr, axb,ax) = plt.subplots(\n",
    "    3,1, sharex=\"all\",\n",
    "    gridspec_kw={\n",
    "        \"right\": 0.97,\"hspace\":0.1,\"left\":0.2,\"top\":0.975,\"bottom\":0.15,\n",
    "        \"height_ratios\":[0.35,0.35,1.]\n",
    "    })\n",
    "fig.set_size_inches(np.array((3.4,3.))*1)\n",
    "lw=1.0\n",
    "mean_energy = 1\n",
    "emit_scale = 1e6\n",
    "ax_lr.plot(t[::10], lr[::10],lw=lw)\n",
    "ax_lr.set_yscale(\"log\")\n",
    "ax_lr.set_ylabel(r\"$ \\alpha $\")\n",
    "colors = [f\"C{i}\" for i in range(6)]\n",
    "\n",
    "ax_lr.plot(t, lr)\n",
    "\n",
    "for i in range(6):\n",
    "    ax.semilogy(t[::10], trace_rms[:,i][::10].cpu().detach(), label=labels[i],c=colors[i],lw=1)\n",
    "    ax.axhline(gt_rms[i].cpu().detach(),ls='--',c=colors[i],lw=lw)\n",
    "    \n",
    "axb.semilogy(t[::10], trace_rms[:,-2][::10].cpu().detach(), c=colors[-2],lw=1)\n",
    "\n",
    "# add locations of snapshots\n",
    "for ele in t[train_period::train_period-1][10:]:\n",
    "    for a in [ax_lr, ax,axb]:\n",
    "        a.axvline(ele, c = \"C7\",alpha=0.25)\n",
    "    \n",
    "ax.set_ylabel(\"$\\sigma$ \")\n",
    "ax.set_xlabel(\"iteration\")\n",
    "fontsize = 7\n",
    "handletextpad = 0.4\n",
    "ax.legend(ncol=3, handlelength=1.0, columnspacing=0.5, fontsize=fontsize, handletextpad=handletextpad,loc=4)\n",
    "ax.set_ylim(5e-1, 1.5e1)\n",
    "axb.set_ylim( 1.5e1, 3e3)\n",
    "\n",
    "# hformat split axis\n",
    "axb.spines.bottom.set_visible(False)\n",
    "ax.spines.top.set_visible(False)\n",
    "axb.xaxis.tick_top()\n",
    "axb.tick_params(labeltop=False)  # don't put tick labels at the top\n",
    "ax.xaxis.tick_bottom()\n",
    "\n",
    "d = .5  # proportion of vertical to horizontal extent of the slanted line\n",
    "kwargs = dict(marker=[(-1, -d), (1, d)], markersize=12,\n",
    "              linestyle=\"none\", color='k', mec='k', mew=1, clip_on=False)\n",
    "axb.plot([0, 1], [0, 0], transform=axb.transAxes, **kwargs)\n",
    "ax.plot([0, 1], [1, 1], transform=ax.transAxes, **kwargs)\n",
    "\n",
    "ax_lr.set_ylim(0.8e-5,5e-2)\n",
    "letters = \"abc\"\n",
    "for a, l in zip((ax_lr,axb),letters):\n",
    "    a.text(-0.2, 1.0, f\"({l})\", ha='center',\n",
    "                       va='center', transform=a.transAxes)\n",
    "\n",
    "ax.annotate(\"Burn-in\",xy=(0.5,1.0),\n",
    "            xytext = (0.3,1.0),arrowprops = {\"arrowstyle\":\"-\",\"relpos\":(-0.6,0)},\n",
    "            ha=\"center\",va=\"bottom\",\n",
    "            xycoords=\"axes fraction\",textcoords=\"axes fraction\")\n",
    "#ax.annotate(\"Burn-In\", xy = (5000,0.5), xytext=(0,0.5),\n",
    "#            arrowprops=dict(facecolor='black', shrink=0.05, width=0.1,headwidth=5.0),\n",
    "#            va=\"center\",\n",
    "#            )\n",
    "fig.savefig(\"convergence.svg\")\n",
    "fig.savefig(\"convergence.png\", dpi=300)\n",
    "\n",
    "\n"
   ]
  },
  {
   "cell_type": "code",
   "execution_count": null,
   "metadata": {
    "collapsed": false,
    "jupyter": {
     "outputs_hidden": false
    }
   },
   "outputs": [],
   "source": []
  }
 ],
 "metadata": {
  "kernelspec": {
   "display_name": "Python 3 (ipykernel)",
   "language": "python",
   "name": "python3"
  },
  "language_info": {
   "codemirror_mode": {
    "name": "ipython",
    "version": 3
   },
   "file_extension": ".py",
   "mimetype": "text/x-python",
   "name": "python",
   "nbconvert_exporter": "python",
   "pygments_lexer": "ipython3",
   "version": "3.10.4"
  }
 },
 "nbformat": 4,
 "nbformat_minor": 4
}
