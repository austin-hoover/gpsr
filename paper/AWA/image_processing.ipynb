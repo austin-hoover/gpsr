{
 "cells": [
  {
   "cell_type": "code",
   "execution_count": 1,
   "id": "2358182b-379e-4bcd-99bb-5e8b9c6999ed",
   "metadata": {},
   "outputs": [
    {
     "name": "stderr",
     "output_type": "stream",
     "text": [
      "/global/homes/r/rroussel/.conda/envs/phase_space_reconstruction/lib/python3.10/site-packages/tqdm/auto.py:22: TqdmWarning: IProgress not found. Please update jupyter and ipywidgets. See https://ipywidgets.readthedocs.io/en/stable/user_install.html\n",
      "  from .autonotebook import tqdm as notebook_tqdm\n"
     ]
    }
   ],
   "source": [
    "from image_processing import import_images, process_images\n",
    "\n",
    "path = \"/global/cfs/cdirs/m669/rroussel/phase_space_reconstruction/quad_scan_180A/DQ7_scan1_\""
   ]
  },
  {
   "cell_type": "code",
   "execution_count": 2,
   "id": "0797298a-b222-4549-badd-0a3d2774ebc8",
   "metadata": {},
   "outputs": [
    {
     "name": "stdout",
     "output_type": "stream",
     "text": [
      "/global/cfs/cdirs/m669/rroussel/phase_space_reconstruction/quad_scan_180A/DQ7_scan1_n83.h5\n",
      "/global/cfs/cdirs/m669/rroussel/phase_space_reconstruction/quad_scan_180A/DQ7_scan1_n76.h5\n",
      "/global/cfs/cdirs/m669/rroussel/phase_space_reconstruction/quad_scan_180A/DQ7_scan1_n68.h5\n",
      "/global/cfs/cdirs/m669/rroussel/phase_space_reconstruction/quad_scan_180A/DQ7_scan1_n60.h5\n",
      "/global/cfs/cdirs/m669/rroussel/phase_space_reconstruction/quad_scan_180A/DQ7_scan1_n52.h5\n",
      "/global/cfs/cdirs/m669/rroussel/phase_space_reconstruction/quad_scan_180A/DQ7_scan1_n44.h5\n",
      "/global/cfs/cdirs/m669/rroussel/phase_space_reconstruction/quad_scan_180A/DQ7_scan1_n36.h5\n",
      "/global/cfs/cdirs/m669/rroussel/phase_space_reconstruction/quad_scan_180A/DQ7_scan1_n28.h5\n",
      "/global/cfs/cdirs/m669/rroussel/phase_space_reconstruction/quad_scan_180A/DQ7_scan1_n20.h5\n",
      "/global/cfs/cdirs/m669/rroussel/phase_space_reconstruction/quad_scan_180A/DQ7_scan1_n12.h5\n",
      "/global/cfs/cdirs/m669/rroussel/phase_space_reconstruction/quad_scan_180A/DQ7_scan1_n4.h5\n",
      "/global/cfs/cdirs/m669/rroussel/phase_space_reconstruction/quad_scan_180A/DQ7_scan1_p4.h5\n",
      "/global/cfs/cdirs/m669/rroussel/phase_space_reconstruction/quad_scan_180A/DQ7_scan1_p12.h5\n",
      "/global/cfs/cdirs/m669/rroussel/phase_space_reconstruction/quad_scan_180A/DQ7_scan1_p20.h5\n",
      "/global/cfs/cdirs/m669/rroussel/phase_space_reconstruction/quad_scan_180A/DQ7_scan1_p28.h5\n",
      "/global/cfs/cdirs/m669/rroussel/phase_space_reconstruction/quad_scan_180A/DQ7_scan1_p36.h5\n",
      "/global/cfs/cdirs/m669/rroussel/phase_space_reconstruction/quad_scan_180A/DQ7_scan1_p44.h5\n",
      "/global/cfs/cdirs/m669/rroussel/phase_space_reconstruction/quad_scan_180A/DQ7_scan1_p52.h5\n",
      "/global/cfs/cdirs/m669/rroussel/phase_space_reconstruction/quad_scan_180A/DQ7_scan1_p60.h5\n",
      "/global/cfs/cdirs/m669/rroussel/phase_space_reconstruction/quad_scan_180A/DQ7_scan1_p68.h5\n",
      "/global/cfs/cdirs/m669/rroussel/phase_space_reconstruction/quad_scan_180A/DQ7_scan1_p83.h5\n"
     ]
    },
    {
     "name": "stderr",
     "output_type": "stream",
     "text": [
      "/global/homes/r/rroussel/.conda/envs/phase_space_reconstruction/lib/python3.10/site-packages/torch/functional.py:568: UserWarning: torch.meshgrid: in an upcoming release, it will be required to pass the indexing argument. (Triggered internally at  /opt/conda/conda-bld/pytorch_1646755897462/work/aten/src/ATen/native/TensorShape.cpp:2228.)\n",
      "  return _VF.meshgrid(tensors, **kwargs)  # type: ignore[attr-defined]\n"
     ]
    }
   ],
   "source": [
    "process_images(path, 10, downsample=5, threshold_multiplier=1.25)\n"
   ]
  },
  {
   "cell_type": "code",
   "execution_count": 3,
   "id": "c2c68d66-f69e-424e-bc5c-5c11b6f07673",
   "metadata": {},
   "outputs": [
    {
     "name": "stdout",
     "output_type": "stream",
     "text": [
      "tensor(1., dtype=torch.float64)\n"
     ]
    },
    {
     "data": {
      "image/png": "[encoded data removed]",
      "text/plain": [
       "<Figure size 432x288 with 2 Axes>"
      ]
     },
     "metadata": {
      "needs_background": "light"
     },
     "output_type": "display_data"
    }
   ],
   "source": [
    "import matplotlib.pyplot as plt\n",
    "all_k, all_images, _, _ = import_images()\n",
    "for i in range(1):\n",
    "    plt.figure()\n",
    "    \n",
    "    plt.imshow(all_images[-1,i])\n",
    "    plt.colorbar()\n",
    "    print(all_images[0,i].sum())"
   ]
  },
  {
   "cell_type": "code",
   "execution_count": 4,
   "id": "ce29c061-1a17-402d-9022-8c06c5394db8",
   "metadata": {},
   "outputs": [
    {
     "ename": "NameError",
     "evalue": "name 'folder' is not defined",
     "output_type": "error",
     "traceback": [
      "\u001b[0;31m---------------------------------------------------------------------------\u001b[0m",
      "\u001b[0;31mNameError\u001b[0m                                 Traceback (most recent call last)",
      "Input \u001b[0;32mIn [4]\u001b[0m, in \u001b[0;36m<cell line: 2>\u001b[0;34m()\u001b[0m\n\u001b[1;32m      1\u001b[0m \u001b[38;5;28;01mimport\u001b[39;00m \u001b[38;5;21;01mtorch\u001b[39;00m\n\u001b[0;32m----> 2\u001b[0m xx \u001b[38;5;241m=\u001b[39m torch\u001b[38;5;241m.\u001b[39mload(\u001b[43mfolder\u001b[49m \u001b[38;5;241m+\u001b[39m \u001b[38;5;124m\"\u001b[39m\u001b[38;5;124mxx.pt\u001b[39m\u001b[38;5;124m\"\u001b[39m)\n\u001b[1;32m      3\u001b[0m bins \u001b[38;5;241m=\u001b[39m xx[\u001b[38;5;241m0\u001b[39m]\u001b[38;5;241m.\u001b[39mT[\u001b[38;5;241m0\u001b[39m]\n\u001b[1;32m      4\u001b[0m bins[\u001b[38;5;241m1\u001b[39m]\u001b[38;5;241m-\u001b[39mbins[\u001b[38;5;241m0\u001b[39m]\n",
      "\u001b[0;31mNameError\u001b[0m: name 'folder' is not defined"
     ]
    }
   ],
   "source": [
    "import torch\n",
    "xx = torch.load(folder + \"xx.pt\")\n",
    "bins = xx[0].T[0]\n",
    "bins[1]-bins[0]"
   ]
  },
  {
   "cell_type": "code",
   "execution_count": null,
   "id": "a248e3a8-d46c-41c0-a05a-0cfa7bc71f7b",
   "metadata": {},
   "outputs": [],
   "source": []
  }
 ],
 "metadata": {
  "kernelspec": {
   "display_name": "Python 3 (ipykernel)",
   "language": "python",
   "name": "python3"
  },
  "language_info": {
   "codemirror_mode": {
    "name": "ipython",
    "version": 3
   },
   "file_extension": ".py",
   "mimetype": "text/x-python",
   "name": "python",
   "nbconvert_exporter": "python",
   "pygments_lexer": "ipython3",
   "version": "3.10.4"
  }
 },
 "nbformat": 4,
 "nbformat_minor": 5
}
