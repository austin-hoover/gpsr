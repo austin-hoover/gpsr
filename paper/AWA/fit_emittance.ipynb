{
 "cells": [
  {
   "cell_type": "code",
   "execution_count": 1,
   "metadata": {
    "collapsed": true,
    "pycharm": {
     "name": "#%%\n"
    }
   },
   "outputs": [],
   "source": [
    "import torch\n",
    "import matplotlib.pyplot as plt\n",
    "import sys\n",
    "sys.path.append(\"../../emittance/\")\n",
    "\n",
    "from normalized_scalar_model import model\n",
    "from training import train\n",
    "from pyro.infer import Predictive\n",
    "from pyro.infer.autoguide import AutoNormal\n",
    "\n",
    "k = torch.load(\"kappa.pt\")[:-1]\n",
    "beam_size = torch.load(\"variances.pt\")"
   ]
  },
  {
   "cell_type": "code",
   "execution_count": 2,
   "outputs": [
    {
     "data": {
      "text/plain": "torch.Size([20, 3, 2])"
     },
     "execution_count": 2,
     "metadata": {},
     "output_type": "execute_result"
    }
   ],
   "source": [
    "beam_size.shape"
   ],
   "metadata": {
    "collapsed": false,
    "pycharm": {
     "name": "#%%\n"
    }
   }
  },
  {
   "cell_type": "code",
   "execution_count": 3,
   "outputs": [
    {
     "data": {
      "text/plain": "[<matplotlib.lines.Line2D at 0x2b6d90203a0>]"
     },
     "execution_count": 3,
     "metadata": {},
     "output_type": "execute_result"
    },
    {
     "data": {
      "text/plain": "<Figure size 432x288 with 1 Axes>",
      "image/png": "[encoded data removed]"
     },
     "metadata": {
      "needs_background": "light"
     },
     "output_type": "display_data"
    }
   ],
   "source": [
    "fig,ax = plt.subplots()\n",
    "ax.plot(k[:,:3].flatten(), beam_size[...,0].flatten(),'o')"
   ],
   "metadata": {
    "collapsed": false,
    "pycharm": {
     "name": "#%%\n"
    }
   }
  },
  {
   "cell_type": "code",
   "execution_count": 4,
   "outputs": [
    {
     "name": "stderr",
     "output_type": "stream",
     "text": [
      "C:\\ProgramData\\Miniconda3\\envs\\phase_space_reconstruction\\lib\\site-packages\\pyro\\util.py:303: UserWarning: Found vars in model but not guide: {'bm'}\n",
      "  warnings.warn(f\"Found vars in model but not guide: {bad_sites}\")\n"
     ]
    },
    {
     "name": "stdout",
     "output_type": "stream",
     "text": [
      "[iter 0]  loss: 24757.8418\n",
      "[iter 50]  loss: 242.7958\n",
      "[iter 100]  loss: 103.1689\n",
      "[iter 150]  loss: 90.1170\n",
      "[iter 200]  loss: -0.0077\n",
      "[iter 250]  loss: 23.8575\n",
      "[iter 300]  loss: 4.6299\n",
      "[iter 350]  loss: -53.7068\n",
      "[iter 400]  loss: -46.1123\n",
      "[iter 450]  loss: -49.1169\n",
      "[iter 500]  loss: -50.0278\n",
      "[iter 550]  loss: -53.0607\n",
      "[iter 600]  loss: -38.7624\n",
      "[iter 650]  loss: -36.8843\n",
      "[iter 700]  loss: -55.2055\n",
      "[iter 750]  loss: -55.7578\n",
      "[iter 800]  loss: -53.4166\n",
      "[iter 850]  loss: -54.7996\n",
      "[iter 900]  loss: -53.5545\n",
      "[iter 950]  loss: -55.9117\n"
     ]
    }
   ],
   "source": [
    "test_k = torch.linspace(k.min(),k.max(),100).reshape(1,1,-1)\n",
    "train_k = k[:,:3].flatten().reshape(1,1,-1)\n",
    "train_y = beam_size[...,0].flatten().reshape(1,1,-1)\n",
    "\n",
    "d = torch.tensor(2.84 + 0.54)\n",
    "l = torch.tensor(0.12)\n",
    "train_k_norm = 1.0 + d * l * train_k\n",
    "test_k_norm = 1.0 + d * l * test_k\n",
    "\n",
    "A = torch.max(train_y).sqrt()\n",
    "train_y_norm = train_y / A ** 2\n",
    "\n",
    "\n",
    "import pyro\n",
    "from pyro import poutine\n",
    "import time\n",
    "posterior_module = pyro.nn.PyroModule(\"model\")\n",
    "posterior_module.guide = AutoNormal(poutine.block(model, hide=['bm']))\n",
    "l = train(model,\n",
    "          posterior_module.guide,\n",
    "          train_k_norm.double(),\n",
    "          d.double(),\n",
    "          A.double(),\n",
    "          train_y_norm.double(),\n",
    "          lr=0.1,\n",
    "          n_steps=1000,\n",
    "          verbose=True)"
   ],
   "metadata": {
    "collapsed": false,
    "pycharm": {
     "name": "#%%\n"
    }
   }
  },
  {
   "cell_type": "code",
   "execution_count": 5,
   "outputs": [
    {
     "data": {
      "text/plain": "[<matplotlib.lines.Line2D at 0x2b6d9180520>]"
     },
     "execution_count": 5,
     "metadata": {},
     "output_type": "execute_result"
    },
    {
     "data": {
      "text/plain": "<Figure size 432x288 with 1 Axes>",
      "image/png": "[encoded data removed]"
     },
     "metadata": {
      "needs_background": "light"
     },
     "output_type": "display_data"
    }
   ],
   "source": [
    "posterior_predictive = Predictive(model, num_samples=800, parallel=True, guide=posterior_module.guide)\n",
    "posterior_samples = posterior_predictive(test_k, d, A)\n",
    "\n",
    "def get_stats(samples):\n",
    "    mean = torch.mean(samples, dim=0)\n",
    "    l = torch.quantile(samples, 0.05, dim=0)\n",
    "    u = torch.quantile(samples, 0.95, dim=0)\n",
    "    return mean, l, u\n",
    "\n",
    "\n",
    "fig, ax = plt.subplots()\n",
    "m, l, u = get_stats(torch.exp(posterior_samples[\"obs\"].squeeze()))\n",
    "ax.plot(test_k.squeeze().cpu(), m.cpu())\n",
    "ax.fill_between(test_k.squeeze().cpu(), l.cpu(), u.cpu(), alpha=0.25)\n",
    "ax.plot(train_k_norm.squeeze().cpu(), train_y_norm.squeeze().cpu(), '.')"
   ],
   "metadata": {
    "collapsed": false,
    "pycharm": {
     "name": "#%%\n"
    }
   }
  },
  {
   "cell_type": "code",
   "execution_count": 6,
   "outputs": [
    {
     "name": "stdout",
     "output_type": "stream",
     "text": [
      "tensor(2.2169e-05, dtype=torch.float64)\n",
      "tensor(2.6544e-07, dtype=torch.float64)\n"
     ]
    },
    {
     "data": {
      "text/plain": "<Figure size 432x288 with 1 Axes>",
      "image/png": "[encoded data removed]"
     },
     "metadata": {
      "needs_background": "light"
     },
     "output_type": "display_data"
    }
   ],
   "source": [
    "bm_samples = posterior_samples[\"bm\"]\n",
    "gamma = 65 / 0.511\n",
    "norm_emit_samples = torch.det(bm_samples).flatten().sqrt()\n",
    "emit_samples = norm_emit_samples * A * gamma\n",
    "print(emit_samples.mean())\n",
    "print(emit_samples.std())\n",
    "plt.hist(emit_samples.numpy(), bins=100);"
   ],
   "metadata": {
    "collapsed": false,
    "pycharm": {
     "name": "#%%\n"
    }
   }
  },
  {
   "cell_type": "code",
   "execution_count": 6,
   "outputs": [],
   "source": [],
   "metadata": {
    "collapsed": false,
    "pycharm": {
     "name": "#%%\n"
    }
   }
  }
 ],
 "metadata": {
  "kernelspec": {
   "display_name": "Python 3",
   "language": "python",
   "name": "python3"
  },
  "language_info": {
   "codemirror_mode": {
    "name": "ipython",
    "version": 2
   },
   "file_extension": ".py",
   "mimetype": "text/x-python",
   "name": "python",
   "nbconvert_exporter": "python",
   "pygments_lexer": "ipython2",
   "version": "2.7.6"
  }
 },
 "nbformat": 4,
 "nbformat_minor": 0
}