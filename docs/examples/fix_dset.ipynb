{
 "cells": [
  {
   "cell_type": "code",
   "execution_count": null,
   "metadata": {},
   "outputs": [],
   "source": [
    "import torch\n",
    "from gpsr.datasets import SixDReconstructionDataset\n",
    "from gpsr.custom_cheetah.screen import Screen"
   ]
  },
  {
   "cell_type": "code",
   "execution_count": 2,
   "metadata": {},
   "outputs": [
    {
     "name": "stdout",
     "output_type": "stream",
     "text": [
      "torch.Size([2, 2, 5, 3])\n",
      "torch.Size([2, 5, 200, 200])\n"
     ]
    }
   ],
   "source": [
    "obs_dataset = torch.load(\"example_data/example_datasets/reconstruction_6D.dset\", weights_only=False)\n",
    "params = obs_dataset.parameters\n",
    "print(params.shape)\n",
    "obs = obs_dataset.observations\n",
    "print(obs[0].shape)\n",
    "screens = [0]*2\n",
    "for i in range(2):\n",
    "    screens[i] = Screen(\n",
    "        resolution=obs_dataset.screens[i].resolution,\n",
    "        pixel_size=obs_dataset.screens[i].pixel_size,\n",
    "        method=obs_dataset.screens[i].method,\n",
    "        kde_bandwidth=obs_dataset.screens[i].pixel_size[0]/2,\n",
    "        is_active=obs_dataset.screens[i].is_active,\n",
    "        name = obs_dataset.screens[i].name\n",
    "    )"
   ]
  },
  {
   "cell_type": "code",
   "execution_count": 3,
   "metadata": {},
   "outputs": [
    {
     "name": "stdout",
     "output_type": "stream",
     "text": [
      "torch.Size([2, 10, 3])\n",
      "torch.Size([10, 200, 200])\n"
     ]
    }
   ],
   "source": [
    "new_dset = SixDReconstructionDataset(\n",
    "    parameters=obs_dataset.parameters,\n",
    "    observations=obs_dataset.observations,\n",
    "    screens=screens,\n",
    ")\n",
    "print(new_dset.parameters.shape)\n",
    "print(new_dset.observations[0].shape)"
   ]
  },
  {
   "cell_type": "code",
   "execution_count": 4,
   "metadata": {},
   "outputs": [],
   "source": [
    "torch.save(new_dset, \"example_data/example_datasets/reconstruction_6D_new.dset\")"
   ]
  },
  {
   "cell_type": "code",
   "execution_count": null,
   "metadata": {},
   "outputs": [],
   "source": []
  }
 ],
 "metadata": {
  "kernelspec": {
   "display_name": "gpsr",
   "language": "python",
   "name": "python3"
  },
  "language_info": {
   "codemirror_mode": {
    "name": "ipython",
    "version": 3
   },
   "file_extension": ".py",
   "mimetype": "text/x-python",
   "name": "python",
   "nbconvert_exporter": "python",
   "pygments_lexer": "ipython3",
   "version": "3.12.8"
  }
 },
 "nbformat": 4,
 "nbformat_minor": 2
}
