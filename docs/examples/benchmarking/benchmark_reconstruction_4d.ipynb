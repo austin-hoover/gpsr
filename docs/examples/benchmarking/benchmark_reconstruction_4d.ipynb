{
 "cells": [
  {
   "cell_type": "markdown",
   "metadata": {},
   "source": [
    "# 4-D phase space reconstruction\n",
    "Here we test 4-d phase space reconstruction using a basic quadrupole scan and a screen. The test uses a dummy phase space distribution in the 4d transverse phase space."
   ]
  },
  {
   "cell_type": "markdown",
   "metadata": {},
   "source": [
    "### Python package imports"
   ]
  },
  {
   "cell_type": "code",
   "execution_count": null,
   "metadata": {
    "ExecuteTime": {
     "end_time": "2024-11-08T20:42:37.419237300Z",
     "start_time": "2024-11-08T20:42:34.120131600Z"
    }
   },
   "outputs": [],
   "source": [
    "import torch\n",
    "import lightning as L\n",
    "from gpsr.custom_cheetah.screen import Screen\n",
    "from cheetah import ParticleBeam\n",
    "from gpsr.modeling import GPSR, GPSRQuadScanLattice\n",
    "from gpsr.train import LitGPSR\n",
    "from gpsr.beams import NNParticleBeamGenerator\n",
    "from gpsr.datasets import QuadScanDataset"
   ]
  },
  {
   "cell_type": "markdown",
   "metadata": {},
   "source": [
    "### Import test beam distribution and visualize 6d phase space"
   ]
  },
  {
   "cell_type": "code",
   "execution_count": null,
   "metadata": {
    "ExecuteTime": {
     "end_time": "2024-11-08T20:42:37.434241400Z",
     "start_time": "2024-11-08T20:42:37.422240600Z"
    }
   },
   "outputs": [],
   "source": [
    "# create synthetic ground truth beam from base and transform yaml files\n",
    "p0c = 43.36e6  # reference momentum in eV/c\n",
    "\n",
    "gt_beam = torch.load(\"../example_data/example_distributions/complex_beam.pt\")\n",
    "gt_beam = ParticleBeam(gt_beam.particles, gt_beam.energy)"
   ]
  },
  {
   "cell_type": "code",
   "execution_count": null,
   "metadata": {
    "ExecuteTime": {
     "end_time": "2024-11-08T20:42:40.450932400Z",
     "start_time": "2024-11-08T20:42:37.436238100Z"
    }
   },
   "outputs": [],
   "source": [
    "# plot synthetic ground truth beam projections\n",
    "\n",
    "lims = [\n",
    "    [-15e-3, 15e-3],\n",
    "    [-10e-3, 10e-3],\n",
    "    [-20e-3, 20e-3],\n",
    "    [-10e-3, 10e-3],\n",
    "    [-5e-3, 5e-3],\n",
    "    [-5e-2, 5e-2],\n",
    "]\n",
    "gt_beam.plot_distribution(bin_ranges=lims);"
   ]
  },
  {
   "cell_type": "markdown",
   "metadata": {},
   "source": [
    "### Create the screen diagnostic\n",
    "Here we use the differentiable Cheetah `Screen`. This screen uses kernel desity estimation to approximate the histogram in order to make it differentiable and vectorized."
   ]
  },
  {
   "cell_type": "code",
   "execution_count": null,
   "metadata": {
    "ExecuteTime": {
     "end_time": "2024-11-08T20:42:40.466932600Z",
     "start_time": "2024-11-08T20:42:40.453902400Z"
    },
    "collapsed": false,
    "jupyter": {
     "outputs_hidden": false
    }
   },
   "outputs": [],
   "source": [
    "# create diagnostic screen:\n",
    "n_pixels = 100\n",
    "pixel_size = torch.tensor(1e-3)\n",
    "screen = Screen(\n",
    "    resolution=(n_pixels, n_pixels),\n",
    "    pixel_size=torch.tensor((pixel_size, pixel_size)),\n",
    "    method=\"kde\",\n",
    "    kde_bandwidth=pixel_size,\n",
    "    is_active=True,\n",
    ")"
   ]
  },
  {
   "cell_type": "markdown",
   "metadata": {},
   "source": [
    "### Create synthetic data\n",
    "We track the dummy beam distribution through a dummy lattice (containing a quadrupole and drift) with different quadrupole strengths to get the training images for GPSR."
   ]
  },
  {
   "cell_type": "code",
   "execution_count": null,
   "metadata": {
    "ExecuteTime": {
     "end_time": "2024-11-08T20:42:42.582282Z",
     "start_time": "2024-11-08T20:42:40.470905Z"
    }
   },
   "outputs": [],
   "source": [
    "# create synthetic data\n",
    "# get model\n",
    "gpsr_lattice = GPSRQuadScanLattice(l_quad=0.1, l_drift=1.0, diagnostic=screen)\n",
    "\n",
    "# quadrupole strengths for scan (reshape as: n_quad_strengths x n_images_per_quad_strength x 1)\n",
    "n_ks = 20\n",
    "ks = torch.linspace(-25, 15, n_ks).unsqueeze(-1)\n",
    "gpsr_lattice.set_lattice_parameters(ks)\n",
    "\n",
    "# propagate beam and get images\n",
    "images = gpsr_lattice.track_and_observe(gt_beam)[0]\n",
    "\n",
    "# split in training and testing sets\n",
    "train_ks = ks[::2]\n",
    "test_ks = ks[1::2]\n",
    "\n",
    "train_images = images[::2]\n",
    "test_images = images[1::2]\n",
    "\n",
    "train_dset = QuadScanDataset(train_ks, train_images, screen=screen)\n",
    "test_dset = QuadScanDataset(test_ks, test_images, screen=screen)\n",
    "\n",
    "train_dset.plot_data();"
   ]
  },
  {
   "cell_type": "code",
   "execution_count": null,
   "metadata": {
    "ExecuteTime": {
     "end_time": "2024-11-08T20:42:43.663744800Z",
     "start_time": "2024-11-08T20:42:42.584456500Z"
    },
    "collapsed": false,
    "jupyter": {
     "outputs_hidden": false
    }
   },
   "outputs": [],
   "source": [
    "torch.save(train_dset, \"../example_data/example_datasets/reconstruction_4D_train.dset\")\n",
    "torch.save(test_dset, \"../example_data/example_datasets/reconstruction_4D_test.dset\")"
   ]
  },
  {
   "cell_type": "markdown",
   "metadata": {},
   "source": [
    "### Define the GPSR model for training\n",
    "The GPSR model contains the ML-based parameterization of the initial beam distribution `NNParticleBeamGenerator` with 10k particles and the differentiable simulation of the diagnostic lattice (same one used above to generate the training data)."
   ]
  },
  {
   "cell_type": "code",
   "execution_count": null,
   "metadata": {},
   "outputs": [],
   "source": [
    "gpsr_model = GPSR(NNParticleBeamGenerator(10000, p0c), gpsr_lattice)\n",
    "train_loader = torch.utils.data.DataLoader(train_dset, batch_size=20)\n",
    "\n",
    "litgpsr = LitGPSR(gpsr_model)\n",
    "logger = L.pytorch.loggers.TensorBoardLogger(\n",
    "    \".\",\n",
    ")"
   ]
  },
  {
   "cell_type": "markdown",
   "metadata": {},
   "source": [
    "### Perform the reconstruction\n",
    "This cell performs the reconstruction by varying the parameters of `NNParticleBeamGenerator` to minimize the difference between predicted measurements and the training data. This step will take some time on a CPU but can be greatly accelerated (1-2 orders of magnitude) if using a GPU to do the computation. If you are limited to a CPU I would recommend reducing the number of `max_epochs` to be between 500-1000 to reduce computation time."
   ]
  },
  {
   "cell_type": "code",
   "execution_count": null,
   "metadata": {},
   "outputs": [],
   "source": [
    "trainer = L.Trainer(limit_train_batches=100, max_epochs=2000, logger=logger)\n",
    "trainer.fit(model=litgpsr, train_dataloaders=train_loader)"
   ]
  },
  {
   "cell_type": "markdown",
   "metadata": {},
   "source": [
    "### Get the reconstructed beam distribution"
   ]
  },
  {
   "cell_type": "code",
   "execution_count": null,
   "metadata": {
    "collapsed": false,
    "jupyter": {
     "outputs_hidden": false
    }
   },
   "outputs": [],
   "source": [
    "reconstructed_beam = litgpsr.gpsr_model.beam_generator()"
   ]
  },
  {
   "cell_type": "markdown",
   "metadata": {},
   "source": [
    "### Evaluate model on samples to compare predictions\n",
    "Here we use the trained GPSR model to make predictions that should agree with the training data. The plot below shows the training data as the colormap and uses contour lines to show the predicted measurements at the 10th, 50th, 95th percentiles."
   ]
  },
  {
   "cell_type": "code",
   "execution_count": null,
   "metadata": {
    "collapsed": false,
    "jupyter": {
     "outputs_hidden": false
    }
   },
   "outputs": [],
   "source": [
    "test_pred = gpsr_model(train_dset.parameters)[0].detach()\n",
    "test_pred_dset = QuadScanDataset(train_dset.parameters, test_pred, screen=screen)\n",
    "test_pred_dset.observations[0].shape"
   ]
  },
  {
   "cell_type": "code",
   "execution_count": null,
   "metadata": {
    "collapsed": false,
    "jupyter": {
     "outputs_hidden": false
    }
   },
   "outputs": [],
   "source": [
    "fig, ax = test_dset.plot_data(overlay_data=test_pred_dset)\n",
    "fig.set_size_inches(20, 3)"
   ]
  },
  {
   "cell_type": "markdown",
   "metadata": {},
   "source": [
    "### Compare reconstructed distribution to ground truth distribution\n",
    "Here we compare 2d projections of each distribution to see agreement. Note that because we are only using a quadrupole to rotate the phase space, projections associated with the longitudinal phase space coordinates will be inaccurate and should be ignored. See the 6d reconstruction examples for a case where we can reconstruct those distributions as well."
   ]
  },
  {
   "cell_type": "code",
   "execution_count": null,
   "metadata": {
    "collapsed": false,
    "jupyter": {
     "outputs_hidden": false
    }
   },
   "outputs": [],
   "source": [
    "reconstructed_beam.plot_distribution(bin_ranges=lims)\n",
    "gt_beam.plot_distribution(bin_ranges=lims)"
   ]
  },
  {
   "cell_type": "code",
   "execution_count": null,
   "metadata": {
    "collapsed": false,
    "jupyter": {
     "outputs_hidden": false
    }
   },
   "outputs": [],
   "source": []
  }
 ],
 "metadata": {
  "kernelspec": {
   "display_name": "gpsr",
   "language": "python",
   "name": "python3"
  },
  "language_info": {
   "codemirror_mode": {
    "name": "ipython",
    "version": 3
   },
   "file_extension": ".py",
   "mimetype": "text/x-python",
   "name": "python",
   "nbconvert_exporter": "python",
   "pygments_lexer": "ipython3",
   "version": "3.12.8"
  }
 },
 "nbformat": 4,
 "nbformat_minor": 4
}
