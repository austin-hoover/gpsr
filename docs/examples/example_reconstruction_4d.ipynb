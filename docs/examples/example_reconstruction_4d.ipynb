{
 "cells": [
  {
   "cell_type": "markdown",
   "metadata": {},
   "source": [
    "# 4-D phase space reconstruction\n",
    "Here we test 4-d phase space reconstruction using a basic quadrupole scan and a screen. The test uses a dummy phase space distribution in the 4d transverse phase space."
   ]
  },
  {
   "cell_type": "markdown",
   "metadata": {},
   "source": [
    "### Python package imports"
   ]
  },
  {
   "cell_type": "code",
   "execution_count": null,
   "metadata": {
    "ExecuteTime": {
     "end_time": "2024-11-08T20:30:56.847994300Z",
     "start_time": "2024-11-08T20:30:53.529056300Z"
    }
   },
   "outputs": [],
   "source": [
    "import torch\n",
    "import lightning as L\n",
    "from gpsr.custom_cheetah.screen import Screen\n",
    "from gpsr.modeling import GPSR, GPSRQuadScanLattice\n",
    "from gpsr.train import LitGPSR\n",
    "from gpsr.beams import NNParticleBeamGenerator\n",
    "from gpsr.datasets import QuadScanDataset"
   ]
  },
  {
   "cell_type": "markdown",
   "metadata": {},
   "source": [
    "### Create the screen diagnostic and quadrupole scan lattice\n",
    "Here we use the differentiable Cheetah `Screen`. This screen uses kernel desity estimation to approximate the histogram in order to make it differentiable and vectorized."
   ]
  },
  {
   "cell_type": "code",
   "execution_count": null,
   "metadata": {
    "ExecuteTime": {
     "end_time": "2024-11-08T20:30:56.879994300Z",
     "start_time": "2024-11-08T20:30:56.865995200Z"
    }
   },
   "outputs": [],
   "source": [
    "# create diagnostic screen:\n",
    "n_pixels = 100\n",
    "pixel_size = torch.tensor(1e-3)\n",
    "screen = Screen(\n",
    "    resolution=(n_pixels, n_pixels),\n",
    "    pixel_size=torch.tensor((pixel_size, pixel_size)),\n",
    "    method=\"kde\",\n",
    "    kde_bandwidth=pixel_size / 2,\n",
    "    is_active=True,\n",
    ")\n",
    "\n",
    "# get model\n",
    "p0c = 43.36e6  # reference momentum in eV/c\n",
    "\n",
    "gpsr_lattice = GPSRQuadScanLattice(l_quad=0.1, l_drift=1.0, diagnostic=screen)\n",
    "\n",
    "# get training dataset\n",
    "train_dset = torch.load(\"example_data/example_datasets/reconstruction_4D_train.dset\")"
   ]
  },
  {
   "cell_type": "markdown",
   "metadata": {},
   "source": [
    "### Define the GPSR model for training\n",
    "The GPSR model contains the ML-based parameterization of the initial beam distribution `NNParticleBeamGenerator` with 10k particles and the differentiable simulation of the diagnostic lattice (same one used above to generate the training data)."
   ]
  },
  {
   "cell_type": "code",
   "execution_count": null,
   "metadata": {
    "ExecuteTime": {
     "end_time": "2024-11-08T20:31:16.108097100Z",
     "start_time": "2024-11-08T20:30:56.880995800Z"
    }
   },
   "outputs": [],
   "source": [
    "gpsr_model = GPSR(NNParticleBeamGenerator(10000, p0c), gpsr_lattice)\n",
    "train_loader = torch.utils.data.DataLoader(train_dset, batch_size=20)\n",
    "\n",
    "litgpsr = LitGPSR(gpsr_model)\n",
    "logger = L.pytorch.loggers.TensorBoardLogger(\n",
    "    \".\",\n",
    ")"
   ]
  },
  {
   "cell_type": "markdown",
   "metadata": {},
   "source": [
    "### Perform the reconstruction\n",
    "This cell performs the reconstruction by varying the parameters of `NNParticleBeamGenerator` to minimize the difference between predicted measurements and the training data. This step will take some time on a CPU but can be greatly accelerated (1-2 orders of magnitude) if using a GPU to do the computation. If you are limited to a CPU I would recommend reducing the number of `max_epochs` to be between 500-1000 to reduce computation time."
   ]
  },
  {
   "cell_type": "code",
   "execution_count": null,
   "metadata": {},
   "outputs": [],
   "source": [
    "trainer = L.Trainer(limit_train_batches=100, max_epochs=500, logger=logger)\n",
    "trainer.fit(model=litgpsr, train_dataloaders=train_loader)"
   ]
  },
  {
   "cell_type": "markdown",
   "metadata": {},
   "source": [
    "### Get the reconstructed beam distribution"
   ]
  },
  {
   "cell_type": "code",
   "execution_count": null,
   "metadata": {
    "ExecuteTime": {
     "end_time": "2024-11-08T20:31:16.167096700Z",
     "start_time": "2024-11-08T20:31:16.112098200Z"
    },
    "collapsed": false,
    "jupyter": {
     "outputs_hidden": false
    }
   },
   "outputs": [],
   "source": [
    "reconstructed_beam = litgpsr.gpsr_model.beam_generator()"
   ]
  },
  {
   "cell_type": "markdown",
   "metadata": {},
   "source": [
    "### Evaluate model on samples to compare predictions\n",
    "Here we use the trained GPSR model to make predictions that should agree with the training data. The plot below shows the training data as the colormap and uses contour lines to show the predicted measurements at the 10th, 50th, 95th percentiles."
   ]
  },
  {
   "cell_type": "code",
   "execution_count": null,
   "metadata": {
    "ExecuteTime": {
     "end_time": "2024-11-08T20:31:16.665097800Z",
     "start_time": "2024-11-08T20:31:16.126097400Z"
    },
    "collapsed": false,
    "jupyter": {
     "outputs_hidden": false
    }
   },
   "outputs": [],
   "source": [
    "test_dset = torch.load(\"example_data/example_datasets/reconstruction_4D_test.dset\")\n",
    "test_pred = gpsr_model(test_dset.parameters)[0].detach()\n",
    "test_pred_dset = QuadScanDataset(test_dset.parameters, test_pred, screen)"
   ]
  },
  {
   "cell_type": "code",
   "execution_count": null,
   "metadata": {
    "ExecuteTime": {
     "end_time": "2024-11-08T20:31:18.360083500Z",
     "start_time": "2024-11-08T20:31:16.665097800Z"
    },
    "collapsed": false,
    "jupyter": {
     "outputs_hidden": false
    }
   },
   "outputs": [],
   "source": [
    "fig, ax = test_dset.plot_data(overlay_data=test_pred_dset)\n",
    "fig.set_size_inches(20, 3)"
   ]
  },
  {
   "cell_type": "code",
   "execution_count": null,
   "metadata": {
    "ExecuteTime": {
     "end_time": "2024-11-08T20:31:30.417490900Z",
     "start_time": "2024-11-08T20:31:27.379484Z"
    },
    "collapsed": false,
    "jupyter": {
     "outputs_hidden": false
    }
   },
   "outputs": [],
   "source": [
    "reconstructed_beam.plot_distribution();"
   ]
  },
  {
   "cell_type": "code",
   "execution_count": null,
   "metadata": {
    "collapsed": false,
    "jupyter": {
     "outputs_hidden": false
    }
   },
   "outputs": [],
   "source": []
  }
 ],
 "metadata": {
  "kernelspec": {
   "display_name": "gpsr",
   "language": "python",
   "name": "python3"
  },
  "language_info": {
   "codemirror_mode": {
    "name": "ipython",
    "version": 3
   },
   "file_extension": ".py",
   "mimetype": "text/x-python",
   "name": "python",
   "nbconvert_exporter": "python",
   "pygments_lexer": "ipython3",
   "version": "3.12.8"
  }
 },
 "nbformat": 4,
 "nbformat_minor": 4
}
