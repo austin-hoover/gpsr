{
 "cells": [
  {
   "cell_type": "code",
   "execution_count": 4,
   "metadata": {},
   "outputs": [
    {
     "data": {
      "text/plain": [
       "torch.Size([4, 6, 6])"
      ]
     },
     "execution_count": 4,
     "metadata": {},
     "output_type": "execute_result"
    }
   ],
   "source": [
    "import matplotlib.pyplot as plt\n",
    "import torch\n",
    "cuda = torch.device(\"cuda:2\")\n",
    "\n",
    "from fitting import create_ensemble, load_data, create_datasets\n",
    "import torch\n",
    "labels = [\"x (mm)\", r\"$p_x$ (mrad)\",\"y (mm)\",r\"$p_y$ (mrad)\",\"z (mm)\",r\"$p_z$ (mrad)\"]\n",
    "\n",
    "tkwargs = {\"dtype\": torch.float, \"device\":cuda}\n",
    "base_dir = \"/global/cfs/cdirs/m669/rroussel/phase_space_reconstruction/\"\n",
    "save_dir = base_dir + \"mse_scale_1_l_1e12\"\n",
    "quad_strengths, image_data, bins, xx = load_data(base_dir, tkwargs)\n",
    "xx = xx.cpu()\n",
    "train_dset = torch.load(save_dir + \"/train.dset\")\n",
    "test_dset = torch.load(save_dir + \"/test.dset\")\n",
    "\n",
    "bin_width = bins[1] - bins[0]\n",
    "bandwidth = bin_width / 2\n",
    "ensemble = create_ensemble(bins, bandwidth)\n",
    "\n",
    "from torchensemble.utils import io\n",
    "io.load(ensemble, save_dir)\n",
    "\n",
    "n_particles = 1000000\n",
    "for ele in ensemble:\n",
    "    ele.beam.set_base_beam(\n",
    "        ele.beam.base_dist,\n",
    "        n_particles,\n",
    "        p0c=torch.tensor(63.0e6)\n",
    "    )\n",
    "\n",
    "ensemble = ensemble.to(device=cuda);\n",
    "\n",
    "frac = 1.0\n",
    "s = slice(0,4)\n",
    "\n",
    "# get beam reconstruction from slit scan measurement\n",
    "import numpy as np\n",
    "meas_y = torch.tensor(np.load(base_dir + \"y_recon.npy\"))\n",
    "meas_yp = torch.tensor(np.load(base_dir + \"yp_recon.npy\"))\n",
    "slit_data = torch.stack([meas_y, meas_yp]).T\n",
    "slit_core = slit_data\n",
    "\n",
    "covs = []\n",
    "for i in range(4):\n",
    "    initial_beam = ensemble[i].beam().data\n",
    "    re_core = initial_beam\n",
    "\n",
    "    covs += [torch.cov(re_core.T)]\n",
    "\n",
    "covs = torch.stack(covs)\n",
    "covs.shape\n",
    "\n"
   ]
  },
  {
   "cell_type": "code",
   "execution_count": 5,
   "metadata": {
    "collapsed": false,
    "jupyter": {
     "outputs_hidden": false
    }
   },
   "outputs": [
    {
     "name": "stdout",
     "output_type": "stream",
     "text": [
      "enx 4.220670700073242 +/- 0.01916016824543476\n",
      "eny 3.3855628967285156 +/- 0.06389894336462021\n",
      "tensor(3.9027, dtype=torch.float64)\n"
     ]
    }
   ],
   "source": [
    "xemittances = torch.det(covs[:,:2,:2]).sqrt()*1e6 * 63/0.511\n",
    "yemittances = torch.det(covs[:,2:4,2:4]).sqrt()*1e6 * 63/0.511\n",
    "print(f\"enx {xemittances.mean()} +/- {xemittances.std()}\")\n",
    "print(f\"eny {yemittances.mean()} +/- {yemittances.std()}\")\n",
    "\n",
    "print(torch.cov(slit_data.T).det().sqrt()*1e6 * 63/0.511)\n"
   ]
  },
  {
   "cell_type": "code",
   "execution_count": 6,
   "metadata": {
    "collapsed": false,
    "jupyter": {
     "outputs_hidden": false
    }
   },
   "outputs": [
    {
     "data": {
      "text/plain": [
       "tensor([4.1997, 4.2150, 4.2223, 4.2457], device='cuda:2',\n",
       "       grad_fn=<DivBackward0>)"
      ]
     },
     "execution_count": 6,
     "metadata": {},
     "output_type": "execute_result"
    }
   ],
   "source": [
    "xemittances"
   ]
  },
  {
   "cell_type": "code",
   "execution_count": 7,
   "metadata": {
    "collapsed": false,
    "jupyter": {
     "outputs_hidden": false
    }
   },
   "outputs": [
    {
     "data": {
      "text/plain": [
       "tensor([3.2923, 3.3957, 3.4258, 3.4284], device='cuda:2',\n",
       "       grad_fn=<DivBackward0>)"
      ]
     },
     "execution_count": 7,
     "metadata": {},
     "output_type": "execute_result"
    }
   ],
   "source": [
    "yemittances"
   ]
  },
  {
   "cell_type": "code",
   "execution_count": 8,
   "metadata": {
    "collapsed": false,
    "jupyter": {
     "outputs_hidden": false
    }
   },
   "outputs": [
    {
     "data": {
      "text/plain": [
       "[<matplotlib.lines.Line2D at 0x14d9f2074b20>]"
      ]
     },
     "execution_count": 8,
     "metadata": {},
     "output_type": "execute_result"
    },
    {
     "data": {
      "image/png": "[encoded data removed]",
      "text/plain": [
       "<Figure size 432x288 with 1 Axes>"
      ]
     },
     "metadata": {
      "needs_background": "light"
     },
     "output_type": "display_data"
    }
   ],
   "source": [
    "plt.plot(yemittances.cpu().detach())\n",
    "plt.plot(xemittances.cpu().detach())"
   ]
  },
  {
   "cell_type": "code",
   "execution_count": null,
   "metadata": {
    "collapsed": false,
    "jupyter": {
     "outputs_hidden": false
    }
   },
   "outputs": [],
   "source": [
    "reconstruction_data = initial_beam.data\n",
    "\n",
    "\n",
    "\n",
    "\n",
    "gt_cov = torch.cov(gt_core.T)\n",
    "re_cov = torch.cov(re_core.T)\n",
    "\n",
    "print(torch.det(gt_cov[:2,:2]).sqrt())\n",
    "print(torch.det(re_cov[:2,:2]).sqrt())\n",
    "\n",
    "print(torch.det(gt_cov[2:4,2:4]).sqrt())\n",
    "print(torch.det(re_cov[2:4,2:4]).sqrt())"
   ]
  },
  {
   "cell_type": "code",
   "execution_count": null,
   "metadata": {
    "collapsed": false,
    "jupyter": {
     "outputs_hidden": false
    }
   },
   "outputs": [],
   "source": [
    "plt.plot(*gt_core.T[:2,::100].cpu().detach(), '.')\n",
    "plt.plot(*re_core.T[:2,::100].cpu().detach(), '.')\n",
    "\n",
    "plt.figure()\n",
    "plt.plot(*gt_core.T[2:4,::100].cpu().detach(), '.')\n",
    "plt.plot(*re_core.T[2:4,::100].cpu().detach(), '.')"
   ]
  },
  {
   "cell_type": "code",
   "execution_count": null,
   "metadata": {
    "collapsed": false,
    "jupyter": {
     "outputs_hidden": false
    }
   },
   "outputs": [],
   "source": []
  }
 ],
 "metadata": {
  "kernelspec": {
   "display_name": "Python 3 (ipykernel)",
   "language": "python",
   "name": "python3"
  },
  "language_info": {
   "codemirror_mode": {
    "name": "ipython",
    "version": 3
   },
   "file_extension": ".py",
   "mimetype": "text/x-python",
   "name": "python",
   "nbconvert_exporter": "python",
   "pygments_lexer": "ipython3",
   "version": "3.10.4"
  }
 },
 "nbformat": 4,
 "nbformat_minor": 4
}
