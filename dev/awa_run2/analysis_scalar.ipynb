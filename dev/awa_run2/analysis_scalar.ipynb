{
 "cells": [
  {
   "cell_type": "code",
   "execution_count": 3,
   "metadata": {
    "collapsed": true
   },
   "outputs": [
    {
     "data": {
      "text/plain": "torch.Size([4, 6, 6])"
     },
     "execution_count": 3,
     "metadata": {},
     "output_type": "execute_result"
    }
   ],
   "source": [
    "import matplotlib.pyplot as plt\n",
    "\n",
    "from fitting import create_ensemble, load_data, create_datasets\n",
    "from phase_space_reconstruction.utils import get_core_fraction\n",
    "import torch\n",
    "\n",
    "tkwargs = {\"dtype\": torch.float}\n",
    "save_dir = \"mse_scale_1_run3_cov_term\"\n",
    "quad_strengths, image_data, bins, xx = load_data(tkwargs)\n",
    "train_dset = torch.load(save_dir + \"/train.dset\")\n",
    "test_dset = torch.load(save_dir + \"/test.dset\")\n",
    "\n",
    "bin_width = bins[1] - bins[0]\n",
    "bandwidth = bin_width / 2\n",
    "ensemble = create_ensemble(bins, bandwidth)\n",
    "\n",
    "from torchensemble.utils import io\n",
    "io.load(ensemble, save_dir)\n",
    "\n",
    "ensemble.cuda();\n",
    "\n",
    "frac = 1.0\n",
    "s = slice(0,4)\n",
    "\n",
    "# get beam reconstruction from slit scan measurement\n",
    "import numpy as np\n",
    "meas_y = torch.tensor(np.load(\"y_recon.npy\"))\n",
    "meas_yp = torch.tensor(np.load(\"yp_recon.npy\"))\n",
    "slit_data = torch.stack([meas_y, meas_yp]).T\n",
    "slit_core = get_core_fraction(slit_data,frac)\n",
    "\n",
    "covs = []\n",
    "for i in range(4):\n",
    "    initial_beam = ensemble[i].beam().data\n",
    "    re_core = get_core_fraction(initial_beam,frac,s)\n",
    "\n",
    "    covs += [torch.cov(re_core.T)]\n",
    "\n",
    "covs = torch.stack(covs)\n",
    "covs.shape\n",
    "\n"
   ]
  },
  {
   "cell_type": "code",
   "execution_count": 4,
   "outputs": [
    {
     "name": "stdout",
     "output_type": "stream",
     "text": [
      "enx 5.287405967712402 +/- 0.2864671051502228\n",
      "eny 4.306819438934326 +/- 0.16332578659057617\n",
      "tensor(3.9027, dtype=torch.float64)\n"
     ]
    }
   ],
   "source": [
    "xemittances = torch.det(covs[:,:2,:2]).sqrt()*1e6 * 63/0.511\n",
    "yemittances = torch.det(covs[:,2:4,2:4]).sqrt()*1e6 * 63/0.511\n",
    "print(f\"enx {xemittances.mean()} +/- {xemittances.std()}\")\n",
    "print(f\"eny {yemittances.mean()} +/- {yemittances.std()}\")\n",
    "\n",
    "print(torch.cov(slit_data.T).det().sqrt()*1e6 * 63/0.511)\n"
   ],
   "metadata": {
    "collapsed": false
   }
  },
  {
   "cell_type": "code",
   "execution_count": 3,
   "outputs": [
    {
     "data": {
      "text/plain": "tensor([11.5553,  7.7821,  6.7819,  6.3890,  6.1670], device='cuda:0',\n       grad_fn=<DivBackward0>)"
     },
     "execution_count": 3,
     "metadata": {},
     "output_type": "execute_result"
    }
   ],
   "source": [
    "xemittances"
   ],
   "metadata": {
    "collapsed": false
   }
  },
  {
   "cell_type": "code",
   "execution_count": 4,
   "outputs": [
    {
     "data": {
      "text/plain": "tensor([4.2427, 4.1933, 4.2570, 4.2860, 4.2622], device='cuda:0',\n       grad_fn=<DivBackward0>)"
     },
     "execution_count": 4,
     "metadata": {},
     "output_type": "execute_result"
    }
   ],
   "source": [
    "yemittances"
   ],
   "metadata": {
    "collapsed": false
   }
  },
  {
   "cell_type": "code",
   "execution_count": 5,
   "outputs": [
    {
     "data": {
      "text/plain": "[<matplotlib.lines.Line2D at 0x23c0ea57670>]"
     },
     "execution_count": 5,
     "metadata": {},
     "output_type": "execute_result"
    },
    {
     "data": {
      "text/plain": "<Figure size 432x288 with 1 Axes>",
      "image/png": "[encoded data removed]"
     },
     "metadata": {
      "needs_background": "light"
     },
     "output_type": "display_data"
    }
   ],
   "source": [
    "plt.plot(yemittances.cpu().detach())\n",
    "plt.plot(xemittances.cpu().detach())"
   ],
   "metadata": {
    "collapsed": false
   }
  },
  {
   "cell_type": "code",
   "execution_count": 6,
   "outputs": [
    {
     "ename": "NameError",
     "evalue": "name 'gt_core' is not defined",
     "output_type": "error",
     "traceback": [
      "\u001B[1;31m---------------------------------------------------------------------------\u001B[0m",
      "\u001B[1;31mNameError\u001B[0m                                 Traceback (most recent call last)",
      "Input \u001B[1;32mIn [6]\u001B[0m, in \u001B[0;36m<cell line: 6>\u001B[1;34m()\u001B[0m\n\u001B[0;32m      1\u001B[0m reconstruction_data \u001B[38;5;241m=\u001B[39m initial_beam\u001B[38;5;241m.\u001B[39mdata\n\u001B[1;32m----> 6\u001B[0m gt_cov \u001B[38;5;241m=\u001B[39m torch\u001B[38;5;241m.\u001B[39mcov(\u001B[43mgt_core\u001B[49m\u001B[38;5;241m.\u001B[39mT)\n\u001B[0;32m      7\u001B[0m re_cov \u001B[38;5;241m=\u001B[39m torch\u001B[38;5;241m.\u001B[39mcov(re_core\u001B[38;5;241m.\u001B[39mT)\n\u001B[0;32m      9\u001B[0m \u001B[38;5;28mprint\u001B[39m(torch\u001B[38;5;241m.\u001B[39mdet(gt_cov[:\u001B[38;5;241m2\u001B[39m,:\u001B[38;5;241m2\u001B[39m])\u001B[38;5;241m.\u001B[39msqrt())\n",
      "\u001B[1;31mNameError\u001B[0m: name 'gt_core' is not defined"
     ]
    }
   ],
   "source": [
    "reconstruction_data = initial_beam.data\n",
    "\n",
    "\n",
    "\n",
    "\n",
    "gt_cov = torch.cov(gt_core.T)\n",
    "re_cov = torch.cov(re_core.T)\n",
    "\n",
    "print(torch.det(gt_cov[:2,:2]).sqrt())\n",
    "print(torch.det(re_cov[:2,:2]).sqrt())\n",
    "\n",
    "print(torch.det(gt_cov[2:4,2:4]).sqrt())\n",
    "print(torch.det(re_cov[2:4,2:4]).sqrt())"
   ],
   "metadata": {
    "collapsed": false
   }
  },
  {
   "cell_type": "code",
   "execution_count": null,
   "outputs": [],
   "source": [
    "plt.plot(*gt_core.T[:2,::100].cpu().detach(), '.')\n",
    "plt.plot(*re_core.T[:2,::100].cpu().detach(), '.')\n",
    "\n",
    "plt.figure()\n",
    "plt.plot(*gt_core.T[2:4,::100].cpu().detach(), '.')\n",
    "plt.plot(*re_core.T[2:4,::100].cpu().detach(), '.')"
   ],
   "metadata": {
    "collapsed": false
   }
  },
  {
   "cell_type": "code",
   "execution_count": null,
   "outputs": [],
   "source": [],
   "metadata": {
    "collapsed": false
   }
  }
 ],
 "metadata": {
  "kernelspec": {
   "display_name": "Python 3",
   "language": "python",
   "name": "python3"
  },
  "language_info": {
   "codemirror_mode": {
    "name": "ipython",
    "version": 2
   },
   "file_extension": ".py",
   "mimetype": "text/x-python",
   "name": "python",
   "nbconvert_exporter": "python",
   "pygments_lexer": "ipython2",
   "version": "2.7.6"
  }
 },
 "nbformat": 4,
 "nbformat_minor": 0
}
