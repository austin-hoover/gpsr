{
 "cells": [
  {
   "cell_type": "code",
   "execution_count": 1,
   "metadata": {},
   "outputs": [
    {
     "name": "stderr",
     "output_type": "stream",
     "text": [
      "/global/homes/r/rroussel/.conda/envs/phase_space_reconstruction/lib/python3.10/site-packages/tqdm/auto.py:22: TqdmWarning: IProgress not found. Please update jupyter and ipywidgets. See https://ipywidgets.readthedocs.io/en/stable/user_install.html\n",
      "  from .autonotebook import tqdm as notebook_tqdm\n",
      "/global/homes/r/rroussel/.conda/envs/phase_space_reconstruction/lib/python3.10/site-packages/torch/functional.py:568: UserWarning: torch.meshgrid: in an upcoming release, it will be required to pass the indexing argument. (Triggered internally at  /opt/conda/conda-bld/pytorch_1646755897462/work/aten/src/ATen/native/TensorShape.cpp:2228.)\n",
      "  return _VF.meshgrid(tensors, **kwargs)  # type: ignore[attr-defined]\n"
     ]
    },
    {
     "data": {
      "text/plain": [
       "torch.Size([4, 6, 6])"
      ]
     },
     "execution_count": 1,
     "metadata": {},
     "output_type": "execute_result"
    }
   ],
   "source": [
    "import matplotlib.pyplot as plt\n",
    "\n",
    "from fitting import create_ensemble, load_data, create_datasets\n",
    "from phase_space_reconstruction.utils import get_core_fraction\n",
    "import torch\n",
    "\n",
    "tkwargs = {\"dtype\": torch.float}\n",
    "save_dir = \"mse_scale_1_run3_cov_term\"\n",
    "quad_strengths, image_data, bins, xx = load_data(tkwargs)\n",
    "train_dset = torch.load(save_dir + \"/train.dset\")\n",
    "test_dset = torch.load(save_dir + \"/test.dset\")\n",
    "\n",
    "bin_width = bins[1] - bins[0]\n",
    "bandwidth = bin_width / 2\n",
    "ensemble = create_ensemble(bins, bandwidth)\n",
    "\n",
    "from torchensemble.utils import io\n",
    "io.load(ensemble, save_dir)\n",
    "\n",
    "ensemble.cuda();\n",
    "\n",
    "frac = 1.0\n",
    "s = slice(0,4)\n",
    "\n",
    "# get beam reconstruction from slit scan measurement\n",
    "import numpy as np\n",
    "meas_y = torch.tensor(np.load(\"y_recon.npy\"))\n",
    "meas_yp = torch.tensor(np.load(\"yp_recon.npy\"))\n",
    "slit_data = torch.stack([meas_y, meas_yp]).T\n",
    "slit_core = get_core_fraction(slit_data,frac)\n",
    "\n",
    "covs = []\n",
    "for i in range(4):\n",
    "    initial_beam = ensemble[i].beam().data\n",
    "    re_core = get_core_fraction(initial_beam,frac,s)\n",
    "\n",
    "    covs += [torch.cov(re_core.T)]\n",
    "\n",
    "covs = torch.stack(covs)\n",
    "covs.shape\n",
    "\n"
   ]
  },
  {
   "cell_type": "code",
   "execution_count": 2,
   "metadata": {
    "collapsed": false,
    "jupyter": {
     "outputs_hidden": false
    }
   },
   "outputs": [
    {
     "name": "stdout",
     "output_type": "stream",
     "text": [
      "enx 5.340036869049072 +/- 0.12066815793514252\n",
      "eny 4.328085899353027 +/- 0.09526745975017548\n",
      "tensor(3.9027, dtype=torch.float64)\n"
     ]
    }
   ],
   "source": [
    "xemittances = torch.det(covs[:,:2,:2]).sqrt()*1e6 * 63/0.511\n",
    "yemittances = torch.det(covs[:,2:4,2:4]).sqrt()*1e6 * 63/0.511\n",
    "print(f\"enx {xemittances.mean()} +/- {xemittances.std()}\")\n",
    "print(f\"eny {yemittances.mean()} +/- {yemittances.std()}\")\n",
    "\n",
    "print(torch.cov(slit_data.T).det().sqrt()*1e6 * 63/0.511)\n"
   ]
  },
  {
   "cell_type": "code",
   "execution_count": 3,
   "metadata": {
    "collapsed": false,
    "jupyter": {
     "outputs_hidden": false
    }
   },
   "outputs": [
    {
     "data": {
      "text/plain": [
       "tensor([5.3462, 5.4129, 5.4332, 5.1678], device='cuda:0',\n",
       "       grad_fn=<DivBackward0>)"
      ]
     },
     "execution_count": 3,
     "metadata": {},
     "output_type": "execute_result"
    }
   ],
   "source": [
    "xemittances"
   ]
  },
  {
   "cell_type": "code",
   "execution_count": 4,
   "metadata": {
    "collapsed": false,
    "jupyter": {
     "outputs_hidden": false
    }
   },
   "outputs": [
    {
     "data": {
      "text/plain": [
       "tensor([4.4013, 4.3460, 4.1893, 4.3757], device='cuda:0',\n",
       "       grad_fn=<DivBackward0>)"
      ]
     },
     "execution_count": 4,
     "metadata": {},
     "output_type": "execute_result"
    }
   ],
   "source": [
    "yemittances"
   ]
  },
  {
   "cell_type": "code",
   "execution_count": 5,
   "metadata": {
    "collapsed": false,
    "jupyter": {
     "outputs_hidden": false
    }
   },
   "outputs": [
    {
     "data": {
      "text/plain": [
       "[<matplotlib.lines.Line2D at 0x14f8dc3a84c0>]"
      ]
     },
     "execution_count": 5,
     "metadata": {},
     "output_type": "execute_result"
    },
    {
     "data": {
      "image/png": "[encoded data removed]",
      "text/plain": [
       "<Figure size 432x288 with 1 Axes>"
      ]
     },
     "metadata": {
      "needs_background": "light"
     },
     "output_type": "display_data"
    }
   ],
   "source": [
    "plt.plot(yemittances.cpu().detach())\n",
    "plt.plot(xemittances.cpu().detach())"
   ]
  },
  {
   "cell_type": "code",
   "execution_count": 6,
   "metadata": {
    "collapsed": false,
    "jupyter": {
     "outputs_hidden": false
    }
   },
   "outputs": [
    {
     "ename": "NameError",
     "evalue": "name 'gt_core' is not defined",
     "output_type": "error",
     "traceback": [
      "\u001b[0;31m---------------------------------------------------------------------------\u001b[0m",
      "\u001b[0;31mNameError\u001b[0m                                 Traceback (most recent call last)",
      "Input \u001b[0;32mIn [6]\u001b[0m, in \u001b[0;36m<cell line: 6>\u001b[0;34m()\u001b[0m\n\u001b[1;32m      1\u001b[0m reconstruction_data \u001b[38;5;241m=\u001b[39m initial_beam\u001b[38;5;241m.\u001b[39mdata\n\u001b[0;32m----> 6\u001b[0m gt_cov \u001b[38;5;241m=\u001b[39m torch\u001b[38;5;241m.\u001b[39mcov(\u001b[43mgt_core\u001b[49m\u001b[38;5;241m.\u001b[39mT)\n\u001b[1;32m      7\u001b[0m re_cov \u001b[38;5;241m=\u001b[39m torch\u001b[38;5;241m.\u001b[39mcov(re_core\u001b[38;5;241m.\u001b[39mT)\n\u001b[1;32m      9\u001b[0m \u001b[38;5;28mprint\u001b[39m(torch\u001b[38;5;241m.\u001b[39mdet(gt_cov[:\u001b[38;5;241m2\u001b[39m,:\u001b[38;5;241m2\u001b[39m])\u001b[38;5;241m.\u001b[39msqrt())\n",
      "\u001b[0;31mNameError\u001b[0m: name 'gt_core' is not defined"
     ]
    }
   ],
   "source": [
    "reconstruction_data = initial_beam.data\n",
    "\n",
    "\n",
    "\n",
    "\n",
    "gt_cov = torch.cov(gt_core.T)\n",
    "re_cov = torch.cov(re_core.T)\n",
    "\n",
    "print(torch.det(gt_cov[:2,:2]).sqrt())\n",
    "print(torch.det(re_cov[:2,:2]).sqrt())\n",
    "\n",
    "print(torch.det(gt_cov[2:4,2:4]).sqrt())\n",
    "print(torch.det(re_cov[2:4,2:4]).sqrt())"
   ]
  },
  {
   "cell_type": "code",
   "execution_count": null,
   "metadata": {
    "collapsed": false,
    "jupyter": {
     "outputs_hidden": false
    }
   },
   "outputs": [],
   "source": [
    "plt.plot(*gt_core.T[:2,::100].cpu().detach(), '.')\n",
    "plt.plot(*re_core.T[:2,::100].cpu().detach(), '.')\n",
    "\n",
    "plt.figure()\n",
    "plt.plot(*gt_core.T[2:4,::100].cpu().detach(), '.')\n",
    "plt.plot(*re_core.T[2:4,::100].cpu().detach(), '.')"
   ]
  },
  {
   "cell_type": "code",
   "execution_count": null,
   "metadata": {
    "collapsed": false,
    "jupyter": {
     "outputs_hidden": false
    }
   },
   "outputs": [],
   "source": []
  }
 ],
 "metadata": {
  "kernelspec": {
   "display_name": "Python 3 (ipykernel)",
   "language": "python",
   "name": "python3"
  },
  "language_info": {
   "codemirror_mode": {
    "name": "ipython",
    "version": 3
   },
   "file_extension": ".py",
   "mimetype": "text/x-python",
   "name": "python",
   "nbconvert_exporter": "python",
   "pygments_lexer": "ipython3",
   "version": "3.10.4"
  }
 },
 "nbformat": 4,
 "nbformat_minor": 4
}
