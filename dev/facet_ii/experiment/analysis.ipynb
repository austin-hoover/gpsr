{
 "cells": [
  {
   "cell_type": "markdown",
   "source": [
    "## Read in data from FACET-II Scan"
   ],
   "metadata": {
    "collapsed": false
   },
   "id": "443cdf1951766d62"
  },
  {
   "cell_type": "code",
   "execution_count": 1,
   "outputs": [],
   "source": [
    "from scipy.io import loadmat"
   ],
   "metadata": {
    "collapsed": false,
    "ExecuteTime": {
     "start_time": "2023-11-10T17:39:39.469645400Z"
    }
   },
   "id": "initial_id"
  },
  {
   "cell_type": "markdown",
   "source": [
    "### load data from matfile, keyword `simplify_cells` is critical here to make it manageable!"
   ],
   "metadata": {
    "collapsed": false
   },
   "id": "f26bef2e16ba8c7f"
  },
  {
   "cell_type": "code",
   "execution_count": 2,
   "outputs": [],
   "source": [
    "data_mat = loadmat(\"E325_03935.mat\", simplify_cells=True)"
   ],
   "metadata": {
    "collapsed": false,
    "ExecuteTime": {
     "end_time": "2023-11-10T17:39:39.869969500Z",
     "start_time": "2023-11-10T17:39:39.837865200Z"
    }
   },
   "id": "ddbb142003bb2269"
  },
  {
   "cell_type": "markdown",
   "source": [
    "### example structure of data dictionary\n",
    "A lot of this info is not important"
   ],
   "metadata": {
    "collapsed": false
   },
   "id": "702c1f10a347c502"
  },
  {
   "cell_type": "code",
   "execution_count": 11,
   "outputs": [
    {
     "name": "stdout",
     "output_type": "stream",
     "text": [
      "__header__\n",
      "__version__\n",
      "__globals__\n",
      "data_struct\n",
      "\tparams\n",
      "\t\texperiment\n",
      "\t\trate\n",
      "\t\trate_name\n",
      "\t\tEC\n",
      "\t\tcomment\n",
      "\t\tn_shot\n",
      "\t\tprint2elog\n",
      "\t\tsaveBG\n",
      "\t\tlaserBG\n",
      "\t\tnBG\n",
      "\t\tcamNames\n",
      "\t\tcamPVs\n",
      "\t\tcamSIOCs\n",
      "\t\tcamTrigs\n",
      "\t\tnum_CAM\n",
      "\t\tevrSettings\n",
      "\t\tevrRoots\n",
      "\t\tevrChans\n",
      "\t\tBSA_list\n",
      "\t\tnonBSA_list\n",
      "\t\tinclude_nonBSA_arrays\n",
      "\t\tscanDim\n",
      "\t\tscanFuncs\n",
      "\t\tscanPVs\n",
      "\t\tstartVals\n",
      "\t\tstopVals\n",
      "\t\tscanVals\n",
      "\t\tstepsAll\n",
      "\t\ttotalSteps\n",
      "\t\tnSteps\n",
      "\tmetadata\n",
      "\t\tEvent\n",
      "\t\t\tEC\n",
      "\t\t\tincmSet\n",
      "\t\t\tincmReset\n",
      "\t\t\texcmSet\n",
      "\t\t\texcmReset\n",
      "\t\t\tinclBits\n",
      "\t\t\texclBits\n",
      "\t\t\tbeamcode\n",
      "\t\t\tratePV\n",
      "\t\t\tbeamRatePV\n",
      "\t\t\tPID_PV\n",
      "\t\t\tliveRate\n",
      "\t\t\tbeamRate\n",
      "\t\t\trateRatio\n",
      "\t\tVCCF\n",
      "\t\t\tPV\n",
      "\t\t\tModel_RBV\n",
      "\t\t\tDataType\n",
      "\t\t\tMaxSizeX_RBV\n",
      "\t\t\tMaxSizeY_RBV\n",
      "\t\t\tMinX_RBV\n",
      "\t\t\tMinY_RBV\n",
      "\t\t\tSizeX_RBV\n",
      "\t\t\tSizeY_RBV\n",
      "\t\t\tROI_MinX_RBV\n",
      "\t\t\tROI_SizeX_RBV\n",
      "\t\t\tROI_MinY_RBV\n",
      "\t\t\tROI_SizeY_RBV\n",
      "\t\t\tX_ORIENT\n",
      "\t\t\tY_ORIENT\n",
      "\t\t\tRESOLUTION\n",
      "\t\t\tAcquireTime_RBV\n",
      "\t\t\tGain_RBV\n",
      "\t\t\tsioc\n",
      "\t\t\ttrigger\n",
      "\t\tPR10571\n",
      "\t\t\tPV\n",
      "\t\t\tModel_RBV\n",
      "\t\t\tDataType\n",
      "\t\t\tMaxSizeX_RBV\n",
      "\t\t\tMaxSizeY_RBV\n",
      "\t\t\tMinX_RBV\n",
      "\t\t\tMinY_RBV\n",
      "\t\t\tSizeX_RBV\n",
      "\t\t\tSizeY_RBV\n",
      "\t\t\tROI_MinX_RBV\n",
      "\t\t\tROI_SizeX_RBV\n",
      "\t\t\tROI_MinY_RBV\n",
      "\t\t\tROI_SizeY_RBV\n",
      "\t\t\tX_ORIENT\n",
      "\t\t\tY_ORIENT\n",
      "\t\t\tRESOLUTION\n",
      "\t\t\tAcquireTime_RBV\n",
      "\t\t\tGain_RBV\n",
      "\t\t\tsioc\n",
      "\t\t\ttrigger\n",
      "\t\tBSA_List_S10\n",
      "\t\t\tPVs\n",
      "\t\t\tDesc\n",
      "\t\tBSA_List_S10RF\n",
      "\t\t\tPVs\n",
      "\t\t\tDesc\n",
      "\t\tnonBSA_List_LaserS10\n",
      "\t\t\tPVs\n",
      "\t\t\tDesc\n",
      "\t\tnonBSA_List_S10\n",
      "\t\t\tPVs\n",
      "\t\t\tDesc\n",
      "\t\tnonBSA_List_S10RF\n",
      "\t\t\tPVs\n",
      "\t\t\tDesc\n",
      "\tsave_info\n",
      "\t\tinstance\n",
      "\t\texperiment\n",
      "\t\tlocal_time\n",
      "\t\tmatlab_timestamp\n",
      "\t\tunix_timestamp\n",
      "\t\theader\n",
      "\t\tsave_path\n",
      "\t\tcam_paths\n",
      "\tversion\n",
      "\tpulseID\n",
      "\t\tscalar_PID\n",
      "\t\tscalar_UID\n",
      "\t\tsteps\n",
      "\t\tSLAC_time\n",
      "\t\tcommon_scalar_index\n",
      "\t\tVCCFcommon_index\n",
      "\t\tPR10571common_index\n",
      "\t\tcommon_UIDs\n",
      "\t\tcommon_PIDs\n",
      "\tscalars\n",
      "\t\tsteps\n",
      "\t\tBSA_List_S10\n",
      "\t\t\tTORO_IN10_431_TMIT\n",
      "\t\t\tTORO_IN10_591_TMIT\n",
      "\t\t\tTORO_IN10_791_TMIT\n",
      "\t\t\tBPMS_IN10_221_X\n",
      "\t\t\tBPMS_IN10_221_Y\n",
      "\t\t\tBPMS_IN10_221_TMIT\n",
      "\t\t\tBPMS_IN10_371_X\n",
      "\t\t\tBPMS_IN10_371_Y\n",
      "\t\t\tBPMS_IN10_371_TMIT\n",
      "\t\t\tBPMS_IN10_425_X\n",
      "\t\t\tBPMS_IN10_425_Y\n",
      "\t\t\tBPMS_IN10_425_TMIT\n",
      "\t\t\tBPMS_IN10_511_X\n",
      "\t\t\tBPMS_IN10_511_Y\n",
      "\t\t\tBPMS_IN10_511_TMIT\n",
      "\t\t\tBPMS_IN10_525_X\n",
      "\t\t\tBPMS_IN10_525_Y\n",
      "\t\t\tBPMS_IN10_525_TMIT\n",
      "\t\t\tBPMS_IN10_581_X\n",
      "\t\t\tBPMS_IN10_581_Y\n",
      "\t\t\tBPMS_IN10_581_TMIT\n",
      "\t\t\tBPMS_IN10_631_X\n",
      "\t\t\tBPMS_IN10_631_Y\n",
      "\t\t\tBPMS_IN10_631_TMIT\n",
      "\t\t\tBPMS_IN10_651_X\n",
      "\t\t\tBPMS_IN10_651_Y\n",
      "\t\t\tBPMS_IN10_651_TMIT\n",
      "\t\t\tBPMS_IN10_731_X\n",
      "\t\t\tBPMS_IN10_731_Y\n",
      "\t\t\tBPMS_IN10_731_TMIT\n",
      "\t\t\tBPMS_IN10_771_X\n",
      "\t\t\tBPMS_IN10_771_Y\n",
      "\t\t\tBPMS_IN10_771_TMIT\n",
      "\t\t\tBLEN_IN10_596_BRAW\n",
      "\t\t\tPMTR_HT10_950_PWR\n",
      "\t\tBSA_List_S10RF\n",
      "\t\t\tKLYS_LI10_21_FB_FAST_PACT\n",
      "\t\t\tKLYS_LI10_21_FB_FAST_AACT\n",
      "\t\t\tACCL_LI10_21_W0C6_FAST_PACT\n",
      "\t\t\tACCL_LI10_21_W0C6_FAST_AACT\n",
      "\t\t\tKLYS_LI10_31_FB_FAST_PACT\n",
      "\t\t\tKLYS_LI10_31_FB_FAST_AACT\n",
      "\t\t\tACCL_LI10_31_W0C0_FAST_PACT\n",
      "\t\t\tACCL_LI10_31_W0C0_FAST_AACT\n",
      "\t\t\tKLYS_LI10_41_FB_FAST_PACT\n",
      "\t\t\tKLYS_LI10_41_FB_FAST_AACT\n",
      "\t\t\tACCL_LI10_41_W0C0_FAST_PACT\n",
      "\t\t\tACCL_LI10_41_W0C0_FAST_AACT\n",
      "\t\t\tKLYS_LI10_51_FB_FAST_PACT\n",
      "\t\t\tKLYS_LI10_51_FB_FAST_AACT\n",
      "\t\t\tACCL_LI10_51_W0C0_FAST_PACT\n",
      "\t\t\tACCL_LI10_51_W0C0_FAST_AACT\n",
      "\t\tnonBSA_List_LaserS10\n",
      "\t\t\tLASR_LT10_930_PWR\n",
      "\t\t\tWPLT_LT10_150_WP_ANGLE\n",
      "\t\t\tIRIS_LT10_330_MOTR_ANGLE\n",
      "\t\t\tPMTR_HT10_950_PWR\n",
      "\t\t\tWPLT_HT10_150_WPA_ANGLE\n",
      "\t\t\tWPLT_HT10_100_WPB_ANGLE\n",
      "\t\t\tWPLT_HT10_950_VHC_ANGLE\n",
      "\t\t\tLHDL_HT10_310_LHDL_MOTR\n",
      "\t\tnonBSA_List_S10\n",
      "\t\t\tSOLN_IN10_111_BDES\n",
      "\t\t\tSOLN_IN10_121_BDES\n",
      "\t\t\tXCOR_IN10_121_BDES\n",
      "\t\t\tXCOR_IN10_221_BDES\n",
      "\t\t\tXCOR_IN10_311_BDES\n",
      "\t\t\tXCOR_IN10_381_BDES\n",
      "\t\t\tXCOR_IN10_411_BDES\n",
      "\t\t\tXCOR_IN10_491_BDES\n",
      "\t\t\tXCOR_IN10_521_BDES\n",
      "\t\t\tXCOR_IN10_641_BDES\n",
      "\t\t\tXCOR_IN10_721_BDES\n",
      "\t\t\tXCOR_IN10_761_BDES\n",
      "\t\t\tYCOR_IN10_122_BDES\n",
      "\t\t\tYCOR_IN10_222_BDES\n",
      "\t\t\tYCOR_IN10_312_BDES\n",
      "\t\t\tYCOR_IN10_382_BDES\n",
      "\t\t\tYCOR_IN10_412_BDES\n",
      "\t\t\tYCOR_IN10_492_BDES\n",
      "\t\t\tYCOR_IN10_522_BDES\n",
      "\t\t\tYCOR_IN10_642_BDES\n",
      "\t\t\tYCOR_IN10_722_BDES\n",
      "\t\t\tYCOR_IN10_762_BDES\n",
      "\t\t\tQUAD_IN10_121_BDES\n",
      "\t\t\tQUAD_IN10_122_BDES\n",
      "\t\t\tQUAD_IN10_361_BDES\n",
      "\t\t\tQUAD_IN10_371_BDES\n",
      "\t\t\tQUAD_IN10_425_BDES\n",
      "\t\t\tQUAD_IN10_441_BDES\n",
      "\t\t\tQUAD_IN10_511_BDES\n",
      "\t\t\tQUAD_IN10_525_BDES\n",
      "\t\t\tQUAD_IN10_631_BDES\n",
      "\t\t\tQUAD_IN10_651_BDES\n",
      "\t\t\tQUAD_IN10_731_BDES\n",
      "\t\t\tQUAD_IN10_771_BDES\n",
      "\t\t\tQUAD_IN10_781_BDES\n",
      "\t\t\tBTRM_IN10_661_BDES\n",
      "\t\t\tBEND_IN10_661_BDES\n",
      "\t\t\tBEND_IN10_751_BDES\n",
      "\t\t\tSOLN_IN10_111_BACT\n",
      "\t\t\tSOLN_IN10_111_IACT\n",
      "\t\t\tSOLN_IN10_121_BACT\n",
      "\t\t\tSOLN_IN10_121_IACT\n",
      "\t\t\tXCOR_IN10_121_BACT\n",
      "\t\t\tXCOR_IN10_221_BACT\n",
      "\t\t\tXCOR_IN10_311_BACT\n",
      "\t\t\tXCOR_IN10_381_BACT\n",
      "\t\t\tXCOR_IN10_411_BACT\n",
      "\t\t\tXCOR_IN10_491_BACT\n",
      "\t\t\tXCOR_IN10_521_BACT\n",
      "\t\t\tXCOR_IN10_641_BACT\n",
      "\t\t\tXCOR_IN10_721_BACT\n",
      "\t\t\tXCOR_IN10_761_BACT\n",
      "\t\t\tYCOR_IN10_122_BACT\n",
      "\t\t\tYCOR_IN10_222_BACT\n",
      "\t\t\tYCOR_IN10_312_BACT\n",
      "\t\t\tYCOR_IN10_382_BACT\n",
      "\t\t\tYCOR_IN10_412_BACT\n",
      "\t\t\tYCOR_IN10_492_BACT\n",
      "\t\t\tYCOR_IN10_522_BACT\n",
      "\t\t\tYCOR_IN10_642_BACT\n",
      "\t\t\tYCOR_IN10_722_BACT\n",
      "\t\t\tYCOR_IN10_762_BACT\n",
      "\t\t\tQUAD_IN10_121_BACT\n",
      "\t\t\tQUAD_IN10_122_BACT\n",
      "\t\t\tQUAD_IN10_361_BACT\n",
      "\t\t\tQUAD_IN10_371_BACT\n",
      "\t\t\tQUAD_IN10_425_BACT\n",
      "\t\t\tQUAD_IN10_441_BACT\n",
      "\t\t\tQUAD_IN10_511_BACT\n",
      "\t\t\tQUAD_IN10_525_BACT\n",
      "\t\t\tQUAD_IN10_631_BACT\n",
      "\t\t\tQUAD_IN10_651_BACT\n",
      "\t\t\tQUAD_IN10_731_BACT\n",
      "\t\t\tQUAD_IN10_771_BACT\n",
      "\t\t\tQUAD_IN10_781_BACT\n",
      "\t\t\tBTRM_IN10_661_BACT\n",
      "\t\t\tBEND_IN10_661_BACT\n",
      "\t\t\tBEND_IN10_751_BACT\n",
      "\t\tnonBSA_List_S10RF\n",
      "\t\t\tKLYS_LI10_21_PDES\n",
      "\t\t\tKLYS_LI10_21_PHAS\n",
      "\t\t\tKLYS_LI10_21_SFB_PDES\n",
      "\t\t\tKLYS_LI10_21_ADES\n",
      "\t\t\tKLYS_LI10_21_AMPL\n",
      "\t\t\tACCL_LI10_21_PHASE_W0CH6\n",
      "\t\t\tACCL_LI10_21_POWER_W0CH6\n",
      "\t\t\tKLYS_LI10_31_PDES\n",
      "\t\t\tKLYS_LI10_31_PHAS\n",
      "\t\t\tKLYS_LI10_31_SFB_PDES\n",
      "\t\t\tKLYS_LI10_31_ADES\n",
      "\t\t\tKLYS_LI10_31_AMPL\n",
      "\t\t\tACCL_LI10_31_PHASE_W0CH6\n",
      "\t\t\tACCL_LI10_31_POWER_W0CH6\n",
      "\t\t\tKLYS_LI10_41_PDES\n",
      "\t\t\tKLYS_LI10_41_PHAS\n",
      "\t\t\tKLYS_LI10_41_SFB_PDES\n",
      "\t\t\tKLYS_LI10_41_ADES\n",
      "\t\t\tKLYS_LI10_41_AMPL\n",
      "\t\t\tACCL_LI10_41_PHASE_W0CH6\n",
      "\t\t\tACCL_LI10_41_POWER_W0CH6\n",
      "\t\t\tKLYS_LI10_51_PDES\n",
      "\t\t\tKLYS_LI10_51_PHAS\n",
      "\t\t\tKLYS_LI10_51_SFB_PDES\n",
      "\t\t\tKLYS_LI10_51_ADES\n",
      "\t\t\tKLYS_LI10_51_AMPL\n",
      "\t\t\tACCL_LI10_51_PHASE_W0CH6\n",
      "\t\t\tACCL_LI10_51_POWER_W0CH6\n",
      "\t\t\tWATR_IN10_1_RFG_CHW_TMP\n",
      "\t\t\tWATR_IN10_1_RFG_HX_TMP\n",
      "\t\t\tWATR_IN10_1_RFG_SUP_TMP\n",
      "\t\tcommon_index\n",
      "\timages\n",
      "\t\tVCCF\n",
      "\t\t\tloc\n",
      "\t\t\tpid\n",
      "\t\t\tuid\n",
      "\t\t\tstep\n",
      "\t\t\tscalar_index\n",
      "\t\t\tcommon_index\n",
      "\t\tPR10571\n",
      "\t\t\tloc\n",
      "\t\t\tpid\n",
      "\t\t\tuid\n",
      "\t\t\tstep\n",
      "\t\t\tscalar_index\n",
      "\t\t\tcommon_index\n",
      "\tbackgrounds\n",
      "\t\tgetBG\n",
      "\t\tlaserBG\n",
      "\t\tnBG\n",
      "\t\tVCCF\n",
      "\t\tPR10571\n"
     ]
    }
   ],
   "source": [
    "def recursive_print_keys(d, indent=0):\n",
    "    if isinstance(d, dict):\n",
    "        for k in d.keys():\n",
    "            print(\"\\t\" * indent + k)\n",
    "            recursive_print_keys(d[k], indent + 1)\n",
    "        \n",
    "        \n",
    "recursive_print_keys(data_mat)"
   ],
   "metadata": {
    "collapsed": false,
    "ExecuteTime": {
     "end_time": "2023-11-10T17:44:27.435681900Z",
     "start_time": "2023-11-10T17:44:27.330490100Z"
    }
   },
   "id": "dd741bb193f175af"
  },
  {
   "cell_type": "code",
   "execution_count": null,
   "outputs": [],
   "source": [
    "### look at the quad scan pv and values (in this case quadrupole strengths"
   ],
   "metadata": {
    "collapsed": false
   },
   "id": "956d2f632e1f550"
  },
  {
   "cell_type": "code",
   "execution_count": 14,
   "outputs": [
    {
     "name": "stdout",
     "output_type": "stream",
     "text": [
      "QUAD:IN10:525:BCTRL\n"
     ]
    },
    {
     "data": {
      "text/plain": "array([-0.5,  0. ,  0.5,  1. ,  1.5,  2. ,  2.5,  3. ,  3.5,  4. ,  4.5,\n        5. ,  5.5,  6. ,  6.5,  7. ,  7.5])"
     },
     "execution_count": 14,
     "metadata": {},
     "output_type": "execute_result"
    }
   ],
   "source": [
    "print(data_mat[\"data_struct\"][\"params\"][\"scanPVs\"])\n",
    "data_mat[\"data_struct\"][\"params\"][\"scanVals\"]"
   ],
   "metadata": {
    "collapsed": false,
    "ExecuteTime": {
     "end_time": "2023-11-10T17:46:34.120414900Z",
     "start_time": "2023-11-10T17:46:34.046232600Z"
    }
   },
   "id": "7ab670fe544e5c56"
  },
  {
   "cell_type": "markdown",
   "source": [
    "### look at the image metadata\n",
    "Note resolution should be in um per pixel"
   ],
   "metadata": {
    "collapsed": false
   },
   "id": "2feb3fff7d5341af"
  },
  {
   "cell_type": "code",
   "execution_count": 20,
   "outputs": [
    {
     "name": "stdout",
     "output_type": "stream",
     "text": [
      "11.1732\n"
     ]
    },
    {
     "data": {
      "text/plain": "{'PV': 'PROF:IN10:571',\n 'Model_RBV': 'Manta_G-146B',\n 'DataType': 'UInt16',\n 'MaxSizeX_RBV': 1388,\n 'MaxSizeY_RBV': 1038,\n 'MinX_RBV': 186,\n 'MinY_RBV': 362,\n 'SizeX_RBV': 508,\n 'SizeY_RBV': 488,\n 'ROI_MinX_RBV': 0,\n 'ROI_SizeX_RBV': 508,\n 'ROI_MinY_RBV': 0,\n 'ROI_SizeY_RBV': 488,\n 'X_ORIENT': 'Negative',\n 'Y_ORIENT': 'Negative',\n 'RESOLUTION': 11.1732,\n 'AcquireTime_RBV': 0.0001,\n 'Gain_RBV': 0,\n 'sioc': 'SIOC:LI10:PM02',\n 'trigger': 'TRIG:LI10:PM02:0:TCTL'}"
     },
     "execution_count": 20,
     "metadata": {},
     "output_type": "execute_result"
    }
   ],
   "source": [
    "print(data_mat[\"data_struct\"][\"metadata\"][\"PR10571\"][\"RESOLUTION\"])\n",
    "data_mat[\"data_struct\"][\"metadata\"][\"PR10571\"]"
   ],
   "metadata": {
    "collapsed": false,
    "ExecuteTime": {
     "end_time": "2023-11-10T18:04:06.445769600Z",
     "start_time": "2023-11-10T18:04:06.416338800Z"
    }
   },
   "id": "ad2a2d8cff7dd4ac"
  },
  {
   "cell_type": "code",
   "execution_count": null,
   "outputs": [],
   "source": [
    "### get locations of images on control system server"
   ],
   "metadata": {
    "collapsed": false
   },
   "id": "b216e8263211c02"
  },
  {
   "cell_type": "code",
   "execution_count": 19,
   "outputs": [
    {
     "data": {
      "text/plain": "array(['/nas/nas-li20-pm00/E325/2023/20231013/E325_03935/images/PR10571/PR10571_data_step01_0000.tif',\n       '/nas/nas-li20-pm00/E325/2023/20231013/E325_03935/images/PR10571/PR10571_data_step01_0001.tif',\n       '/nas/nas-li20-pm00/E325/2023/20231013/E325_03935/images/PR10571/PR10571_data_step01_0002.tif',\n       '/nas/nas-li20-pm00/E325/2023/20231013/E325_03935/images/PR10571/PR10571_data_step01_0003.tif',\n       '/nas/nas-li20-pm00/E325/2023/20231013/E325_03935/images/PR10571/PR10571_data_step01_0004.tif',\n       '/nas/nas-li20-pm00/E325/2023/20231013/E325_03935/images/PR10571/PR10571_data_step01_0005.tif',\n       '/nas/nas-li20-pm00/E325/2023/20231013/E325_03935/images/PR10571/PR10571_data_step01_0006.tif',\n       '/nas/nas-li20-pm00/E325/2023/20231013/E325_03935/images/PR10571/PR10571_data_step01_0007.tif',\n       '/nas/nas-li20-pm00/E325/2023/20231013/E325_03935/images/PR10571/PR10571_data_step01_0008.tif',\n       '/nas/nas-li20-pm00/E325/2023/20231013/E325_03935/images/PR10571/PR10571_data_step01_0009.tif',\n       '/nas/nas-li20-pm00/E325/2023/20231013/E325_03935/images/PR10571/PR10571_data_step01_0010.tif',\n       '/nas/nas-li20-pm00/E325/2023/20231013/E325_03935/images/PR10571/PR10571_data_step01_0011.tif',\n       '/nas/nas-li20-pm00/E325/2023/20231013/E325_03935/images/PR10571/PR10571_data_step01_0012.tif',\n       '/nas/nas-li20-pm00/E325/2023/20231013/E325_03935/images/PR10571/PR10571_data_step01_0013.tif',\n       '/nas/nas-li20-pm00/E325/2023/20231013/E325_03935/images/PR10571/PR10571_data_step01_0014.tif',\n       '/nas/nas-li20-pm00/E325/2023/20231013/E325_03935/images/PR10571/PR10571_data_step01_0015.tif',\n       '/nas/nas-li20-pm00/E325/2023/20231013/E325_03935/images/PR10571/PR10571_data_step01_0016.tif',\n       '/nas/nas-li20-pm00/E325/2023/20231013/E325_03935/images/PR10571/PR10571_data_step01_0017.tif',\n       '/nas/nas-li20-pm00/E325/2023/20231013/E325_03935/images/PR10571/PR10571_data_step01_0018.tif',\n       '/nas/nas-li20-pm00/E325/2023/20231013/E325_03935/images/PR10571/PR10571_data_step01_0019.tif',\n       '/nas/nas-li20-pm00/E325/2023/20231013/E325_03935/images/PR10571/PR10571_data_step01_0020.tif',\n       '/nas/nas-li20-pm00/E325/2023/20231013/E325_03935/images/PR10571/PR10571_data_step01_0021.tif',\n       '/nas/nas-li20-pm00/E325/2023/20231013/E325_03935/images/PR10571/PR10571_data_step01_0022.tif',\n       '/nas/nas-li20-pm00/E325/2023/20231013/E325_03935/images/PR10571/PR10571_data_step01_0023.tif',\n       '/nas/nas-li20-pm00/E325/2023/20231013/E325_03935/images/PR10571/PR10571_data_step01_0024.tif',\n       '/nas/nas-li20-pm00/E325/2023/20231013/E325_03935/images/PR10571/PR10571_data_step01_0025.tif',\n       '/nas/nas-li20-pm00/E325/2023/20231013/E325_03935/images/PR10571/PR10571_data_step01_0026.tif',\n       '/nas/nas-li20-pm00/E325/2023/20231013/E325_03935/images/PR10571/PR10571_data_step01_0027.tif',\n       '/nas/nas-li20-pm00/E325/2023/20231013/E325_03935/images/PR10571/PR10571_data_step01_0028.tif',\n       '/nas/nas-li20-pm00/E325/2023/20231013/E325_03935/images/PR10571/PR10571_data_step01_0029.tif',\n       '/nas/nas-li20-pm00/E325/2023/20231013/E325_03935/images/PR10571/PR10571_data_step02_0000.tif',\n       '/nas/nas-li20-pm00/E325/2023/20231013/E325_03935/images/PR10571/PR10571_data_step02_0001.tif',\n       '/nas/nas-li20-pm00/E325/2023/20231013/E325_03935/images/PR10571/PR10571_data_step02_0002.tif',\n       '/nas/nas-li20-pm00/E325/2023/20231013/E325_03935/images/PR10571/PR10571_data_step02_0003.tif',\n       '/nas/nas-li20-pm00/E325/2023/20231013/E325_03935/images/PR10571/PR10571_data_step02_0004.tif',\n       '/nas/nas-li20-pm00/E325/2023/20231013/E325_03935/images/PR10571/PR10571_data_step02_0005.tif',\n       '/nas/nas-li20-pm00/E325/2023/20231013/E325_03935/images/PR10571/PR10571_data_step02_0006.tif',\n       '/nas/nas-li20-pm00/E325/2023/20231013/E325_03935/images/PR10571/PR10571_data_step02_0007.tif',\n       '/nas/nas-li20-pm00/E325/2023/20231013/E325_03935/images/PR10571/PR10571_data_step02_0008.tif',\n       '/nas/nas-li20-pm00/E325/2023/20231013/E325_03935/images/PR10571/PR10571_data_step02_0009.tif',\n       '/nas/nas-li20-pm00/E325/2023/20231013/E325_03935/images/PR10571/PR10571_data_step02_0010.tif',\n       '/nas/nas-li20-pm00/E325/2023/20231013/E325_03935/images/PR10571/PR10571_data_step02_0011.tif',\n       '/nas/nas-li20-pm00/E325/2023/20231013/E325_03935/images/PR10571/PR10571_data_step02_0012.tif',\n       '/nas/nas-li20-pm00/E325/2023/20231013/E325_03935/images/PR10571/PR10571_data_step02_0013.tif',\n       '/nas/nas-li20-pm00/E325/2023/20231013/E325_03935/images/PR10571/PR10571_data_step02_0014.tif',\n       '/nas/nas-li20-pm00/E325/2023/20231013/E325_03935/images/PR10571/PR10571_data_step02_0015.tif',\n       '/nas/nas-li20-pm00/E325/2023/20231013/E325_03935/images/PR10571/PR10571_data_step02_0016.tif',\n       '/nas/nas-li20-pm00/E325/2023/20231013/E325_03935/images/PR10571/PR10571_data_step02_0017.tif',\n       '/nas/nas-li20-pm00/E325/2023/20231013/E325_03935/images/PR10571/PR10571_data_step02_0018.tif',\n       '/nas/nas-li20-pm00/E325/2023/20231013/E325_03935/images/PR10571/PR10571_data_step02_0019.tif',\n       '/nas/nas-li20-pm00/E325/2023/20231013/E325_03935/images/PR10571/PR10571_data_step02_0020.tif',\n       '/nas/nas-li20-pm00/E325/2023/20231013/E325_03935/images/PR10571/PR10571_data_step02_0021.tif',\n       '/nas/nas-li20-pm00/E325/2023/20231013/E325_03935/images/PR10571/PR10571_data_step02_0022.tif',\n       '/nas/nas-li20-pm00/E325/2023/20231013/E325_03935/images/PR10571/PR10571_data_step02_0023.tif',\n       '/nas/nas-li20-pm00/E325/2023/20231013/E325_03935/images/PR10571/PR10571_data_step02_0024.tif',\n       '/nas/nas-li20-pm00/E325/2023/20231013/E325_03935/images/PR10571/PR10571_data_step02_0025.tif',\n       '/nas/nas-li20-pm00/E325/2023/20231013/E325_03935/images/PR10571/PR10571_data_step02_0026.tif',\n       '/nas/nas-li20-pm00/E325/2023/20231013/E325_03935/images/PR10571/PR10571_data_step02_0027.tif',\n       '/nas/nas-li20-pm00/E325/2023/20231013/E325_03935/images/PR10571/PR10571_data_step02_0028.tif',\n       '/nas/nas-li20-pm00/E325/2023/20231013/E325_03935/images/PR10571/PR10571_data_step02_0029.tif',\n       '/nas/nas-li20-pm00/E325/2023/20231013/E325_03935/images/PR10571/PR10571_data_step03_0000.tif',\n       '/nas/nas-li20-pm00/E325/2023/20231013/E325_03935/images/PR10571/PR10571_data_step03_0001.tif',\n       '/nas/nas-li20-pm00/E325/2023/20231013/E325_03935/images/PR10571/PR10571_data_step03_0002.tif',\n       '/nas/nas-li20-pm00/E325/2023/20231013/E325_03935/images/PR10571/PR10571_data_step03_0003.tif',\n       '/nas/nas-li20-pm00/E325/2023/20231013/E325_03935/images/PR10571/PR10571_data_step03_0004.tif',\n       '/nas/nas-li20-pm00/E325/2023/20231013/E325_03935/images/PR10571/PR10571_data_step03_0005.tif',\n       '/nas/nas-li20-pm00/E325/2023/20231013/E325_03935/images/PR10571/PR10571_data_step03_0006.tif',\n       '/nas/nas-li20-pm00/E325/2023/20231013/E325_03935/images/PR10571/PR10571_data_step03_0007.tif',\n       '/nas/nas-li20-pm00/E325/2023/20231013/E325_03935/images/PR10571/PR10571_data_step03_0008.tif',\n       '/nas/nas-li20-pm00/E325/2023/20231013/E325_03935/images/PR10571/PR10571_data_step03_0009.tif',\n       '/nas/nas-li20-pm00/E325/2023/20231013/E325_03935/images/PR10571/PR10571_data_step03_0010.tif',\n       '/nas/nas-li20-pm00/E325/2023/20231013/E325_03935/images/PR10571/PR10571_data_step03_0011.tif',\n       '/nas/nas-li20-pm00/E325/2023/20231013/E325_03935/images/PR10571/PR10571_data_step03_0012.tif',\n       '/nas/nas-li20-pm00/E325/2023/20231013/E325_03935/images/PR10571/PR10571_data_step03_0013.tif',\n       '/nas/nas-li20-pm00/E325/2023/20231013/E325_03935/images/PR10571/PR10571_data_step03_0014.tif',\n       '/nas/nas-li20-pm00/E325/2023/20231013/E325_03935/images/PR10571/PR10571_data_step03_0015.tif',\n       '/nas/nas-li20-pm00/E325/2023/20231013/E325_03935/images/PR10571/PR10571_data_step03_0016.tif',\n       '/nas/nas-li20-pm00/E325/2023/20231013/E325_03935/images/PR10571/PR10571_data_step03_0017.tif',\n       '/nas/nas-li20-pm00/E325/2023/20231013/E325_03935/images/PR10571/PR10571_data_step03_0018.tif',\n       '/nas/nas-li20-pm00/E325/2023/20231013/E325_03935/images/PR10571/PR10571_data_step03_0019.tif',\n       '/nas/nas-li20-pm00/E325/2023/20231013/E325_03935/images/PR10571/PR10571_data_step03_0020.tif',\n       '/nas/nas-li20-pm00/E325/2023/20231013/E325_03935/images/PR10571/PR10571_data_step03_0021.tif',\n       '/nas/nas-li20-pm00/E325/2023/20231013/E325_03935/images/PR10571/PR10571_data_step03_0022.tif',\n       '/nas/nas-li20-pm00/E325/2023/20231013/E325_03935/images/PR10571/PR10571_data_step03_0023.tif',\n       '/nas/nas-li20-pm00/E325/2023/20231013/E325_03935/images/PR10571/PR10571_data_step03_0024.tif',\n       '/nas/nas-li20-pm00/E325/2023/20231013/E325_03935/images/PR10571/PR10571_data_step03_0025.tif',\n       '/nas/nas-li20-pm00/E325/2023/20231013/E325_03935/images/PR10571/PR10571_data_step03_0026.tif',\n       '/nas/nas-li20-pm00/E325/2023/20231013/E325_03935/images/PR10571/PR10571_data_step03_0027.tif',\n       '/nas/nas-li20-pm00/E325/2023/20231013/E325_03935/images/PR10571/PR10571_data_step03_0028.tif',\n       '/nas/nas-li20-pm00/E325/2023/20231013/E325_03935/images/PR10571/PR10571_data_step03_0029.tif',\n       '/nas/nas-li20-pm00/E325/2023/20231013/E325_03935/images/PR10571/PR10571_data_step04_0000.tif',\n       '/nas/nas-li20-pm00/E325/2023/20231013/E325_03935/images/PR10571/PR10571_data_step04_0001.tif',\n       '/nas/nas-li20-pm00/E325/2023/20231013/E325_03935/images/PR10571/PR10571_data_step04_0002.tif',\n       '/nas/nas-li20-pm00/E325/2023/20231013/E325_03935/images/PR10571/PR10571_data_step04_0003.tif',\n       '/nas/nas-li20-pm00/E325/2023/20231013/E325_03935/images/PR10571/PR10571_data_step04_0004.tif',\n       '/nas/nas-li20-pm00/E325/2023/20231013/E325_03935/images/PR10571/PR10571_data_step04_0005.tif',\n       '/nas/nas-li20-pm00/E325/2023/20231013/E325_03935/images/PR10571/PR10571_data_step04_0006.tif',\n       '/nas/nas-li20-pm00/E325/2023/20231013/E325_03935/images/PR10571/PR10571_data_step04_0007.tif',\n       '/nas/nas-li20-pm00/E325/2023/20231013/E325_03935/images/PR10571/PR10571_data_step04_0008.tif',\n       '/nas/nas-li20-pm00/E325/2023/20231013/E325_03935/images/PR10571/PR10571_data_step04_0009.tif',\n       '/nas/nas-li20-pm00/E325/2023/20231013/E325_03935/images/PR10571/PR10571_data_step04_0010.tif',\n       '/nas/nas-li20-pm00/E325/2023/20231013/E325_03935/images/PR10571/PR10571_data_step04_0011.tif',\n       '/nas/nas-li20-pm00/E325/2023/20231013/E325_03935/images/PR10571/PR10571_data_step04_0012.tif',\n       '/nas/nas-li20-pm00/E325/2023/20231013/E325_03935/images/PR10571/PR10571_data_step04_0013.tif',\n       '/nas/nas-li20-pm00/E325/2023/20231013/E325_03935/images/PR10571/PR10571_data_step04_0014.tif',\n       '/nas/nas-li20-pm00/E325/2023/20231013/E325_03935/images/PR10571/PR10571_data_step04_0015.tif',\n       '/nas/nas-li20-pm00/E325/2023/20231013/E325_03935/images/PR10571/PR10571_data_step04_0016.tif',\n       '/nas/nas-li20-pm00/E325/2023/20231013/E325_03935/images/PR10571/PR10571_data_step04_0017.tif',\n       '/nas/nas-li20-pm00/E325/2023/20231013/E325_03935/images/PR10571/PR10571_data_step04_0018.tif',\n       '/nas/nas-li20-pm00/E325/2023/20231013/E325_03935/images/PR10571/PR10571_data_step04_0019.tif',\n       '/nas/nas-li20-pm00/E325/2023/20231013/E325_03935/images/PR10571/PR10571_data_step04_0020.tif',\n       '/nas/nas-li20-pm00/E325/2023/20231013/E325_03935/images/PR10571/PR10571_data_step04_0021.tif',\n       '/nas/nas-li20-pm00/E325/2023/20231013/E325_03935/images/PR10571/PR10571_data_step04_0022.tif',\n       '/nas/nas-li20-pm00/E325/2023/20231013/E325_03935/images/PR10571/PR10571_data_step04_0023.tif',\n       '/nas/nas-li20-pm00/E325/2023/20231013/E325_03935/images/PR10571/PR10571_data_step04_0024.tif',\n       '/nas/nas-li20-pm00/E325/2023/20231013/E325_03935/images/PR10571/PR10571_data_step04_0025.tif',\n       '/nas/nas-li20-pm00/E325/2023/20231013/E325_03935/images/PR10571/PR10571_data_step04_0026.tif',\n       '/nas/nas-li20-pm00/E325/2023/20231013/E325_03935/images/PR10571/PR10571_data_step04_0027.tif',\n       '/nas/nas-li20-pm00/E325/2023/20231013/E325_03935/images/PR10571/PR10571_data_step04_0028.tif',\n       '/nas/nas-li20-pm00/E325/2023/20231013/E325_03935/images/PR10571/PR10571_data_step04_0029.tif',\n       '/nas/nas-li20-pm00/E325/2023/20231013/E325_03935/images/PR10571/PR10571_data_step05_0000.tif',\n       '/nas/nas-li20-pm00/E325/2023/20231013/E325_03935/images/PR10571/PR10571_data_step05_0001.tif',\n       '/nas/nas-li20-pm00/E325/2023/20231013/E325_03935/images/PR10571/PR10571_data_step05_0002.tif',\n       '/nas/nas-li20-pm00/E325/2023/20231013/E325_03935/images/PR10571/PR10571_data_step05_0003.tif',\n       '/nas/nas-li20-pm00/E325/2023/20231013/E325_03935/images/PR10571/PR10571_data_step05_0004.tif',\n       '/nas/nas-li20-pm00/E325/2023/20231013/E325_03935/images/PR10571/PR10571_data_step05_0005.tif',\n       '/nas/nas-li20-pm00/E325/2023/20231013/E325_03935/images/PR10571/PR10571_data_step05_0006.tif',\n       '/nas/nas-li20-pm00/E325/2023/20231013/E325_03935/images/PR10571/PR10571_data_step05_0007.tif',\n       '/nas/nas-li20-pm00/E325/2023/20231013/E325_03935/images/PR10571/PR10571_data_step05_0008.tif',\n       '/nas/nas-li20-pm00/E325/2023/20231013/E325_03935/images/PR10571/PR10571_data_step05_0009.tif',\n       '/nas/nas-li20-pm00/E325/2023/20231013/E325_03935/images/PR10571/PR10571_data_step05_0010.tif',\n       '/nas/nas-li20-pm00/E325/2023/20231013/E325_03935/images/PR10571/PR10571_data_step05_0011.tif',\n       '/nas/nas-li20-pm00/E325/2023/20231013/E325_03935/images/PR10571/PR10571_data_step05_0012.tif',\n       '/nas/nas-li20-pm00/E325/2023/20231013/E325_03935/images/PR10571/PR10571_data_step05_0013.tif',\n       '/nas/nas-li20-pm00/E325/2023/20231013/E325_03935/images/PR10571/PR10571_data_step05_0014.tif',\n       '/nas/nas-li20-pm00/E325/2023/20231013/E325_03935/images/PR10571/PR10571_data_step05_0015.tif',\n       '/nas/nas-li20-pm00/E325/2023/20231013/E325_03935/images/PR10571/PR10571_data_step05_0016.tif',\n       '/nas/nas-li20-pm00/E325/2023/20231013/E325_03935/images/PR10571/PR10571_data_step05_0017.tif',\n       '/nas/nas-li20-pm00/E325/2023/20231013/E325_03935/images/PR10571/PR10571_data_step05_0018.tif',\n       '/nas/nas-li20-pm00/E325/2023/20231013/E325_03935/images/PR10571/PR10571_data_step05_0019.tif',\n       '/nas/nas-li20-pm00/E325/2023/20231013/E325_03935/images/PR10571/PR10571_data_step05_0020.tif',\n       '/nas/nas-li20-pm00/E325/2023/20231013/E325_03935/images/PR10571/PR10571_data_step05_0021.tif',\n       '/nas/nas-li20-pm00/E325/2023/20231013/E325_03935/images/PR10571/PR10571_data_step05_0022.tif',\n       '/nas/nas-li20-pm00/E325/2023/20231013/E325_03935/images/PR10571/PR10571_data_step05_0023.tif',\n       '/nas/nas-li20-pm00/E325/2023/20231013/E325_03935/images/PR10571/PR10571_data_step05_0024.tif',\n       '/nas/nas-li20-pm00/E325/2023/20231013/E325_03935/images/PR10571/PR10571_data_step05_0025.tif',\n       '/nas/nas-li20-pm00/E325/2023/20231013/E325_03935/images/PR10571/PR10571_data_step05_0026.tif',\n       '/nas/nas-li20-pm00/E325/2023/20231013/E325_03935/images/PR10571/PR10571_data_step05_0027.tif',\n       '/nas/nas-li20-pm00/E325/2023/20231013/E325_03935/images/PR10571/PR10571_data_step05_0028.tif',\n       '/nas/nas-li20-pm00/E325/2023/20231013/E325_03935/images/PR10571/PR10571_data_step05_0029.tif',\n       '/nas/nas-li20-pm00/E325/2023/20231013/E325_03935/images/PR10571/PR10571_data_step06_0000.tif',\n       '/nas/nas-li20-pm00/E325/2023/20231013/E325_03935/images/PR10571/PR10571_data_step06_0001.tif',\n       '/nas/nas-li20-pm00/E325/2023/20231013/E325_03935/images/PR10571/PR10571_data_step06_0002.tif',\n       '/nas/nas-li20-pm00/E325/2023/20231013/E325_03935/images/PR10571/PR10571_data_step06_0003.tif',\n       '/nas/nas-li20-pm00/E325/2023/20231013/E325_03935/images/PR10571/PR10571_data_step06_0004.tif',\n       '/nas/nas-li20-pm00/E325/2023/20231013/E325_03935/images/PR10571/PR10571_data_step06_0005.tif',\n       '/nas/nas-li20-pm00/E325/2023/20231013/E325_03935/images/PR10571/PR10571_data_step06_0006.tif',\n       '/nas/nas-li20-pm00/E325/2023/20231013/E325_03935/images/PR10571/PR10571_data_step06_0007.tif',\n       '/nas/nas-li20-pm00/E325/2023/20231013/E325_03935/images/PR10571/PR10571_data_step06_0008.tif',\n       '/nas/nas-li20-pm00/E325/2023/20231013/E325_03935/images/PR10571/PR10571_data_step06_0009.tif',\n       '/nas/nas-li20-pm00/E325/2023/20231013/E325_03935/images/PR10571/PR10571_data_step06_0010.tif',\n       '/nas/nas-li20-pm00/E325/2023/20231013/E325_03935/images/PR10571/PR10571_data_step06_0011.tif',\n       '/nas/nas-li20-pm00/E325/2023/20231013/E325_03935/images/PR10571/PR10571_data_step06_0012.tif',\n       '/nas/nas-li20-pm00/E325/2023/20231013/E325_03935/images/PR10571/PR10571_data_step06_0013.tif',\n       '/nas/nas-li20-pm00/E325/2023/20231013/E325_03935/images/PR10571/PR10571_data_step06_0014.tif',\n       '/nas/nas-li20-pm00/E325/2023/20231013/E325_03935/images/PR10571/PR10571_data_step06_0015.tif',\n       '/nas/nas-li20-pm00/E325/2023/20231013/E325_03935/images/PR10571/PR10571_data_step06_0016.tif',\n       '/nas/nas-li20-pm00/E325/2023/20231013/E325_03935/images/PR10571/PR10571_data_step06_0017.tif',\n       '/nas/nas-li20-pm00/E325/2023/20231013/E325_03935/images/PR10571/PR10571_data_step06_0018.tif',\n       '/nas/nas-li20-pm00/E325/2023/20231013/E325_03935/images/PR10571/PR10571_data_step06_0019.tif',\n       '/nas/nas-li20-pm00/E325/2023/20231013/E325_03935/images/PR10571/PR10571_data_step06_0020.tif',\n       '/nas/nas-li20-pm00/E325/2023/20231013/E325_03935/images/PR10571/PR10571_data_step06_0021.tif',\n       '/nas/nas-li20-pm00/E325/2023/20231013/E325_03935/images/PR10571/PR10571_data_step06_0022.tif',\n       '/nas/nas-li20-pm00/E325/2023/20231013/E325_03935/images/PR10571/PR10571_data_step06_0023.tif',\n       '/nas/nas-li20-pm00/E325/2023/20231013/E325_03935/images/PR10571/PR10571_data_step06_0024.tif',\n       '/nas/nas-li20-pm00/E325/2023/20231013/E325_03935/images/PR10571/PR10571_data_step06_0025.tif',\n       '/nas/nas-li20-pm00/E325/2023/20231013/E325_03935/images/PR10571/PR10571_data_step06_0026.tif',\n       '/nas/nas-li20-pm00/E325/2023/20231013/E325_03935/images/PR10571/PR10571_data_step06_0027.tif',\n       '/nas/nas-li20-pm00/E325/2023/20231013/E325_03935/images/PR10571/PR10571_data_step06_0028.tif',\n       '/nas/nas-li20-pm00/E325/2023/20231013/E325_03935/images/PR10571/PR10571_data_step06_0029.tif',\n       '/nas/nas-li20-pm00/E325/2023/20231013/E325_03935/images/PR10571/PR10571_data_step07_0000.tif',\n       '/nas/nas-li20-pm00/E325/2023/20231013/E325_03935/images/PR10571/PR10571_data_step07_0001.tif',\n       '/nas/nas-li20-pm00/E325/2023/20231013/E325_03935/images/PR10571/PR10571_data_step07_0002.tif',\n       '/nas/nas-li20-pm00/E325/2023/20231013/E325_03935/images/PR10571/PR10571_data_step07_0003.tif',\n       '/nas/nas-li20-pm00/E325/2023/20231013/E325_03935/images/PR10571/PR10571_data_step07_0004.tif',\n       '/nas/nas-li20-pm00/E325/2023/20231013/E325_03935/images/PR10571/PR10571_data_step07_0005.tif',\n       '/nas/nas-li20-pm00/E325/2023/20231013/E325_03935/images/PR10571/PR10571_data_step07_0006.tif',\n       '/nas/nas-li20-pm00/E325/2023/20231013/E325_03935/images/PR10571/PR10571_data_step07_0007.tif',\n       '/nas/nas-li20-pm00/E325/2023/20231013/E325_03935/images/PR10571/PR10571_data_step07_0008.tif',\n       '/nas/nas-li20-pm00/E325/2023/20231013/E325_03935/images/PR10571/PR10571_data_step07_0009.tif',\n       '/nas/nas-li20-pm00/E325/2023/20231013/E325_03935/images/PR10571/PR10571_data_step07_0010.tif',\n       '/nas/nas-li20-pm00/E325/2023/20231013/E325_03935/images/PR10571/PR10571_data_step07_0011.tif',\n       '/nas/nas-li20-pm00/E325/2023/20231013/E325_03935/images/PR10571/PR10571_data_step07_0012.tif',\n       '/nas/nas-li20-pm00/E325/2023/20231013/E325_03935/images/PR10571/PR10571_data_step07_0013.tif',\n       '/nas/nas-li20-pm00/E325/2023/20231013/E325_03935/images/PR10571/PR10571_data_step07_0014.tif',\n       '/nas/nas-li20-pm00/E325/2023/20231013/E325_03935/images/PR10571/PR10571_data_step07_0015.tif',\n       '/nas/nas-li20-pm00/E325/2023/20231013/E325_03935/images/PR10571/PR10571_data_step07_0016.tif',\n       '/nas/nas-li20-pm00/E325/2023/20231013/E325_03935/images/PR10571/PR10571_data_step07_0017.tif',\n       '/nas/nas-li20-pm00/E325/2023/20231013/E325_03935/images/PR10571/PR10571_data_step07_0018.tif',\n       '/nas/nas-li20-pm00/E325/2023/20231013/E325_03935/images/PR10571/PR10571_data_step07_0019.tif',\n       '/nas/nas-li20-pm00/E325/2023/20231013/E325_03935/images/PR10571/PR10571_data_step07_0020.tif',\n       '/nas/nas-li20-pm00/E325/2023/20231013/E325_03935/images/PR10571/PR10571_data_step07_0021.tif',\n       '/nas/nas-li20-pm00/E325/2023/20231013/E325_03935/images/PR10571/PR10571_data_step07_0022.tif',\n       '/nas/nas-li20-pm00/E325/2023/20231013/E325_03935/images/PR10571/PR10571_data_step07_0023.tif',\n       '/nas/nas-li20-pm00/E325/2023/20231013/E325_03935/images/PR10571/PR10571_data_step07_0024.tif',\n       '/nas/nas-li20-pm00/E325/2023/20231013/E325_03935/images/PR10571/PR10571_data_step07_0025.tif',\n       '/nas/nas-li20-pm00/E325/2023/20231013/E325_03935/images/PR10571/PR10571_data_step07_0026.tif',\n       '/nas/nas-li20-pm00/E325/2023/20231013/E325_03935/images/PR10571/PR10571_data_step07_0027.tif',\n       '/nas/nas-li20-pm00/E325/2023/20231013/E325_03935/images/PR10571/PR10571_data_step07_0028.tif',\n       '/nas/nas-li20-pm00/E325/2023/20231013/E325_03935/images/PR10571/PR10571_data_step07_0029.tif',\n       '/nas/nas-li20-pm00/E325/2023/20231013/E325_03935/images/PR10571/PR10571_data_step08_0000.tif',\n       '/nas/nas-li20-pm00/E325/2023/20231013/E325_03935/images/PR10571/PR10571_data_step08_0001.tif',\n       '/nas/nas-li20-pm00/E325/2023/20231013/E325_03935/images/PR10571/PR10571_data_step08_0002.tif',\n       '/nas/nas-li20-pm00/E325/2023/20231013/E325_03935/images/PR10571/PR10571_data_step08_0003.tif',\n       '/nas/nas-li20-pm00/E325/2023/20231013/E325_03935/images/PR10571/PR10571_data_step08_0004.tif',\n       '/nas/nas-li20-pm00/E325/2023/20231013/E325_03935/images/PR10571/PR10571_data_step08_0005.tif',\n       '/nas/nas-li20-pm00/E325/2023/20231013/E325_03935/images/PR10571/PR10571_data_step08_0006.tif',\n       '/nas/nas-li20-pm00/E325/2023/20231013/E325_03935/images/PR10571/PR10571_data_step08_0007.tif',\n       '/nas/nas-li20-pm00/E325/2023/20231013/E325_03935/images/PR10571/PR10571_data_step08_0008.tif',\n       '/nas/nas-li20-pm00/E325/2023/20231013/E325_03935/images/PR10571/PR10571_data_step08_0009.tif',\n       '/nas/nas-li20-pm00/E325/2023/20231013/E325_03935/images/PR10571/PR10571_data_step08_0010.tif',\n       '/nas/nas-li20-pm00/E325/2023/20231013/E325_03935/images/PR10571/PR10571_data_step08_0011.tif',\n       '/nas/nas-li20-pm00/E325/2023/20231013/E325_03935/images/PR10571/PR10571_data_step08_0012.tif',\n       '/nas/nas-li20-pm00/E325/2023/20231013/E325_03935/images/PR10571/PR10571_data_step08_0013.tif',\n       '/nas/nas-li20-pm00/E325/2023/20231013/E325_03935/images/PR10571/PR10571_data_step08_0014.tif',\n       '/nas/nas-li20-pm00/E325/2023/20231013/E325_03935/images/PR10571/PR10571_data_step08_0015.tif',\n       '/nas/nas-li20-pm00/E325/2023/20231013/E325_03935/images/PR10571/PR10571_data_step08_0016.tif',\n       '/nas/nas-li20-pm00/E325/2023/20231013/E325_03935/images/PR10571/PR10571_data_step08_0017.tif',\n       '/nas/nas-li20-pm00/E325/2023/20231013/E325_03935/images/PR10571/PR10571_data_step08_0018.tif',\n       '/nas/nas-li20-pm00/E325/2023/20231013/E325_03935/images/PR10571/PR10571_data_step08_0019.tif',\n       '/nas/nas-li20-pm00/E325/2023/20231013/E325_03935/images/PR10571/PR10571_data_step08_0020.tif',\n       '/nas/nas-li20-pm00/E325/2023/20231013/E325_03935/images/PR10571/PR10571_data_step08_0021.tif',\n       '/nas/nas-li20-pm00/E325/2023/20231013/E325_03935/images/PR10571/PR10571_data_step08_0022.tif',\n       '/nas/nas-li20-pm00/E325/2023/20231013/E325_03935/images/PR10571/PR10571_data_step08_0023.tif',\n       '/nas/nas-li20-pm00/E325/2023/20231013/E325_03935/images/PR10571/PR10571_data_step08_0024.tif',\n       '/nas/nas-li20-pm00/E325/2023/20231013/E325_03935/images/PR10571/PR10571_data_step08_0025.tif',\n       '/nas/nas-li20-pm00/E325/2023/20231013/E325_03935/images/PR10571/PR10571_data_step08_0026.tif',\n       '/nas/nas-li20-pm00/E325/2023/20231013/E325_03935/images/PR10571/PR10571_data_step08_0027.tif',\n       '/nas/nas-li20-pm00/E325/2023/20231013/E325_03935/images/PR10571/PR10571_data_step08_0028.tif',\n       '/nas/nas-li20-pm00/E325/2023/20231013/E325_03935/images/PR10571/PR10571_data_step08_0029.tif',\n       '/nas/nas-li20-pm00/E325/2023/20231013/E325_03935/images/PR10571/PR10571_data_step09_0000.tif',\n       '/nas/nas-li20-pm00/E325/2023/20231013/E325_03935/images/PR10571/PR10571_data_step09_0001.tif',\n       '/nas/nas-li20-pm00/E325/2023/20231013/E325_03935/images/PR10571/PR10571_data_step09_0002.tif',\n       '/nas/nas-li20-pm00/E325/2023/20231013/E325_03935/images/PR10571/PR10571_data_step09_0003.tif',\n       '/nas/nas-li20-pm00/E325/2023/20231013/E325_03935/images/PR10571/PR10571_data_step09_0004.tif',\n       '/nas/nas-li20-pm00/E325/2023/20231013/E325_03935/images/PR10571/PR10571_data_step09_0005.tif',\n       '/nas/nas-li20-pm00/E325/2023/20231013/E325_03935/images/PR10571/PR10571_data_step09_0006.tif',\n       '/nas/nas-li20-pm00/E325/2023/20231013/E325_03935/images/PR10571/PR10571_data_step09_0007.tif',\n       '/nas/nas-li20-pm00/E325/2023/20231013/E325_03935/images/PR10571/PR10571_data_step09_0008.tif',\n       '/nas/nas-li20-pm00/E325/2023/20231013/E325_03935/images/PR10571/PR10571_data_step09_0009.tif',\n       '/nas/nas-li20-pm00/E325/2023/20231013/E325_03935/images/PR10571/PR10571_data_step09_0010.tif',\n       '/nas/nas-li20-pm00/E325/2023/20231013/E325_03935/images/PR10571/PR10571_data_step09_0011.tif',\n       '/nas/nas-li20-pm00/E325/2023/20231013/E325_03935/images/PR10571/PR10571_data_step09_0012.tif',\n       '/nas/nas-li20-pm00/E325/2023/20231013/E325_03935/images/PR10571/PR10571_data_step09_0013.tif',\n       '/nas/nas-li20-pm00/E325/2023/20231013/E325_03935/images/PR10571/PR10571_data_step09_0014.tif',\n       '/nas/nas-li20-pm00/E325/2023/20231013/E325_03935/images/PR10571/PR10571_data_step09_0015.tif',\n       '/nas/nas-li20-pm00/E325/2023/20231013/E325_03935/images/PR10571/PR10571_data_step09_0016.tif',\n       '/nas/nas-li20-pm00/E325/2023/20231013/E325_03935/images/PR10571/PR10571_data_step09_0017.tif',\n       '/nas/nas-li20-pm00/E325/2023/20231013/E325_03935/images/PR10571/PR10571_data_step09_0018.tif',\n       '/nas/nas-li20-pm00/E325/2023/20231013/E325_03935/images/PR10571/PR10571_data_step09_0019.tif',\n       '/nas/nas-li20-pm00/E325/2023/20231013/E325_03935/images/PR10571/PR10571_data_step09_0020.tif',\n       '/nas/nas-li20-pm00/E325/2023/20231013/E325_03935/images/PR10571/PR10571_data_step09_0021.tif',\n       '/nas/nas-li20-pm00/E325/2023/20231013/E325_03935/images/PR10571/PR10571_data_step09_0022.tif',\n       '/nas/nas-li20-pm00/E325/2023/20231013/E325_03935/images/PR10571/PR10571_data_step09_0023.tif',\n       '/nas/nas-li20-pm00/E325/2023/20231013/E325_03935/images/PR10571/PR10571_data_step09_0024.tif',\n       '/nas/nas-li20-pm00/E325/2023/20231013/E325_03935/images/PR10571/PR10571_data_step09_0025.tif',\n       '/nas/nas-li20-pm00/E325/2023/20231013/E325_03935/images/PR10571/PR10571_data_step09_0026.tif',\n       '/nas/nas-li20-pm00/E325/2023/20231013/E325_03935/images/PR10571/PR10571_data_step09_0027.tif',\n       '/nas/nas-li20-pm00/E325/2023/20231013/E325_03935/images/PR10571/PR10571_data_step09_0028.tif',\n       '/nas/nas-li20-pm00/E325/2023/20231013/E325_03935/images/PR10571/PR10571_data_step09_0029.tif',\n       '/nas/nas-li20-pm00/E325/2023/20231013/E325_03935/images/PR10571/PR10571_data_step10_0000.tif',\n       '/nas/nas-li20-pm00/E325/2023/20231013/E325_03935/images/PR10571/PR10571_data_step10_0001.tif',\n       '/nas/nas-li20-pm00/E325/2023/20231013/E325_03935/images/PR10571/PR10571_data_step10_0002.tif',\n       '/nas/nas-li20-pm00/E325/2023/20231013/E325_03935/images/PR10571/PR10571_data_step10_0003.tif',\n       '/nas/nas-li20-pm00/E325/2023/20231013/E325_03935/images/PR10571/PR10571_data_step10_0004.tif',\n       '/nas/nas-li20-pm00/E325/2023/20231013/E325_03935/images/PR10571/PR10571_data_step10_0005.tif',\n       '/nas/nas-li20-pm00/E325/2023/20231013/E325_03935/images/PR10571/PR10571_data_step10_0006.tif',\n       '/nas/nas-li20-pm00/E325/2023/20231013/E325_03935/images/PR10571/PR10571_data_step10_0007.tif',\n       '/nas/nas-li20-pm00/E325/2023/20231013/E325_03935/images/PR10571/PR10571_data_step10_0008.tif',\n       '/nas/nas-li20-pm00/E325/2023/20231013/E325_03935/images/PR10571/PR10571_data_step10_0009.tif',\n       '/nas/nas-li20-pm00/E325/2023/20231013/E325_03935/images/PR10571/PR10571_data_step10_0010.tif',\n       '/nas/nas-li20-pm00/E325/2023/20231013/E325_03935/images/PR10571/PR10571_data_step10_0011.tif',\n       '/nas/nas-li20-pm00/E325/2023/20231013/E325_03935/images/PR10571/PR10571_data_step10_0012.tif',\n       '/nas/nas-li20-pm00/E325/2023/20231013/E325_03935/images/PR10571/PR10571_data_step10_0013.tif',\n       '/nas/nas-li20-pm00/E325/2023/20231013/E325_03935/images/PR10571/PR10571_data_step10_0014.tif',\n       '/nas/nas-li20-pm00/E325/2023/20231013/E325_03935/images/PR10571/PR10571_data_step10_0015.tif',\n       '/nas/nas-li20-pm00/E325/2023/20231013/E325_03935/images/PR10571/PR10571_data_step10_0016.tif',\n       '/nas/nas-li20-pm00/E325/2023/20231013/E325_03935/images/PR10571/PR10571_data_step10_0017.tif',\n       '/nas/nas-li20-pm00/E325/2023/20231013/E325_03935/images/PR10571/PR10571_data_step10_0018.tif',\n       '/nas/nas-li20-pm00/E325/2023/20231013/E325_03935/images/PR10571/PR10571_data_step10_0019.tif',\n       '/nas/nas-li20-pm00/E325/2023/20231013/E325_03935/images/PR10571/PR10571_data_step10_0020.tif',\n       '/nas/nas-li20-pm00/E325/2023/20231013/E325_03935/images/PR10571/PR10571_data_step10_0021.tif',\n       '/nas/nas-li20-pm00/E325/2023/20231013/E325_03935/images/PR10571/PR10571_data_step10_0022.tif',\n       '/nas/nas-li20-pm00/E325/2023/20231013/E325_03935/images/PR10571/PR10571_data_step10_0023.tif',\n       '/nas/nas-li20-pm00/E325/2023/20231013/E325_03935/images/PR10571/PR10571_data_step10_0024.tif',\n       '/nas/nas-li20-pm00/E325/2023/20231013/E325_03935/images/PR10571/PR10571_data_step10_0025.tif',\n       '/nas/nas-li20-pm00/E325/2023/20231013/E325_03935/images/PR10571/PR10571_data_step10_0026.tif',\n       '/nas/nas-li20-pm00/E325/2023/20231013/E325_03935/images/PR10571/PR10571_data_step10_0027.tif',\n       '/nas/nas-li20-pm00/E325/2023/20231013/E325_03935/images/PR10571/PR10571_data_step10_0028.tif',\n       '/nas/nas-li20-pm00/E325/2023/20231013/E325_03935/images/PR10571/PR10571_data_step10_0029.tif',\n       '/nas/nas-li20-pm00/E325/2023/20231013/E325_03935/images/PR10571/PR10571_data_step11_0000.tif',\n       '/nas/nas-li20-pm00/E325/2023/20231013/E325_03935/images/PR10571/PR10571_data_step11_0001.tif',\n       '/nas/nas-li20-pm00/E325/2023/20231013/E325_03935/images/PR10571/PR10571_data_step11_0002.tif',\n       '/nas/nas-li20-pm00/E325/2023/20231013/E325_03935/images/PR10571/PR10571_data_step11_0003.tif',\n       '/nas/nas-li20-pm00/E325/2023/20231013/E325_03935/images/PR10571/PR10571_data_step11_0004.tif',\n       '/nas/nas-li20-pm00/E325/2023/20231013/E325_03935/images/PR10571/PR10571_data_step11_0005.tif',\n       '/nas/nas-li20-pm00/E325/2023/20231013/E325_03935/images/PR10571/PR10571_data_step11_0006.tif',\n       '/nas/nas-li20-pm00/E325/2023/20231013/E325_03935/images/PR10571/PR10571_data_step11_0007.tif',\n       '/nas/nas-li20-pm00/E325/2023/20231013/E325_03935/images/PR10571/PR10571_data_step11_0008.tif',\n       '/nas/nas-li20-pm00/E325/2023/20231013/E325_03935/images/PR10571/PR10571_data_step11_0009.tif',\n       '/nas/nas-li20-pm00/E325/2023/20231013/E325_03935/images/PR10571/PR10571_data_step11_0010.tif',\n       '/nas/nas-li20-pm00/E325/2023/20231013/E325_03935/images/PR10571/PR10571_data_step11_0011.tif',\n       '/nas/nas-li20-pm00/E325/2023/20231013/E325_03935/images/PR10571/PR10571_data_step11_0012.tif',\n       '/nas/nas-li20-pm00/E325/2023/20231013/E325_03935/images/PR10571/PR10571_data_step11_0013.tif',\n       '/nas/nas-li20-pm00/E325/2023/20231013/E325_03935/images/PR10571/PR10571_data_step11_0014.tif',\n       '/nas/nas-li20-pm00/E325/2023/20231013/E325_03935/images/PR10571/PR10571_data_step11_0015.tif',\n       '/nas/nas-li20-pm00/E325/2023/20231013/E325_03935/images/PR10571/PR10571_data_step11_0016.tif',\n       '/nas/nas-li20-pm00/E325/2023/20231013/E325_03935/images/PR10571/PR10571_data_step11_0017.tif',\n       '/nas/nas-li20-pm00/E325/2023/20231013/E325_03935/images/PR10571/PR10571_data_step11_0018.tif',\n       '/nas/nas-li20-pm00/E325/2023/20231013/E325_03935/images/PR10571/PR10571_data_step11_0019.tif',\n       '/nas/nas-li20-pm00/E325/2023/20231013/E325_03935/images/PR10571/PR10571_data_step11_0020.tif',\n       '/nas/nas-li20-pm00/E325/2023/20231013/E325_03935/images/PR10571/PR10571_data_step11_0021.tif',\n       '/nas/nas-li20-pm00/E325/2023/20231013/E325_03935/images/PR10571/PR10571_data_step11_0022.tif',\n       '/nas/nas-li20-pm00/E325/2023/20231013/E325_03935/images/PR10571/PR10571_data_step11_0023.tif',\n       '/nas/nas-li20-pm00/E325/2023/20231013/E325_03935/images/PR10571/PR10571_data_step11_0024.tif',\n       '/nas/nas-li20-pm00/E325/2023/20231013/E325_03935/images/PR10571/PR10571_data_step11_0025.tif',\n       '/nas/nas-li20-pm00/E325/2023/20231013/E325_03935/images/PR10571/PR10571_data_step11_0026.tif',\n       '/nas/nas-li20-pm00/E325/2023/20231013/E325_03935/images/PR10571/PR10571_data_step11_0027.tif',\n       '/nas/nas-li20-pm00/E325/2023/20231013/E325_03935/images/PR10571/PR10571_data_step11_0028.tif',\n       '/nas/nas-li20-pm00/E325/2023/20231013/E325_03935/images/PR10571/PR10571_data_step11_0029.tif',\n       '/nas/nas-li20-pm00/E325/2023/20231013/E325_03935/images/PR10571/PR10571_data_step12_0000.tif',\n       '/nas/nas-li20-pm00/E325/2023/20231013/E325_03935/images/PR10571/PR10571_data_step12_0001.tif',\n       '/nas/nas-li20-pm00/E325/2023/20231013/E325_03935/images/PR10571/PR10571_data_step12_0002.tif',\n       '/nas/nas-li20-pm00/E325/2023/20231013/E325_03935/images/PR10571/PR10571_data_step12_0003.tif',\n       '/nas/nas-li20-pm00/E325/2023/20231013/E325_03935/images/PR10571/PR10571_data_step12_0004.tif',\n       '/nas/nas-li20-pm00/E325/2023/20231013/E325_03935/images/PR10571/PR10571_data_step12_0005.tif',\n       '/nas/nas-li20-pm00/E325/2023/20231013/E325_03935/images/PR10571/PR10571_data_step12_0006.tif',\n       '/nas/nas-li20-pm00/E325/2023/20231013/E325_03935/images/PR10571/PR10571_data_step12_0007.tif',\n       '/nas/nas-li20-pm00/E325/2023/20231013/E325_03935/images/PR10571/PR10571_data_step12_0008.tif',\n       '/nas/nas-li20-pm00/E325/2023/20231013/E325_03935/images/PR10571/PR10571_data_step12_0009.tif',\n       '/nas/nas-li20-pm00/E325/2023/20231013/E325_03935/images/PR10571/PR10571_data_step12_0010.tif',\n       '/nas/nas-li20-pm00/E325/2023/20231013/E325_03935/images/PR10571/PR10571_data_step12_0011.tif',\n       '/nas/nas-li20-pm00/E325/2023/20231013/E325_03935/images/PR10571/PR10571_data_step12_0012.tif',\n       '/nas/nas-li20-pm00/E325/2023/20231013/E325_03935/images/PR10571/PR10571_data_step12_0013.tif',\n       '/nas/nas-li20-pm00/E325/2023/20231013/E325_03935/images/PR10571/PR10571_data_step12_0014.tif',\n       '/nas/nas-li20-pm00/E325/2023/20231013/E325_03935/images/PR10571/PR10571_data_step12_0015.tif',\n       '/nas/nas-li20-pm00/E325/2023/20231013/E325_03935/images/PR10571/PR10571_data_step12_0016.tif',\n       '/nas/nas-li20-pm00/E325/2023/20231013/E325_03935/images/PR10571/PR10571_data_step12_0017.tif',\n       '/nas/nas-li20-pm00/E325/2023/20231013/E325_03935/images/PR10571/PR10571_data_step12_0018.tif',\n       '/nas/nas-li20-pm00/E325/2023/20231013/E325_03935/images/PR10571/PR10571_data_step12_0019.tif',\n       '/nas/nas-li20-pm00/E325/2023/20231013/E325_03935/images/PR10571/PR10571_data_step12_0020.tif',\n       '/nas/nas-li20-pm00/E325/2023/20231013/E325_03935/images/PR10571/PR10571_data_step12_0021.tif',\n       '/nas/nas-li20-pm00/E325/2023/20231013/E325_03935/images/PR10571/PR10571_data_step12_0022.tif',\n       '/nas/nas-li20-pm00/E325/2023/20231013/E325_03935/images/PR10571/PR10571_data_step12_0023.tif',\n       '/nas/nas-li20-pm00/E325/2023/20231013/E325_03935/images/PR10571/PR10571_data_step12_0024.tif',\n       '/nas/nas-li20-pm00/E325/2023/20231013/E325_03935/images/PR10571/PR10571_data_step12_0025.tif',\n       '/nas/nas-li20-pm00/E325/2023/20231013/E325_03935/images/PR10571/PR10571_data_step12_0026.tif',\n       '/nas/nas-li20-pm00/E325/2023/20231013/E325_03935/images/PR10571/PR10571_data_step12_0027.tif',\n       '/nas/nas-li20-pm00/E325/2023/20231013/E325_03935/images/PR10571/PR10571_data_step12_0028.tif',\n       '/nas/nas-li20-pm00/E325/2023/20231013/E325_03935/images/PR10571/PR10571_data_step12_0029.tif',\n       '/nas/nas-li20-pm00/E325/2023/20231013/E325_03935/images/PR10571/PR10571_data_step13_0000.tif',\n       '/nas/nas-li20-pm00/E325/2023/20231013/E325_03935/images/PR10571/PR10571_data_step13_0001.tif',\n       '/nas/nas-li20-pm00/E325/2023/20231013/E325_03935/images/PR10571/PR10571_data_step13_0002.tif',\n       '/nas/nas-li20-pm00/E325/2023/20231013/E325_03935/images/PR10571/PR10571_data_step13_0003.tif',\n       '/nas/nas-li20-pm00/E325/2023/20231013/E325_03935/images/PR10571/PR10571_data_step13_0004.tif',\n       '/nas/nas-li20-pm00/E325/2023/20231013/E325_03935/images/PR10571/PR10571_data_step13_0005.tif',\n       '/nas/nas-li20-pm00/E325/2023/20231013/E325_03935/images/PR10571/PR10571_data_step13_0006.tif',\n       '/nas/nas-li20-pm00/E325/2023/20231013/E325_03935/images/PR10571/PR10571_data_step13_0007.tif',\n       '/nas/nas-li20-pm00/E325/2023/20231013/E325_03935/images/PR10571/PR10571_data_step13_0008.tif',\n       '/nas/nas-li20-pm00/E325/2023/20231013/E325_03935/images/PR10571/PR10571_data_step13_0009.tif',\n       '/nas/nas-li20-pm00/E325/2023/20231013/E325_03935/images/PR10571/PR10571_data_step13_0010.tif',\n       '/nas/nas-li20-pm00/E325/2023/20231013/E325_03935/images/PR10571/PR10571_data_step13_0011.tif',\n       '/nas/nas-li20-pm00/E325/2023/20231013/E325_03935/images/PR10571/PR10571_data_step13_0012.tif',\n       '/nas/nas-li20-pm00/E325/2023/20231013/E325_03935/images/PR10571/PR10571_data_step13_0013.tif',\n       '/nas/nas-li20-pm00/E325/2023/20231013/E325_03935/images/PR10571/PR10571_data_step13_0014.tif',\n       '/nas/nas-li20-pm00/E325/2023/20231013/E325_03935/images/PR10571/PR10571_data_step13_0015.tif',\n       '/nas/nas-li20-pm00/E325/2023/20231013/E325_03935/images/PR10571/PR10571_data_step13_0016.tif',\n       '/nas/nas-li20-pm00/E325/2023/20231013/E325_03935/images/PR10571/PR10571_data_step13_0017.tif',\n       '/nas/nas-li20-pm00/E325/2023/20231013/E325_03935/images/PR10571/PR10571_data_step13_0018.tif',\n       '/nas/nas-li20-pm00/E325/2023/20231013/E325_03935/images/PR10571/PR10571_data_step13_0019.tif',\n       '/nas/nas-li20-pm00/E325/2023/20231013/E325_03935/images/PR10571/PR10571_data_step13_0020.tif',\n       '/nas/nas-li20-pm00/E325/2023/20231013/E325_03935/images/PR10571/PR10571_data_step13_0021.tif',\n       '/nas/nas-li20-pm00/E325/2023/20231013/E325_03935/images/PR10571/PR10571_data_step13_0022.tif',\n       '/nas/nas-li20-pm00/E325/2023/20231013/E325_03935/images/PR10571/PR10571_data_step13_0023.tif',\n       '/nas/nas-li20-pm00/E325/2023/20231013/E325_03935/images/PR10571/PR10571_data_step13_0024.tif',\n       '/nas/nas-li20-pm00/E325/2023/20231013/E325_03935/images/PR10571/PR10571_data_step13_0025.tif',\n       '/nas/nas-li20-pm00/E325/2023/20231013/E325_03935/images/PR10571/PR10571_data_step13_0026.tif',\n       '/nas/nas-li20-pm00/E325/2023/20231013/E325_03935/images/PR10571/PR10571_data_step13_0027.tif',\n       '/nas/nas-li20-pm00/E325/2023/20231013/E325_03935/images/PR10571/PR10571_data_step13_0028.tif',\n       '/nas/nas-li20-pm00/E325/2023/20231013/E325_03935/images/PR10571/PR10571_data_step13_0029.tif',\n       '/nas/nas-li20-pm00/E325/2023/20231013/E325_03935/images/PR10571/PR10571_data_step14_0000.tif',\n       '/nas/nas-li20-pm00/E325/2023/20231013/E325_03935/images/PR10571/PR10571_data_step14_0001.tif',\n       '/nas/nas-li20-pm00/E325/2023/20231013/E325_03935/images/PR10571/PR10571_data_step14_0002.tif',\n       '/nas/nas-li20-pm00/E325/2023/20231013/E325_03935/images/PR10571/PR10571_data_step14_0003.tif',\n       '/nas/nas-li20-pm00/E325/2023/20231013/E325_03935/images/PR10571/PR10571_data_step14_0004.tif',\n       '/nas/nas-li20-pm00/E325/2023/20231013/E325_03935/images/PR10571/PR10571_data_step14_0005.tif',\n       '/nas/nas-li20-pm00/E325/2023/20231013/E325_03935/images/PR10571/PR10571_data_step14_0006.tif',\n       '/nas/nas-li20-pm00/E325/2023/20231013/E325_03935/images/PR10571/PR10571_data_step14_0007.tif',\n       '/nas/nas-li20-pm00/E325/2023/20231013/E325_03935/images/PR10571/PR10571_data_step14_0008.tif',\n       '/nas/nas-li20-pm00/E325/2023/20231013/E325_03935/images/PR10571/PR10571_data_step14_0009.tif',\n       '/nas/nas-li20-pm00/E325/2023/20231013/E325_03935/images/PR10571/PR10571_data_step14_0010.tif',\n       '/nas/nas-li20-pm00/E325/2023/20231013/E325_03935/images/PR10571/PR10571_data_step14_0011.tif',\n       '/nas/nas-li20-pm00/E325/2023/20231013/E325_03935/images/PR10571/PR10571_data_step14_0012.tif',\n       '/nas/nas-li20-pm00/E325/2023/20231013/E325_03935/images/PR10571/PR10571_data_step14_0013.tif',\n       '/nas/nas-li20-pm00/E325/2023/20231013/E325_03935/images/PR10571/PR10571_data_step14_0014.tif',\n       '/nas/nas-li20-pm00/E325/2023/20231013/E325_03935/images/PR10571/PR10571_data_step14_0015.tif',\n       '/nas/nas-li20-pm00/E325/2023/20231013/E325_03935/images/PR10571/PR10571_data_step14_0016.tif',\n       '/nas/nas-li20-pm00/E325/2023/20231013/E325_03935/images/PR10571/PR10571_data_step14_0017.tif',\n       '/nas/nas-li20-pm00/E325/2023/20231013/E325_03935/images/PR10571/PR10571_data_step14_0018.tif',\n       '/nas/nas-li20-pm00/E325/2023/20231013/E325_03935/images/PR10571/PR10571_data_step14_0019.tif',\n       '/nas/nas-li20-pm00/E325/2023/20231013/E325_03935/images/PR10571/PR10571_data_step14_0020.tif',\n       '/nas/nas-li20-pm00/E325/2023/20231013/E325_03935/images/PR10571/PR10571_data_step14_0021.tif',\n       '/nas/nas-li20-pm00/E325/2023/20231013/E325_03935/images/PR10571/PR10571_data_step14_0022.tif',\n       '/nas/nas-li20-pm00/E325/2023/20231013/E325_03935/images/PR10571/PR10571_data_step14_0023.tif',\n       '/nas/nas-li20-pm00/E325/2023/20231013/E325_03935/images/PR10571/PR10571_data_step14_0024.tif',\n       '/nas/nas-li20-pm00/E325/2023/20231013/E325_03935/images/PR10571/PR10571_data_step14_0025.tif',\n       '/nas/nas-li20-pm00/E325/2023/20231013/E325_03935/images/PR10571/PR10571_data_step14_0026.tif',\n       '/nas/nas-li20-pm00/E325/2023/20231013/E325_03935/images/PR10571/PR10571_data_step14_0027.tif',\n       '/nas/nas-li20-pm00/E325/2023/20231013/E325_03935/images/PR10571/PR10571_data_step14_0028.tif',\n       '/nas/nas-li20-pm00/E325/2023/20231013/E325_03935/images/PR10571/PR10571_data_step14_0029.tif',\n       '/nas/nas-li20-pm00/E325/2023/20231013/E325_03935/images/PR10571/PR10571_data_step15_0000.tif',\n       '/nas/nas-li20-pm00/E325/2023/20231013/E325_03935/images/PR10571/PR10571_data_step15_0001.tif',\n       '/nas/nas-li20-pm00/E325/2023/20231013/E325_03935/images/PR10571/PR10571_data_step15_0002.tif',\n       '/nas/nas-li20-pm00/E325/2023/20231013/E325_03935/images/PR10571/PR10571_data_step15_0003.tif',\n       '/nas/nas-li20-pm00/E325/2023/20231013/E325_03935/images/PR10571/PR10571_data_step15_0004.tif',\n       '/nas/nas-li20-pm00/E325/2023/20231013/E325_03935/images/PR10571/PR10571_data_step15_0005.tif',\n       '/nas/nas-li20-pm00/E325/2023/20231013/E325_03935/images/PR10571/PR10571_data_step15_0006.tif',\n       '/nas/nas-li20-pm00/E325/2023/20231013/E325_03935/images/PR10571/PR10571_data_step15_0007.tif',\n       '/nas/nas-li20-pm00/E325/2023/20231013/E325_03935/images/PR10571/PR10571_data_step15_0008.tif',\n       '/nas/nas-li20-pm00/E325/2023/20231013/E325_03935/images/PR10571/PR10571_data_step15_0009.tif',\n       '/nas/nas-li20-pm00/E325/2023/20231013/E325_03935/images/PR10571/PR10571_data_step15_0010.tif',\n       '/nas/nas-li20-pm00/E325/2023/20231013/E325_03935/images/PR10571/PR10571_data_step15_0011.tif',\n       '/nas/nas-li20-pm00/E325/2023/20231013/E325_03935/images/PR10571/PR10571_data_step15_0012.tif',\n       '/nas/nas-li20-pm00/E325/2023/20231013/E325_03935/images/PR10571/PR10571_data_step15_0013.tif',\n       '/nas/nas-li20-pm00/E325/2023/20231013/E325_03935/images/PR10571/PR10571_data_step15_0014.tif',\n       '/nas/nas-li20-pm00/E325/2023/20231013/E325_03935/images/PR10571/PR10571_data_step15_0015.tif',\n       '/nas/nas-li20-pm00/E325/2023/20231013/E325_03935/images/PR10571/PR10571_data_step15_0016.tif',\n       '/nas/nas-li20-pm00/E325/2023/20231013/E325_03935/images/PR10571/PR10571_data_step15_0017.tif',\n       '/nas/nas-li20-pm00/E325/2023/20231013/E325_03935/images/PR10571/PR10571_data_step15_0018.tif',\n       '/nas/nas-li20-pm00/E325/2023/20231013/E325_03935/images/PR10571/PR10571_data_step15_0019.tif',\n       '/nas/nas-li20-pm00/E325/2023/20231013/E325_03935/images/PR10571/PR10571_data_step15_0020.tif',\n       '/nas/nas-li20-pm00/E325/2023/20231013/E325_03935/images/PR10571/PR10571_data_step15_0021.tif',\n       '/nas/nas-li20-pm00/E325/2023/20231013/E325_03935/images/PR10571/PR10571_data_step15_0022.tif',\n       '/nas/nas-li20-pm00/E325/2023/20231013/E325_03935/images/PR10571/PR10571_data_step15_0023.tif',\n       '/nas/nas-li20-pm00/E325/2023/20231013/E325_03935/images/PR10571/PR10571_data_step15_0024.tif',\n       '/nas/nas-li20-pm00/E325/2023/20231013/E325_03935/images/PR10571/PR10571_data_step15_0025.tif',\n       '/nas/nas-li20-pm00/E325/2023/20231013/E325_03935/images/PR10571/PR10571_data_step15_0026.tif',\n       '/nas/nas-li20-pm00/E325/2023/20231013/E325_03935/images/PR10571/PR10571_data_step15_0027.tif',\n       '/nas/nas-li20-pm00/E325/2023/20231013/E325_03935/images/PR10571/PR10571_data_step15_0028.tif',\n       '/nas/nas-li20-pm00/E325/2023/20231013/E325_03935/images/PR10571/PR10571_data_step15_0029.tif',\n       '/nas/nas-li20-pm00/E325/2023/20231013/E325_03935/images/PR10571/PR10571_data_step16_0000.tif',\n       '/nas/nas-li20-pm00/E325/2023/20231013/E325_03935/images/PR10571/PR10571_data_step16_0001.tif',\n       '/nas/nas-li20-pm00/E325/2023/20231013/E325_03935/images/PR10571/PR10571_data_step16_0002.tif',\n       '/nas/nas-li20-pm00/E325/2023/20231013/E325_03935/images/PR10571/PR10571_data_step16_0003.tif',\n       '/nas/nas-li20-pm00/E325/2023/20231013/E325_03935/images/PR10571/PR10571_data_step16_0004.tif',\n       '/nas/nas-li20-pm00/E325/2023/20231013/E325_03935/images/PR10571/PR10571_data_step16_0005.tif',\n       '/nas/nas-li20-pm00/E325/2023/20231013/E325_03935/images/PR10571/PR10571_data_step16_0006.tif',\n       '/nas/nas-li20-pm00/E325/2023/20231013/E325_03935/images/PR10571/PR10571_data_step16_0007.tif',\n       '/nas/nas-li20-pm00/E325/2023/20231013/E325_03935/images/PR10571/PR10571_data_step16_0008.tif',\n       '/nas/nas-li20-pm00/E325/2023/20231013/E325_03935/images/PR10571/PR10571_data_step16_0009.tif',\n       '/nas/nas-li20-pm00/E325/2023/20231013/E325_03935/images/PR10571/PR10571_data_step16_0010.tif',\n       '/nas/nas-li20-pm00/E325/2023/20231013/E325_03935/images/PR10571/PR10571_data_step16_0011.tif',\n       '/nas/nas-li20-pm00/E325/2023/20231013/E325_03935/images/PR10571/PR10571_data_step16_0012.tif',\n       '/nas/nas-li20-pm00/E325/2023/20231013/E325_03935/images/PR10571/PR10571_data_step16_0013.tif',\n       '/nas/nas-li20-pm00/E325/2023/20231013/E325_03935/images/PR10571/PR10571_data_step16_0014.tif',\n       '/nas/nas-li20-pm00/E325/2023/20231013/E325_03935/images/PR10571/PR10571_data_step16_0015.tif',\n       '/nas/nas-li20-pm00/E325/2023/20231013/E325_03935/images/PR10571/PR10571_data_step16_0016.tif',\n       '/nas/nas-li20-pm00/E325/2023/20231013/E325_03935/images/PR10571/PR10571_data_step16_0017.tif',\n       '/nas/nas-li20-pm00/E325/2023/20231013/E325_03935/images/PR10571/PR10571_data_step16_0018.tif',\n       '/nas/nas-li20-pm00/E325/2023/20231013/E325_03935/images/PR10571/PR10571_data_step16_0019.tif',\n       '/nas/nas-li20-pm00/E325/2023/20231013/E325_03935/images/PR10571/PR10571_data_step16_0020.tif',\n       '/nas/nas-li20-pm00/E325/2023/20231013/E325_03935/images/PR10571/PR10571_data_step16_0021.tif',\n       '/nas/nas-li20-pm00/E325/2023/20231013/E325_03935/images/PR10571/PR10571_data_step16_0022.tif',\n       '/nas/nas-li20-pm00/E325/2023/20231013/E325_03935/images/PR10571/PR10571_data_step16_0023.tif',\n       '/nas/nas-li20-pm00/E325/2023/20231013/E325_03935/images/PR10571/PR10571_data_step16_0024.tif',\n       '/nas/nas-li20-pm00/E325/2023/20231013/E325_03935/images/PR10571/PR10571_data_step16_0025.tif',\n       '/nas/nas-li20-pm00/E325/2023/20231013/E325_03935/images/PR10571/PR10571_data_step16_0026.tif',\n       '/nas/nas-li20-pm00/E325/2023/20231013/E325_03935/images/PR10571/PR10571_data_step16_0027.tif',\n       '/nas/nas-li20-pm00/E325/2023/20231013/E325_03935/images/PR10571/PR10571_data_step16_0028.tif',\n       '/nas/nas-li20-pm00/E325/2023/20231013/E325_03935/images/PR10571/PR10571_data_step16_0029.tif',\n       '/nas/nas-li20-pm00/E325/2023/20231013/E325_03935/images/PR10571/PR10571_data_step17_0000.tif',\n       '/nas/nas-li20-pm00/E325/2023/20231013/E325_03935/images/PR10571/PR10571_data_step17_0001.tif',\n       '/nas/nas-li20-pm00/E325/2023/20231013/E325_03935/images/PR10571/PR10571_data_step17_0002.tif',\n       '/nas/nas-li20-pm00/E325/2023/20231013/E325_03935/images/PR10571/PR10571_data_step17_0003.tif',\n       '/nas/nas-li20-pm00/E325/2023/20231013/E325_03935/images/PR10571/PR10571_data_step17_0004.tif',\n       '/nas/nas-li20-pm00/E325/2023/20231013/E325_03935/images/PR10571/PR10571_data_step17_0005.tif',\n       '/nas/nas-li20-pm00/E325/2023/20231013/E325_03935/images/PR10571/PR10571_data_step17_0006.tif',\n       '/nas/nas-li20-pm00/E325/2023/20231013/E325_03935/images/PR10571/PR10571_data_step17_0007.tif',\n       '/nas/nas-li20-pm00/E325/2023/20231013/E325_03935/images/PR10571/PR10571_data_step17_0008.tif',\n       '/nas/nas-li20-pm00/E325/2023/20231013/E325_03935/images/PR10571/PR10571_data_step17_0009.tif',\n       '/nas/nas-li20-pm00/E325/2023/20231013/E325_03935/images/PR10571/PR10571_data_step17_0010.tif',\n       '/nas/nas-li20-pm00/E325/2023/20231013/E325_03935/images/PR10571/PR10571_data_step17_0011.tif',\n       '/nas/nas-li20-pm00/E325/2023/20231013/E325_03935/images/PR10571/PR10571_data_step17_0012.tif',\n       '/nas/nas-li20-pm00/E325/2023/20231013/E325_03935/images/PR10571/PR10571_data_step17_0013.tif',\n       '/nas/nas-li20-pm00/E325/2023/20231013/E325_03935/images/PR10571/PR10571_data_step17_0014.tif',\n       '/nas/nas-li20-pm00/E325/2023/20231013/E325_03935/images/PR10571/PR10571_data_step17_0015.tif',\n       '/nas/nas-li20-pm00/E325/2023/20231013/E325_03935/images/PR10571/PR10571_data_step17_0016.tif',\n       '/nas/nas-li20-pm00/E325/2023/20231013/E325_03935/images/PR10571/PR10571_data_step17_0017.tif',\n       '/nas/nas-li20-pm00/E325/2023/20231013/E325_03935/images/PR10571/PR10571_data_step17_0018.tif',\n       '/nas/nas-li20-pm00/E325/2023/20231013/E325_03935/images/PR10571/PR10571_data_step17_0019.tif',\n       '/nas/nas-li20-pm00/E325/2023/20231013/E325_03935/images/PR10571/PR10571_data_step17_0020.tif',\n       '/nas/nas-li20-pm00/E325/2023/20231013/E325_03935/images/PR10571/PR10571_data_step17_0021.tif',\n       '/nas/nas-li20-pm00/E325/2023/20231013/E325_03935/images/PR10571/PR10571_data_step17_0022.tif',\n       '/nas/nas-li20-pm00/E325/2023/20231013/E325_03935/images/PR10571/PR10571_data_step17_0023.tif',\n       '/nas/nas-li20-pm00/E325/2023/20231013/E325_03935/images/PR10571/PR10571_data_step17_0024.tif',\n       '/nas/nas-li20-pm00/E325/2023/20231013/E325_03935/images/PR10571/PR10571_data_step17_0025.tif',\n       '/nas/nas-li20-pm00/E325/2023/20231013/E325_03935/images/PR10571/PR10571_data_step17_0026.tif',\n       '/nas/nas-li20-pm00/E325/2023/20231013/E325_03935/images/PR10571/PR10571_data_step17_0027.tif',\n       '/nas/nas-li20-pm00/E325/2023/20231013/E325_03935/images/PR10571/PR10571_data_step17_0028.tif',\n       '/nas/nas-li20-pm00/E325/2023/20231013/E325_03935/images/PR10571/PR10571_data_step17_0029.tif'],\n      dtype=object)"
     },
     "execution_count": 19,
     "metadata": {},
     "output_type": "execute_result"
    }
   ],
   "source": [
    "data_mat[\"data_struct\"][\"images\"][\"PR10571\"][\"loc\"]"
   ],
   "metadata": {
    "collapsed": false,
    "ExecuteTime": {
     "end_time": "2023-11-10T17:50:01.565524900Z",
     "start_time": "2023-11-10T17:50:01.492190200Z"
    }
   },
   "id": "5e593dc8a1b5831d"
  },
  {
   "cell_type": "code",
   "execution_count": null,
   "outputs": [],
   "source": [],
   "metadata": {
    "collapsed": false
   },
   "id": "dfd6c7fba16af6"
  }
 ],
 "metadata": {
  "kernelspec": {
   "display_name": "Python 3",
   "language": "python",
   "name": "python3"
  },
  "language_info": {
   "codemirror_mode": {
    "name": "ipython",
    "version": 2
   },
   "file_extension": ".py",
   "mimetype": "text/x-python",
   "name": "python",
   "nbconvert_exporter": "python",
   "pygments_lexer": "ipython2",
   "version": "2.7.6"
  }
 },
 "nbformat": 4,
 "nbformat_minor": 5
}
