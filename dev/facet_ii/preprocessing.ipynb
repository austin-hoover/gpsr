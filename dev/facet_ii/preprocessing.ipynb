{
 "cells": [
  {
   "cell_type": "code",
   "execution_count": 1,
   "id": "8b1df855-e982-4b44-967a-49f2ed9a23d3",
   "metadata": {
    "tags": []
   },
   "outputs": [],
   "source": [
    "import numpy as np\n",
    "import torch\n",
    "from phase_space_reconstruction.modeling import ImageDataset"
   ]
  },
  {
   "cell_type": "code",
   "execution_count": 2,
   "id": "e4f65c69-1d41-42a7-a2fd-e4058964ecdc",
   "metadata": {
    "tags": []
   },
   "outputs": [],
   "source": [
    "img_data = np.load(\"image_data.npy\")"
   ]
  },
  {
   "cell_type": "code",
   "execution_count": 3,
   "id": "c1717167-5119-4dac-807c-3a8a13f7bb07",
   "metadata": {},
   "outputs": [],
   "source": [
    "quad_settings = np.load(\"quad_data.npy\")"
   ]
  },
  {
   "cell_type": "code",
   "execution_count": 4,
   "id": "044149be-f56c-4541-bfac-43a213680777",
   "metadata": {},
   "outputs": [],
   "source": [
    "quad_geo_strengths = (quad_settings / 0.108) * (29.98 / 125.1)"
   ]
  },
  {
   "cell_type": "code",
   "execution_count": 5,
   "id": "79e4c08f-2b29-4a61-9aff-9a1c8f128e3f",
   "metadata": {
    "tags": []
   },
   "outputs": [],
   "source": [
    "n_shots = 3\n",
    "quad_geo_strengths = torch.tensor(\n",
    "    quad_geo_strengths\n",
    ").unsqueeze(dim=-1).expand(-1,n_shots).unsqueeze(dim=-1)\n",
    "img_data = torch.tensor(img_data[:,:3])"
   ]
  },
  {
   "cell_type": "code",
   "execution_count": 6,
   "id": "ad26b451-0052-45b7-a442-6a6bc5c7b848",
   "metadata": {
    "tags": []
   },
   "outputs": [
    {
     "name": "stdout",
     "output_type": "stream",
     "text": [
      "torch.Size([11, 3, 1])\n",
      "torch.Size([11, 3, 200, 200])\n"
     ]
    }
   ],
   "source": [
    "print(quad_geo_strengths.shape)\n",
    "print(img_data.shape)"
   ]
  },
  {
   "cell_type": "code",
   "execution_count": 7,
   "id": "a2a19c47-2e9b-441a-860f-13b2cd0397b3",
   "metadata": {
    "tags": []
   },
   "outputs": [],
   "source": [
    "\n",
    "train_dset = ImageDataset(\n",
    "    quad_geo_strengths[::2],\n",
    "    img_data[::2]\n",
    ")\n",
    "test_dset = ImageDataset(\n",
    "    quad_geo_strengths[1::2],\n",
    "    img_data[1::2]\n",
    ")\n",
    "\n"
   ]
  },
  {
   "cell_type": "code",
   "execution_count": 8,
   "id": "8c99b0ce-4c26-437f-9998-ec4b70b49d64",
   "metadata": {
    "tags": []
   },
   "outputs": [],
   "source": [
    "torch.save(train_dset,\"train.dset\")\n",
    "torch.save(test_dset,\"test.dset\")"
   ]
  },
  {
   "cell_type": "code",
   "execution_count": null,
   "id": "0a0c880e-a3d2-4a35-98a6-66e6cc36a7ae",
   "metadata": {},
   "outputs": [],
   "source": []
  }
 ],
 "metadata": {
  "kernelspec": {
   "display_name": "PhaseSpaceReconstruction",
   "language": "python",
   "name": "phase_space_reconstruction"
  },
  "language_info": {
   "codemirror_mode": {
    "name": "ipython",
    "version": 3
   },
   "file_extension": ".py",
   "mimetype": "text/x-python",
   "name": "python",
   "nbconvert_exporter": "python",
   "pygments_lexer": "ipython3",
   "version": "3.10.12"
  }
 },
 "nbformat": 4,
 "nbformat_minor": 5
}
