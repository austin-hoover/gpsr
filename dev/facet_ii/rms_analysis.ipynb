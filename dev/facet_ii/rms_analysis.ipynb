{
 "cells": [
  {
   "cell_type": "code",
   "execution_count": 1,
   "id": "192937b8-c83e-4124-88c0-fa28fcde12e3",
   "metadata": {
    "tags": []
   },
   "outputs": [],
   "source": [
    "import os\n",
    "import torch\n",
    "import matplotlib.pyplot as plt"
   ]
  },
  {
   "cell_type": "code",
   "execution_count": 2,
   "id": "7fbb1e19-2d4d-4493-931d-040446474a0c",
   "metadata": {
    "tags": []
   },
   "outputs": [],
   "source": [
    "data_dir = \".\"\n",
    "train_dset = torch.load(os.path.join(data_dir,'train.dset'))\n",
    "test_dset = torch.load(os.path.join(data_dir,'test.dset'))\n",
    "pred_dset = torch.load(os.path.join(data_dir,'pred.dset'))\n",
    "\n",
    "# note that resolution is doubled due to downsampling data by a factor of 2\n",
    "resolution = 2 * 11.1732 * 1e-6\n",
    "bins_x = torch.arange(-100,100) * resolution"
   ]
  },
  {
   "cell_type": "code",
   "execution_count": 3,
   "id": "fadbad7a-5752-4688-9aea-7f8fd1bf9406",
   "metadata": {
    "tags": []
   },
   "outputs": [],
   "source": [
    "from fitting_methods import fit_gaussian_linear_background\n",
    "import numpy as np\n",
    "\n",
    "def fit_image(img, visualize=False, n_fitting_restarts=50):\n",
    "    x_projection = np.sum(img, axis=0)\n",
    "    y_projection = np.sum(img, axis=1)\n",
    "\n",
    "    # subtract min value from projections\n",
    "    x_projection = x_projection - x_projection[:10].min()\n",
    "    y_projection = y_projection - y_projection[:10].min()\n",
    "\n",
    "    para_x = fit_gaussian_linear_background(\n",
    "        x_projection, visualize=visualize, n_restarts=n_fitting_restarts\n",
    "    )\n",
    "    para_y = fit_gaussian_linear_background(\n",
    "        y_projection, visualize=visualize, n_restarts=n_fitting_restarts\n",
    "    )\n",
    "\n",
    "    return {\n",
    "        \"centroid\": np.array((para_x[1], para_y[1])),\n",
    "        \"rms_sizes\": np.array((para_x[2], para_y[2])),\n",
    "        \"total_intensity\": img.sum(),\n",
    "        \"log10_total_intensity\": np.log10(img.sum()),\n",
    "    }"
   ]
  },
  {
   "cell_type": "code",
   "execution_count": 4,
   "id": "71ed2b4a-3276-451d-aff6-8bc7f89c66d4",
   "metadata": {
    "tags": []
   },
   "outputs": [],
   "source": [
    "import pandas as pd\n",
    "\n",
    "\n",
    "data = []\n",
    "for ele in [train_dset, test_dset, pred_dset]:\n",
    "    k = ele.k.flatten(end_dim=-2)\n",
    "    images = ele.images.flatten(end_dim=-3) \n",
    "    \n",
    "    results = []\n",
    "    for i,img in enumerate(images):\n",
    "        res = fit_image(img.numpy()) | {\"k\":float(k[i])}\n",
    "        res = res | {\"Sx\": res[\"rms_sizes\"][0]*resolution,\"Sy\": res[\"rms_sizes\"][1]*resolution}\n",
    "        results += [res]\n",
    "        \n",
    "    data += [pd.DataFrame(results)]  "
   ]
  },
  {
   "cell_type": "code",
   "execution_count": 5,
   "id": "baedf718-f600-4d26-9b9b-28bd6d180c4b",
   "metadata": {
    "tags": []
   },
   "outputs": [
    {
     "data": {
      "image/png": "[encoded data removed]",
      "text/plain": [
       "<Figure size 640x480 with 1 Axes>"
      ]
     },
     "metadata": {},
     "output_type": "display_data"
    }
   ],
   "source": [
    "fig,ax = plt.subplots()\n",
    "\n",
    "for i, ele in enumerate(data):\n",
    "    ele.plot.scatter(x=\"k\",y=\"Sx\",ax=ax,c=f\"C{i}\")\n"
   ]
  },
  {
   "cell_type": "code",
   "execution_count": 6,
   "id": "e12a5de7-be3b-4f24-a1a4-a15db7248042",
   "metadata": {
    "tags": []
   },
   "outputs": [],
   "source": [
    "from emitopt.analysis import compute_emit_bayesian, compute_emit_bmag, normalize_emittance\n",
    "from emitopt.beam_dynamics import reconstruct_beam_matrix"
   ]
  },
  {
   "cell_type": "code",
   "execution_count": 7,
   "id": "b14b12d1-cca8-4b1c-a13b-c770156d9d85",
   "metadata": {
    "tags": []
   },
   "outputs": [
    {
     "name": "stdout",
     "output_type": "stream",
     "text": [
      "tensor(2.6081, dtype=torch.float64)\n",
      "tensor(5.3734, dtype=torch.float64)\n",
      "tensor(2.5356, dtype=torch.float64)\n",
      "tensor(4.7903, dtype=torch.float64)\n",
      "tensor(2.9503, dtype=torch.float64)\n",
      "tensor(4.8307, dtype=torch.float64)\n"
     ]
    }
   ],
   "source": [
    "\n",
    "l_drift = 2.7016\n",
    "rmat = torch.tensor((\n",
    "    (1.0, l_drift), \n",
    "    (0.0, 1.0)\n",
    "))\n",
    "\n",
    "for ele in data:\n",
    "    xemit_results = compute_emit_bmag(\n",
    "        -torch.tensor(ele[\"k\"].to_numpy()) + 0.0001,\n",
    "        (torch.tensor(ele[\"Sx\"].to_numpy())*1e3)**2, # do everythin in mm\n",
    "        0.108,\n",
    "        rmat,\n",
    "        thick=False\n",
    "    )\n",
    "    print(normalize_emittance(xemit_results[0], 0.125))\n",
    "    \n",
    "    yemit_results = compute_emit_bmag(\n",
    "        torch.tensor(ele[\"k\"].to_numpy()) + 0.0001,\n",
    "        (torch.tensor(ele[\"Sy\"].to_numpy())*1e3)**2,\n",
    "        0.108,\n",
    "        rmat,\n",
    "        thick=False,\n",
    "    )\n",
    "    print(normalize_emittance(yemit_results[0], 0.125))"
   ]
  },
  {
   "cell_type": "code",
   "execution_count": null,
   "id": "b83badaf-d8eb-4252-986b-e8386138b17e",
   "metadata": {
    "tags": []
   },
   "outputs": [],
   "source": [
    " "
   ]
  },
  {
   "cell_type": "code",
   "execution_count": null,
   "id": "ef687d2d-6c93-41ff-ba14-fa2bc5b15415",
   "metadata": {},
   "outputs": [],
   "source": []
  }
 ],
 "metadata": {
  "kernelspec": {
   "display_name": "PhaseSpaceReconstruction",
   "language": "python",
   "name": "phase_space_reconstruction"
  },
  "language_info": {
   "codemirror_mode": {
    "name": "ipython",
    "version": 3
   },
   "file_extension": ".py",
   "mimetype": "text/x-python",
   "name": "python",
   "nbconvert_exporter": "python",
   "pygments_lexer": "ipython3",
   "version": "3.10.12"
  }
 },
 "nbformat": 4,
 "nbformat_minor": 5
}
