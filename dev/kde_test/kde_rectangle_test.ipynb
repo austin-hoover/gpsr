{
 "cells": [
  {
   "cell_type": "code",
   "execution_count": 1,
   "metadata": {},
   "outputs": [],
   "source": [
    "import torch\n",
    "from torch.profiler import profile, record_function, ProfilerActivity"
   ]
  },
  {
   "cell_type": "code",
   "execution_count": 2,
   "metadata": {},
   "outputs": [],
   "source": [
    "def kde(samples, locations, bandwidth):\n",
    "    print(f'samples shape: {samples.shape}')\n",
    "    print(f'locations shape: {locations.shape}')\n",
    "    print(f'bandwidth: {bandwidth}')\n",
    "\n",
    "    all_samples = samples.reshape(samples.shape + (1,) * len(locations.shape[:-1]))\n",
    "    print(f'all_samples shape: {all_samples.shape}')\n",
    "\n",
    "    samples_copies = all_samples - torch.movedim(locations, -1, 0)\n",
    "    print(f'samples_copies shape: {samples_copies.shape}')\n",
    "\n",
    "    diff = torch.norm(\n",
    "        samples_copies,\n",
    "        dim=-len(locations.shape[:-1]) - 1,\n",
    "    )\n",
    "    print(f'diff shape: {diff.shape}')\n",
    "\n",
    "    out = (-diff ** 2 / (2.0 * bandwidth ** 2)).exp().sum(dim=len(\n",
    "                samples.shape)-2)\n",
    "    print(f'out shape: {out.shape}')\n",
    "\n",
    "    norm = out.flatten(start_dim=len(locations.shape)-2).sum(dim=-1)\n",
    "    print(f'norm shape: {norm.shape}')\n",
    "\n",
    "    result = out / norm.reshape(-1, *(1,)*(len(locations.shape)-1))\n",
    "    print(f'result shape: {result.shape}')\n",
    "    return result\n"
   ]
  },
  {
   "cell_type": "code",
   "execution_count": 5,
   "metadata": {},
   "outputs": [
    {
     "name": "stdout",
     "output_type": "stream",
     "text": [
      "samples shape: torch.Size([20, 1000, 2])\n",
      "locations shape: torch.Size([200, 200, 2])\n",
      "bandwidth: 0.5\n",
      "all_samples shape: torch.Size([20, 1000, 2, 1, 1])\n"
     ]
    },
    {
     "name": "stderr",
     "output_type": "stream",
     "text": [
      "STAGE:2023-07-02 12:16:35 138458:138458 ActivityProfilerController.cpp:311] Completed Stage: Warm Up\n"
     ]
    },
    {
     "name": "stdout",
     "output_type": "stream",
     "text": [
      "samples_copies shape: torch.Size([20, 1000, 2, 200, 200])\n",
      "diff shape: torch.Size([20, 1000, 200, 200])\n",
      "out shape: torch.Size([20, 200, 200])\n",
      "norm shape: torch.Size([20])\n",
      "result shape: torch.Size([20, 200, 200])\n",
      "----------------------------  ------------  ------------  ------------  ------------  ------------  ------------  ------------  ------------  \n",
      "                        Name    Self CPU %      Self CPU   CPU total %     CPU total  CPU time avg       CPU Mem  Self CPU Mem    # of Calls  \n",
      "----------------------------  ------------  ------------  ------------  ------------  ------------  ------------  ------------  ------------  \n",
      "                   aten::sub        29.50%     401.357ms        29.50%     401.357ms     401.357ms       5.96 Gb       5.96 Gb             1  \n",
      "                   aten::div         9.54%     129.718ms         9.54%     129.736ms      64.868ms       2.98 Gb       2.98 Gb             2  \n",
      "    aten::linalg_vector_norm        29.03%     394.917ms        29.03%     394.920ms     394.920ms       2.98 Gb       2.98 Gb             1  \n",
      "                   aten::pow         9.33%     126.888ms         9.33%     126.889ms     126.889ms       2.98 Gb       2.98 Gb             1  \n",
      "                   aten::neg         9.38%     127.650ms         9.38%     127.650ms     127.650ms       2.98 Gb       2.98 Gb             1  \n",
      "                   aten::exp         9.75%     132.693ms         9.75%     132.693ms     132.693ms       2.98 Gb       2.98 Gb             1  \n",
      "                   aten::sum         3.44%      46.806ms         3.46%      47.010ms      23.505ms       3.05 Mb       3.05 Mb             2  \n",
      "         aten::empty_strided         0.00%       3.000us         0.00%       3.000us       3.000us           4 b           4 b             1  \n",
      "               aten::reshape         0.00%      12.000us         0.00%      23.000us      11.500us           0 b           0 b             2  \n",
      "        aten::_reshape_alias         0.00%      20.000us         0.00%      20.000us       6.667us           0 b           0 b             3  \n",
      "----------------------------  ------------  ------------  ------------  ------------  ------------  ------------  ------------  ------------  \n",
      "Self CPU time total: 1.360s\n",
      "\n"
     ]
    },
    {
     "name": "stderr",
     "output_type": "stream",
     "text": [
      "STAGE:2023-07-02 12:16:37 138458:138458 ActivityProfilerController.cpp:317] Completed Stage: Collection\n",
      "STAGE:2023-07-02 12:16:37 138458:138458 ActivityProfilerController.cpp:321] Completed Stage: Post Processing\n"
     ]
    }
   ],
   "source": [
    "samples = torch.ones((20, 1000, 2))\n",
    "bins = torch.linspace(-30, 30, 200) * 1e-3\n",
    "bandwidth = (bins[1]-bins[0]) / 2\n",
    "xx = torch.meshgrid(bins, bins, indexing='ij') \n",
    "locations = torch.stack(xx, dim=-1)\n",
    "\n",
    "with profile(activities=[ProfilerActivity.CPU],\n",
    "        profile_memory=True) as prof:\n",
    "    hist = kde(samples, locations, bandwidth)\n",
    "\n",
    "prof.export_chrome_trace(\"kde_rectangle.json\")\n",
    "\n",
    "print(prof.key_averages().table(sort_by=\"self_cpu_memory_usage\", row_limit=10))"
   ]
  }
 ],
 "metadata": {
  "kernelspec": {
   "display_name": "phase_space_reconstruction",
   "language": "python",
   "name": "python3"
  },
  "language_info": {
   "codemirror_mode": {
    "name": "ipython",
    "version": 3
   },
   "file_extension": ".py",
   "mimetype": "text/x-python",
   "name": "python",
   "nbconvert_exporter": "python",
   "pygments_lexer": "ipython3",
   "version": "3.10.12"
  },
  "orig_nbformat": 4
 },
 "nbformat": 4,
 "nbformat_minor": 2
}
