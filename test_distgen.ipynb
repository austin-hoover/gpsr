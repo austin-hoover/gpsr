{
 "cells": [
  {
   "cell_type": "code",
   "execution_count": 1,
   "outputs": [
    {
     "ename": "AssertionError",
     "evalue": "ERROR: parsing unsuccessful, could not read beams/gaussian.yaml",
     "output_type": "error",
     "traceback": [
      "\u001B[1;31m---------------------------------------------------------------------------\u001B[0m",
      "\u001B[1;31mAssertionError\u001B[0m                            Traceback (most recent call last)",
      "Input \u001B[1;32mIn [1]\u001B[0m, in \u001B[0;36m<cell line: 7>\u001B[1;34m()\u001B[0m\n\u001B[0;32m      4\u001B[0m \u001B[38;5;28;01mfrom\u001B[39;00m \u001B[38;5;21;01mdistgen\u001B[39;00m \u001B[38;5;28;01mimport\u001B[39;00m Generator\n\u001B[0;32m      6\u001B[0m \u001B[38;5;66;03m# create beam\u001B[39;00m\n\u001B[1;32m----> 7\u001B[0m gen \u001B[38;5;241m=\u001B[39m \u001B[43mGenerator\u001B[49m\u001B[43m(\u001B[49m\u001B[38;5;124;43m\"\u001B[39;49m\u001B[38;5;124;43mbeams/gaussian.yaml\u001B[39;49m\u001B[38;5;124;43m\"\u001B[39;49m\u001B[43m)\u001B[49m\n",
      "File \u001B[1;32mC:\\ProgramData\\Miniconda3\\envs\\phase_space_reconstruction\\lib\\site-packages\\distgen\\generator.py:63\u001B[0m, in \u001B[0;36mGenerator.__init__\u001B[1;34m(self, *args, **kwargs)\u001B[0m\n\u001B[0;32m     60\u001B[0m \u001B[38;5;28mself\u001B[39m\u001B[38;5;241m.\u001B[39mparticles \u001B[38;5;241m=\u001B[39m \u001B[38;5;28;01mNone\u001B[39;00m\n\u001B[0;32m     62\u001B[0m \u001B[38;5;28;01mif\u001B[39;00m \u001B[38;5;28mself\u001B[39m\u001B[38;5;241m.\u001B[39minput_file:\n\u001B[1;32m---> 63\u001B[0m     \u001B[38;5;28;43mself\u001B[39;49m\u001B[38;5;241;43m.\u001B[39;49m\u001B[43mparse_input\u001B[49m\u001B[43m(\u001B[49m\u001B[38;5;28;43mself\u001B[39;49m\u001B[38;5;241;43m.\u001B[39;49m\u001B[43minput_file\u001B[49m\u001B[43m)\u001B[49m\n\u001B[0;32m     64\u001B[0m     \u001B[38;5;28mself\u001B[39m\u001B[38;5;241m.\u001B[39mconfigure()\n",
      "File \u001B[1;32mC:\\ProgramData\\Miniconda3\\envs\\phase_space_reconstruction\\lib\\site-packages\\distgen\\generator.py:88\u001B[0m, in \u001B[0;36mGenerator.parse_input\u001B[1;34m(self, input)\u001B[0m\n\u001B[0;32m     85\u001B[0m     \u001B[38;5;28;01melse\u001B[39;00m:\n\u001B[0;32m     86\u001B[0m         \u001B[38;5;66;03m#Try raw string\u001B[39;00m\n\u001B[0;32m     87\u001B[0m         \u001B[38;5;28minput\u001B[39m \u001B[38;5;241m=\u001B[39m yaml\u001B[38;5;241m.\u001B[39msafe_load(\u001B[38;5;28minput\u001B[39m)\n\u001B[1;32m---> 88\u001B[0m         \u001B[38;5;28;01massert\u001B[39;00m \u001B[38;5;28misinstance\u001B[39m(\u001B[38;5;28minput\u001B[39m, \u001B[38;5;28mdict\u001B[39m), \u001B[38;5;124mf\u001B[39m\u001B[38;5;124m'\u001B[39m\u001B[38;5;124mERROR: parsing unsuccessful, could not read \u001B[39m\u001B[38;5;132;01m{\u001B[39;00m\u001B[38;5;28minput\u001B[39m\u001B[38;5;132;01m}\u001B[39;00m\u001B[38;5;124m'\u001B[39m\n\u001B[0;32m     89\u001B[0m         expand_input_filepaths(\u001B[38;5;28minput\u001B[39m)\n\u001B[0;32m     91\u001B[0m \u001B[38;5;28mself\u001B[39m\u001B[38;5;241m.\u001B[39minput \u001B[38;5;241m=\u001B[39m \u001B[38;5;28minput\u001B[39m\n",
      "\u001B[1;31mAssertionError\u001B[0m: ERROR: parsing unsuccessful, could not read beams/gaussian.yaml"
     ]
    }
   ],
   "source": [
    "import time\n",
    "\n",
    "import matplotlib.pyplot as plt\n",
    "import torch.nn\n",
    "from distgen import Generator\n",
    "\n",
    "# create beam\n",
    "gen = Generator(\"beams/gaussian.yaml\")\n",
    "\n"
   ],
   "metadata": {
    "collapsed": false,
    "pycharm": {
     "name": "#%%\n"
    }
   }
  },
  {
   "cell_type": "code",
   "execution_count": 8,
   "outputs": [
    {
     "ename": "TypeError",
     "evalue": "getattr expected at least 2 arguments, got 1",
     "output_type": "error",
     "traceback": [
      "\u001B[1;31m---------------------------------------------------------------------------\u001B[0m",
      "\u001B[1;31mTypeError\u001B[0m                                 Traceback (most recent call last)",
      "Input \u001B[1;32mIn [8]\u001B[0m, in \u001B[0;36m<cell line: 3>\u001B[1;34m()\u001B[0m\n\u001B[0;32m      1\u001B[0m \u001B[38;5;28;01mfrom\u001B[39;00m \u001B[38;5;21;01mtrack\u001B[39;00m \u001B[38;5;28;01mimport\u001B[39;00m Quadrupole\n\u001B[0;32m      2\u001B[0m \u001B[38;5;28;01mimport\u001B[39;00m \u001B[38;5;21;01minspect\u001B[39;00m\n\u001B[1;32m----> 3\u001B[0m \u001B[38;5;28;43mgetattr\u001B[39;49m\u001B[43m(\u001B[49m\u001B[43mQuadrupole\u001B[49m\u001B[43m)\u001B[49m\n",
      "\u001B[1;31mTypeError\u001B[0m: getattr expected at least 2 arguments, got 1"
     ]
    }
   ],
   "source": [
    "from track import Quadrupole\n",
    "import inspect\n",
    "getattr(Quadrupole)"
   ],
   "metadata": {
    "collapsed": false,
    "pycharm": {
     "name": "#%%\n"
    }
   }
  },
  {
   "cell_type": "code",
   "execution_count": null,
   "outputs": [],
   "source": [
    "# create a torch module from named tuple\n",
    "import torch\n",
    "\n",
    "def create_torch_version(named_tuple):\n",
    "\n",
    "    def constructor(self, arg):\n",
    "        super(self).__init__()\n",
    "        for name, val in arg.items():\n",
    "            self.register_parameter(name, val)\n",
    "\n",
    "    TQuad = type(\"TQuad\", (torch.nn.Module,),{\"__init__\":constructor})\n",
    "\n",
    "\n"
   ],
   "metadata": {
    "collapsed": false,
    "pycharm": {
     "name": "#%%\n"
    }
   }
  }
 ],
 "metadata": {
  "kernelspec": {
   "display_name": "Python 3",
   "language": "python",
   "name": "python3"
  },
  "language_info": {
   "codemirror_mode": {
    "name": "ipython",
    "version": 2
   },
   "file_extension": ".py",
   "mimetype": "text/x-python",
   "name": "python",
   "nbconvert_exporter": "python",
   "pygments_lexer": "ipython2",
   "version": "2.7.6"
  }
 },
 "nbformat": 4,
 "nbformat_minor": 0
}