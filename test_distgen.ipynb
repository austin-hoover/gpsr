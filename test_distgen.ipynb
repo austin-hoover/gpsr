{
 "cells": [
  {
   "cell_type": "code",
   "execution_count": 6,
   "outputs": [
    {
     "name": "stderr",
     "output_type": "stream",
     "text": [
      "C:\\ProgramData\\Miniconda3\\envs\\phase_space_reconstruction\\lib\\site-packages\\distgen\\generator.py:150: UserWarning: Ignoring user specified t distribution for time start.\n",
      "  warnings.warn('Ignoring user specified t distribution for time start.')\n"
     ]
    },
    {
     "data": {
      "text/plain": "10000.000040444358 <Unit('millimeter')>",
      "text/html": "10000.000040444358 millimeter",
      "text/latex": "$10000.000040444358\\ \\mathrm{millimeter}$"
     },
     "execution_count": 6,
     "metadata": {},
     "output_type": "execute_result"
    }
   ],
   "source": [
    "import time\n",
    "\n",
    "import matplotlib.pyplot as plt\n",
    "from distgen import Generator\n",
    "\n",
    "# create beam\n",
    "gen = Generator(\"beams/gaussian.yaml\")\n",
    "gen.run()\n",
    "particles_1 = gen.beam()\n",
    "particles_1.Beta(\"x\")\n",
    "particles_1.Beta(\"y\")\n"
   ],
   "metadata": {
    "collapsed": false,
    "pycharm": {
     "name": "#%%\n"
    }
   }
  },
  {
   "cell_type": "code",
   "execution_count": null,
   "outputs": [],
   "source": [],
   "metadata": {
    "collapsed": false,
    "pycharm": {
     "name": "#%%\n"
    }
   }
  }
 ],
 "metadata": {
  "kernelspec": {
   "display_name": "Python 3",
   "language": "python",
   "name": "python3"
  },
  "language_info": {
   "codemirror_mode": {
    "name": "ipython",
    "version": 2
   },
   "file_extension": ".py",
   "mimetype": "text/x-python",
   "name": "python",
   "nbconvert_exporter": "python",
   "pygments_lexer": "ipython2",
   "version": "2.7.6"
  }
 },
 "nbformat": 4,
 "nbformat_minor": 0
}