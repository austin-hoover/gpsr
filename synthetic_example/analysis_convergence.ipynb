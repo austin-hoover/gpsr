{
 "cells": [
  {
   "cell_type": "code",
   "execution_count": 1,
   "metadata": {
    "pycharm": {
     "name": "#%%\n"
    },
    "tags": []
   },
   "outputs": [
    {
     "name": "stderr",
     "output_type": "stream",
     "text": [
      "/global/homes/r/rroussel/.conda/envs/phase_space_reconstruction/lib/python3.10/site-packages/tqdm/auto.py:22: TqdmWarning: IProgress not found. Please update jupyter and ipywidgets. See https://ipywidgets.readthedocs.io/en/stable/user_install.html\n",
      "  from .autonotebook import tqdm as notebook_tqdm\n"
     ]
    }
   ],
   "source": [
    "import torch\n",
    "import matplotlib.pyplot as plt\n",
    "import sys\n",
    "sys.path.append(\"../\")\n",
    "\n",
    "data = torch.load(\"alpha_1000/loss_log.pt\")[::2]\n",
    "\n",
    "#train_dset = torch.load(\"alpha_1e-3/train.dset\")\n",
    "#print(len(train_dset))\n",
    "folder = \"../test_case_4/\"\n",
    "\n",
    "gt_initial_beam = torch.load(folder + \"ground_truth_dist.pt\")\n"
   ]
  },
  {
   "cell_type": "code",
   "execution_count": 2,
   "metadata": {
    "collapsed": false,
    "jupyter": {
     "outputs_hidden": false
    },
    "pycharm": {
     "name": "#%%\n"
    }
   },
   "outputs": [
    {
     "name": "stdout",
     "output_type": "stream",
     "text": [
      "tensor(2.0000e-06, dtype=torch.float64)\n",
      "tensor(1.5600e-05, dtype=torch.float64)\n",
      "tensor(6.7082e-05, dtype=torch.float64)\n",
      "tensor(2.0973e-06, device='cuda:0', grad_fn=<SelectBackward0>)\n",
      "tensor(1.7432e-05, device='cuda:0', grad_fn=<SelectBackward0>)\n",
      "tensor(0.0316, device='cuda:0', grad_fn=<SelectBackward0>)\n"
     ]
    }
   ],
   "source": [
    "# get predicted covariances\n",
    "cov = torch.cat([ele[-2].unsqueeze(0) for ele in data]) / 1e6\n",
    "total_loss = torch.cat([(ele[0] + ele[1]).unsqueeze(0) for ele in data])\n",
    "total_loss = total_loss - total_loss.min()\n",
    "\n",
    "# iteration number\n",
    "t = torch.arange(len(cov))\n",
    "\n",
    "# get gt cov\n",
    "gt_cov = torch.cov(gt_initial_beam.T)\n",
    "gt_rms = torch.diag(gt_cov)\n",
    "\n",
    "gt_emits = []\n",
    "for i in range(3):\n",
    "    g = i*2\n",
    "    gt_emits.append(torch.det(gt_cov[g:g+2,g:g+2]).sqrt())\n",
    "    print(gt_emits[-1])\n",
    "\n",
    "emits = []\n",
    "for i in range(3):\n",
    "    g = i*2\n",
    "    emits.append(torch.det(cov[:, g:g+2,g:g+2]).sqrt())\n",
    "    print(emits[-1][-1])\n",
    "    \n",
    "    \n",
    "# calculate learning rate\n",
    "initial_lr = 0.001\n",
    "n_models = 5\n",
    "total_iterations = len(cov)\n",
    "train_period = int(total_iterations / n_models)\n",
    "\n",
    "lr = 0.5*initial_lr * (torch.cos(3.14*torch.remainder(t-1,train_period) / train_period) + 1.0)\n",
    "lr = torch.clip(lr, 0.0001)"
   ]
  },
  {
   "cell_type": "code",
   "execution_count": 14,
   "metadata": {
    "collapsed": false,
    "jupyter": {
     "outputs_hidden": false
    },
    "pycharm": {
     "name": "#%%\n"
    }
   },
   "outputs": [
    {
     "data": {
      "image/png": "[encoded data removed]",
      "text/plain": [
       "<Figure size 244.8x288 with 3 Axes>"
      ]
     },
     "metadata": {
      "needs_background": "light"
     },
     "output_type": "display_data"
    }
   ],
   "source": [
    "# plot emit_x\n",
    "\n",
    "\n",
    "fig,(ax_lr, ax, ax2) = plt.subplots(3,1, sharex=\"all\", gridspec_kw={\"right\": 0.975, \"hspace\":0.1,\"left\":0.175,\"top\":0.975,\"bottom\":0.1,\"height_ratios\":[0.3,1.,1.]})\n",
    "fig.set_size_inches(3.4,4)\n",
    "labels = [\"x\", \"y\", \"z\"]\n",
    "lw=1.0\n",
    "mean_energy = 1\n",
    "emit_scale = 1e6\n",
    "ax_lr.plot(t, lr,lw=lw)\n",
    "ax_lr.set_yscale(\"log\")\n",
    "ax_lr.set_ylabel(r\"$ \\alpha $\")\n",
    "\n",
    "for i in range(3):\n",
    "    ax.semilogy(t, emits[i].cpu().detach() * emit_scale / mean_energy,\n",
    "                label=f\"$\\epsilon_{{{labels[i]},n}}$\",\n",
    "                c=f\"C{i}\",lw=lw)\n",
    "    ax.axhline(gt_emits[i].cpu().detach() * emit_scale / mean_energy,ls='--',c=f\"C{i}\",lw=lw)\n",
    "\n",
    "\n",
    "sigmas = []\n",
    "labels = [\"x\", \"px\", \"y\", \"py\", \"z\", \"pz\"]\n",
    "units = [\"mm\", \"mrad\"]\n",
    "\n",
    "from matplotlib import colors\n",
    "\n",
    "cs = [colors.to_rgba(f\"C{i}\") for i in [0,1,2]]\n",
    "cs = [[ele, [*ele[:3] ,0.75]] for ele in cs]\n",
    "from itertools import chain\n",
    "\n",
    "cs = list(chain.from_iterable(cs))\n",
    "\n",
    "sigma_scale = 1e3\n",
    "for i in range(6):\n",
    "    sigmas.append(cov[:,i,i].sqrt())\n",
    "    ax2.semilogy(t, sigmas[-1].cpu().detach() * sigma_scale,\n",
    "                 label=f\"$\\sigma_{{{labels[i]}}}$ ({units[i % 2]})\",\n",
    "                c=cs[i],lw=lw)\n",
    "    ax2.axhline(gt_rms[i].sqrt()*sigma_scale, ls='--', c=cs[i],lw=lw)\n",
    "\n",
    "\n",
    "# add locations of snapshots\n",
    "for ele in t[train_period::train_period-1]:\n",
    "    for a in [ax_lr, ax, ax2]:\n",
    "        a.axvline(ele, c = \"C7\",alpha=0.25)\n",
    "    \n",
    "ax.set_ylabel(\"$\\epsilon_n$ (mm mrad)\")\n",
    "ax2.set_ylabel(\"$\\sigma$ \")\n",
    "ax2.set_xlabel(\"iteration\")\n",
    "fontsize = 7\n",
    "handletextpad = 0.4\n",
    "ax.legend(ncol=3, handlelength=1.0, columnspacing=0.5, fontsize=fontsize, handletextpad=handletextpad,loc=4)\n",
    "ax2.legend(ncol=3, handlelength=1.0, columnspacing=0.5, fontsize=fontsize, handletextpad=handletextpad,loc=4)\n",
    "#fig.tight_layout()\n",
    "fig.savefig(\"convergence.svg\")\n",
    "fig.savefig(\"convergence.png\", dpi=300)\n"
   ]
  },
  {
   "cell_type": "markdown",
   "metadata": {
    "pycharm": {
     "name": "#%% md\n"
    }
   },
   "source": []
  },
  {
   "cell_type": "code",
   "execution_count": null,
   "metadata": {
    "collapsed": false,
    "jupyter": {
     "outputs_hidden": false
    },
    "pycharm": {
     "name": "#%%\n"
    }
   },
   "outputs": [],
   "source": []
  },
  {
   "cell_type": "code",
   "execution_count": null,
   "metadata": {
    "collapsed": false,
    "jupyter": {
     "outputs_hidden": false
    },
    "pycharm": {
     "name": "#%%\n"
    }
   },
   "outputs": [],
   "source": [
    "sigmas = []\n",
    "fig,ax = plt.subplots()\n",
    "labels = [\"x\", \"px\", \"y\", \"py\", \"z\", \"pz\"]\n",
    "for i in range(6):\n",
    "    sigmas.append(cov[:,i,i].sqrt())\n",
    "    ax.semilogy(sigmas[-1].cpu().detach(),label=f\"$\\sigma_{{{labels[i]}}}$\",\n",
    "                c=f\"C{i}\")\n",
    "    ax.axhline(gt_rms[i].sqrt(), ls='--', c=f\"C{i}\")\n",
    "\n",
    "print(gt_rms[-i].sqrt())\n",
    "ax.legend()"
   ]
  },
  {
   "cell_type": "code",
   "execution_count": null,
   "metadata": {
    "collapsed": false,
    "jupyter": {
     "outputs_hidden": false
    },
    "pycharm": {
     "name": "#%%\n"
    }
   },
   "outputs": [],
   "source": []
  }
 ],
 "metadata": {
  "kernelspec": {
   "display_name": "Python 3 (ipykernel)",
   "language": "python",
   "name": "python3"
  },
  "language_info": {
   "codemirror_mode": {
    "name": "ipython",
    "version": 3
   },
   "file_extension": ".py",
   "mimetype": "text/x-python",
   "name": "python",
   "nbconvert_exporter": "python",
   "pygments_lexer": "ipython3",
   "version": "3.10.4"
  }
 },
 "nbformat": 4,
 "nbformat_minor": 4
}
